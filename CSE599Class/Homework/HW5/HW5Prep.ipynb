{
 "cells": [
  {
   "cell_type": "code",
   "execution_count": 1,
   "metadata": {
    "collapsed": false
   },
   "outputs": [
    {
     "name": "stderr",
     "output_type": "stream",
     "text": [
      "/Users/alexeygilman/anaconda/lib/python3.4/site-packages/matplotlib/__init__.py:872: UserWarning: axes.color_cycle is deprecated and replaced with axes.prop_cycle; please use the latter.\n",
      "  warnings.warn(self.msg_depr % (key, alt_key))\n"
     ]
    }
   ],
   "source": [
    "import wget\n",
    "import os\n",
    "import zipfile\n",
    "import pandas as pd\n",
    "import matplotlib.pyplot as plt\n",
    "import seaborn; seaborn.set()\n",
    "import http.client\n",
    "import urllib.parse\n",
    "import wget\n",
    "import urllib3\n",
    "import urllib.request"
   ]
  },
  {
   "cell_type": "code",
   "execution_count": 2,
   "metadata": {
    "collapsed": true
   },
   "outputs": [],
   "source": [
    "def download_if_needed(url,filename):\n",
    "    \"\"\"\n",
    "    if file isnt on the computer in pwd, this will download or\n",
    "    tell you that it already exists\n",
    "    \"\"\"\n",
    "    if os.path.exists(filename):\n",
    "        print(filename, \"already exists\")\n",
    "    else:\n",
    "        print(\"downloading\", filename)\n",
    "        wget.download(url)\n",
    "\n",
    "        \n",
    "        \n",
    "def get_pronto_data():\n",
    "    \"\"\"\n",
    "    The download if needed function specific for the pronto data url\n",
    "    \"\"\"\n",
    "\n",
    "    download_if_needed(\"https://s3.amazonaws.com/pronto-data/open_data_year_one.zip\",\n",
    "                       \"open_data_year_one.zip\")\n",
    "    \n",
    "def get_trip_data():\n",
    "    \"\"\"\n",
    "    returns dataframe of the trip data csv from zipfile without extraction\n",
    "    \"\"\"\n",
    "    get_pronto_data()\n",
    "    zf = zipfile.ZipFile(\"open_data_year_one.zip\")\n",
    "    file_handle = zf.open(\"2015_trip_data.csv\")\n",
    "    return pd.read_csv(file_handle)\n",
    "\n",
    "\n",
    "def get_weather_data():\n",
    "    \"\"\"\n",
    "    returns weather data from the pronto csv file\n",
    "    \"\"\"\n",
    "    get_pronto_data()\n",
    "    zf = zipfile.ZipFile(\"open_data_year_one.zip\")\n",
    "    file_handle = zf.open(\"2015_weather_data.csv\")\n",
    "    return pd.read_csv(file_handle)\n",
    "\n",
    "\n",
    "\n",
    "def joined_weather_and_trips():\n",
    "\n",
    "    \"\"\"\n",
    "    Cleaning and joining both the trips and weather data\n",
    "    \"\"\"\n",
    "    #accessing trips and weather data\n",
    "\n",
    "    trips = get_trip_data()\n",
    "    weather = get_weather_data()\n",
    "\n",
    "    #setting the index of trips\n",
    "\n",
    "    trip_times = pd.DatetimeIndex(trips[\"starttime\"])\n",
    "    trips.index = trip_times.date\n",
    "\n",
    "    # A pivot table is a two dimensional array\n",
    "    datetime = pd.DatetimeIndex(trips[\"starttime\"])\n",
    "    trips_by_day = trips.pivot_table(\"trip_id\", index = datetime.date,\n",
    "                                     columns = \"usertype\", aggfunc = \"count\" )\n",
    "\n",
    "\n",
    "    #cleaning up weather and setting index\n",
    "\n",
    "    weather = weather.iloc[:-1]\n",
    "    weather_times = pd.DatetimeIndex(weather[\"Date\"])\n",
    "    weather.index = weather_times.date\n",
    "\n",
    "    #joining trips and weather data\n",
    "    return weather.join(trips_by_day)\n"
   ]
  },
  {
   "cell_type": "code",
   "execution_count": null,
   "metadata": {
    "collapsed": true
   },
   "outputs": [],
   "source": [
    "def ploting_joined_totals():\n",
    "    data = joined_weather_and_trips()\n",
    "    fig, ax = plt.subplots(2, figsize = (14,6), sharex = True)\n",
    "    data[\"Annual Member\"].plot(ax = ax[0], title = \"Annual Member\")\n",
    "    data[\"Short-Term Pass Holder\"].plot(ax = ax[1], title = \"Short Term Pass Holder\")\n",
    "    fig.savefig(\"daily_totals.png\")\n",
    "    return 9 #if plot succesful return 9 for unittest\n",
    "\n"
   ]
  },
  {
   "cell_type": "code",
   "execution_count": 43,
   "metadata": {
    "collapsed": false
   },
   "outputs": [],
   "source": [
    "def plot_x_vs_y():\n",
    "    \"\"\"\n",
    "    Allows user to choose desired x and y axis and then generates a plot. Creates a .pdf file of the plot. \n",
    "    \"\"\"\n",
    "    data = joined_weather_and_trips()\n",
    "    argument_y = str(input(\"Enter your choice of data for y axis from the following options: Mean_Temperature_F, Precipitation_In, Annual Member, Short-Term Pass Holder\"))\n",
    "    argument_x = str(input(\"Enter your choice of data for x axis from the following options: Date, Mean_Temperature_F, Precipitation_In, Annual Member, Short-Term Pass Holder\"))\n",
    "    if argument_x == \"Date\":\n",
    "        plt.scatter(data.index, data[argument_y])\n",
    "        plt.xlabel(\"Date\")\n",
    "        plt.ylabel(argument_y)\n",
    "        plt.savefig(\"plot.pdf\")\n",
    "    else: \n",
    "        plt.scatter(data[argument_x],data[argument_y])\n",
    "        plt.xlabel(argument_x)\n",
    "        plt.ylabel(argument_y)\n",
    "        plt.savefig(\"plot.pdf\")"
   ]
  },
  {
   "cell_type": "code",
   "execution_count": 44,
   "metadata": {
    "collapsed": false
   },
   "outputs": [
    {
     "name": "stdout",
     "output_type": "stream",
     "text": [
      "open_data_year_one.zip already exists\n",
      "open_data_year_one.zip already exists\n",
      "Enter your choice of data for y axis from the following options: Mean_Temperature_F, Precipitation_In, Annual Member, Short-Term Pass HolderAnnual Member\n",
      "Enter your choice of data for x axis from the following options: Date, Mean_Temperature_F, Precipitation_In, Annual Member, Short-Term Pass HolderDate\n"
     ]
    },
    {
     "data": {
      "image/png": "[encoded data removed]",
      "text/plain": [
       "<matplotlib.figure.Figure at 0x10c9fbf98>"
      ]
     },
     "metadata": {},
     "output_type": "display_data"
    }
   ],
   "source": [
    "plotting()"
   ]
  },
  {
   "cell_type": "code",
   "execution_count": 7,
   "metadata": {
    "collapsed": false
   },
   "outputs": [
    {
     "name": "stdout",
     "output_type": "stream",
     "text": [
      "open_data_year_one.zip already exists\n",
      "open_data_year_one.zip already exists\n"
     ]
    },
    {
     "data": {
      "text/plain": [
       "[<matplotlib.lines.Line2D at 0x10cb867f0>]"
      ]
     },
     "execution_count": 7,
     "metadata": {},
     "output_type": "execute_result"
    }
   ],
   "source": [
    "data = joined_weather_and_trips()\n",
    "plt.plot(data[\"Annual Member\"])"
   ]
  },
  {
   "cell_type": "code",
   "execution_count": 8,
   "metadata": {
    "collapsed": true
   },
   "outputs": [],
   "source": [
    "%matplotlib inline"
   ]
  },
  {
   "cell_type": "code",
   "execution_count": 10,
   "metadata": {
    "collapsed": false
   },
   "outputs": [
    {
     "data": {
      "text/html": [
       "<div>\n",
       "<table border=\"1\" class=\"dataframe\">\n",
       "  <thead>\n",
       "    <tr style=\"text-align: right;\">\n",
       "      <th></th>\n",
       "      <th>Date</th>\n",
       "      <th>Max_Temperature_F</th>\n",
       "      <th>Mean_Temperature_F</th>\n",
       "      <th>Min_TemperatureF</th>\n",
       "      <th>Max_Dew_Point_F</th>\n",
       "      <th>MeanDew_Point_F</th>\n",
       "      <th>Min_Dewpoint_F</th>\n",
       "      <th>Max_Humidity</th>\n",
       "      <th>Mean_Humidity</th>\n",
       "      <th>Min_Humidity</th>\n",
       "      <th>...</th>\n",
       "      <th>Max_Visibility_Miles</th>\n",
       "      <th>Mean_Visibility_Miles</th>\n",
       "      <th>Min_Visibility_Miles</th>\n",
       "      <th>Max_Wind_Speed_MPH</th>\n",
       "      <th>Mean_Wind_Speed_MPH</th>\n",
       "      <th>Max_Gust_Speed_MPH</th>\n",
       "      <th>Precipitation_In</th>\n",
       "      <th>Events</th>\n",
       "      <th>Annual Member</th>\n",
       "      <th>Short-Term Pass Holder</th>\n",
       "    </tr>\n",
       "  </thead>\n",
       "  <tbody>\n",
       "    <tr>\n",
       "      <th>2014-10-13</th>\n",
       "      <td>10/13/2014</td>\n",
       "      <td>71</td>\n",
       "      <td>62</td>\n",
       "      <td>54</td>\n",
       "      <td>55</td>\n",
       "      <td>51</td>\n",
       "      <td>46</td>\n",
       "      <td>87</td>\n",
       "      <td>68</td>\n",
       "      <td>46</td>\n",
       "      <td>...</td>\n",
       "      <td>10</td>\n",
       "      <td>10</td>\n",
       "      <td>4</td>\n",
       "      <td>13</td>\n",
       "      <td>4</td>\n",
       "      <td>21</td>\n",
       "      <td>0.00</td>\n",
       "      <td>Rain</td>\n",
       "      <td>284</td>\n",
       "      <td>125</td>\n",
       "    </tr>\n",
       "    <tr>\n",
       "      <th>2014-10-14</th>\n",
       "      <td>10/14/2014</td>\n",
       "      <td>63</td>\n",
       "      <td>59</td>\n",
       "      <td>55</td>\n",
       "      <td>52</td>\n",
       "      <td>51</td>\n",
       "      <td>50</td>\n",
       "      <td>88</td>\n",
       "      <td>78</td>\n",
       "      <td>63</td>\n",
       "      <td>...</td>\n",
       "      <td>10</td>\n",
       "      <td>9</td>\n",
       "      <td>3</td>\n",
       "      <td>10</td>\n",
       "      <td>5</td>\n",
       "      <td>17</td>\n",
       "      <td>0.11</td>\n",
       "      <td>Rain</td>\n",
       "      <td>268</td>\n",
       "      <td>223</td>\n",
       "    </tr>\n",
       "  </tbody>\n",
       "</table>\n",
       "<p>2 rows × 23 columns</p>\n",
       "</div>"
      ],
      "text/plain": [
       "                  Date  Max_Temperature_F  Mean_Temperature_F  \\\n",
       "2014-10-13  10/13/2014                 71                  62   \n",
       "2014-10-14  10/14/2014                 63                  59   \n",
       "\n",
       "            Min_TemperatureF  Max_Dew_Point_F  MeanDew_Point_F  \\\n",
       "2014-10-13                54               55               51   \n",
       "2014-10-14                55               52               51   \n",
       "\n",
       "            Min_Dewpoint_F  Max_Humidity  Mean_Humidity   Min_Humidity   \\\n",
       "2014-10-13              46            87              68             46   \n",
       "2014-10-14              50            88              78             63   \n",
       "\n",
       "                     ...            Max_Visibility_Miles   \\\n",
       "2014-10-13           ...                               10   \n",
       "2014-10-14           ...                               10   \n",
       "\n",
       "            Mean_Visibility_Miles   Min_Visibility_Miles   \\\n",
       "2014-10-13                      10                      4   \n",
       "2014-10-14                       9                      3   \n",
       "\n",
       "            Max_Wind_Speed_MPH   Mean_Wind_Speed_MPH   Max_Gust_Speed_MPH  \\\n",
       "2014-10-13                   13                     4                  21   \n",
       "2014-10-14                   10                     5                  17   \n",
       "\n",
       "            Precipitation_In   Events Annual Member  Short-Term Pass Holder  \n",
       "2014-10-13               0.00    Rain           284                     125  \n",
       "2014-10-14               0.11    Rain           268                     223  \n",
       "\n",
       "[2 rows x 23 columns]"
      ]
     },
     "execution_count": 10,
     "metadata": {},
     "output_type": "execute_result"
    }
   ],
   "source": [
    "data.head(2)"
   ]
  },
  {
   "cell_type": "code",
   "execution_count": 12,
   "metadata": {
    "collapsed": false
   },
   "outputs": [
    {
     "data": {
      "text/plain": [
       "Index(['Date', 'Max_Temperature_F', 'Mean_Temperature_F', 'Min_TemperatureF',\n",
       "       'Max_Dew_Point_F', 'MeanDew_Point_F', 'Min_Dewpoint_F', 'Max_Humidity',\n",
       "       'Mean_Humidity ', 'Min_Humidity ', 'Max_Sea_Level_Pressure_In ',\n",
       "       'Mean_Sea_Level_Pressure_In ', 'Min_Sea_Level_Pressure_In ',\n",
       "       'Max_Visibility_Miles ', 'Mean_Visibility_Miles ',\n",
       "       'Min_Visibility_Miles ', 'Max_Wind_Speed_MPH ', 'Mean_Wind_Speed_MPH ',\n",
       "       'Max_Gust_Speed_MPH', 'Precipitation_In ', 'Events', 'Annual Member',\n",
       "       'Short-Term Pass Holder'],\n",
       "      dtype='object')"
      ]
     },
     "execution_count": 12,
     "metadata": {},
     "output_type": "execute_result"
    }
   ],
   "source": [
    "data.columns"
   ]
  },
  {
   "cell_type": "code",
   "execution_count": 19,
   "metadata": {
    "collapsed": false
   },
   "outputs": [
    {
     "ename": "AttributeError",
     "evalue": "'DataFrame' object has no attribute 'rows'",
     "output_type": "error",
     "traceback": [
      "\u001b[0;31m---------------------------------------------------------------------------\u001b[0m",
      "\u001b[0;31mAttributeError\u001b[0m                            Traceback (most recent call last)",
      "\u001b[0;32m<ipython-input-19-d5de49eab1eb>\u001b[0m in \u001b[0;36m<module>\u001b[0;34m()\u001b[0m\n\u001b[0;32m----> 1\u001b[0;31m \u001b[0mdata\u001b[0m\u001b[0;34m.\u001b[0m\u001b[0mrows\u001b[0m\u001b[0;34m(\u001b[0m\u001b[0;34m)\u001b[0m\u001b[0;34m\u001b[0m\u001b[0m\n\u001b[0m",
      "\u001b[0;32m/Users/alexeygilman/anaconda/lib/python3.4/site-packages/pandas/core/generic.py\u001b[0m in \u001b[0;36m__getattr__\u001b[0;34m(self, name)\u001b[0m\n\u001b[1;32m   2358\u001b[0m                 \u001b[0;32mreturn\u001b[0m \u001b[0mself\u001b[0m\u001b[0;34m[\u001b[0m\u001b[0mname\u001b[0m\u001b[0;34m]\u001b[0m\u001b[0;34m\u001b[0m\u001b[0m\n\u001b[1;32m   2359\u001b[0m             raise AttributeError(\"'%s' object has no attribute '%s'\" %\n\u001b[0;32m-> 2360\u001b[0;31m                                  (type(self).__name__, name))\n\u001b[0m\u001b[1;32m   2361\u001b[0m \u001b[0;34m\u001b[0m\u001b[0m\n\u001b[1;32m   2362\u001b[0m     \u001b[0;32mdef\u001b[0m \u001b[0m__setattr__\u001b[0m\u001b[0;34m(\u001b[0m\u001b[0mself\u001b[0m\u001b[0;34m,\u001b[0m \u001b[0mname\u001b[0m\u001b[0;34m,\u001b[0m \u001b[0mvalue\u001b[0m\u001b[0;34m)\u001b[0m\u001b[0;34m:\u001b[0m\u001b[0;34m\u001b[0m\u001b[0m\n",
      "\u001b[0;31mAttributeError\u001b[0m: 'DataFrame' object has no attribute 'rows'"
     ]
    }
   ],
   "source": [
    "data.rows()"
   ]
  },
  {
   "cell_type": "code",
   "execution_count": null,
   "metadata": {
    "collapsed": true
   },
   "outputs": [],
   "source": []
  }
 ],
 "metadata": {
  "kernelspec": {
   "display_name": "Python 3",
   "language": "python",
   "name": "python3"
  },
  "language_info": {
   "codemirror_mode": {
    "name": "ipython",
    "version": 3
   },
   "file_extension": ".py",
   "mimetype": "text/x-python",
   "name": "python",
   "nbconvert_exporter": "python",
   "pygments_lexer": "ipython3",
   "version": "3.4.4"
  }
 },
 "nbformat": 4,
 "nbformat_minor": 0
}
