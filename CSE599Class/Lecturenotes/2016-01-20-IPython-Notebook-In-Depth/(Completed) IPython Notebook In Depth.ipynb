{
 "cells": [
  {
   "cell_type": "markdown",
   "metadata": {},
   "source": [
    "# IPython Notebook In Depth\n",
    "\n",
    "Today we are going to dive into some of the interesting features of IPython and the IPython notebook, which are useful for a number of daily tasks in data-intensive science.\n",
    "\n",
    "We will work through these features \"live\"; feel free to type along with me as we go!"
   ]
  },
  {
   "cell_type": "markdown",
   "metadata": {},
   "source": [
    "## Outline\n",
    "\n",
    "- IPython: command-line vs. notebook\n",
    "- Input/Output History\n",
    "- Tab Completion\n",
    "- Getting help and accessing documentation\n",
    "- Useful Keyboard Shortcuts\n",
    "- Magic Commands\n",
    "- Shell commands\n",
    "- Interactivity with ``ipywidgets``"
   ]
  },
  {
   "cell_type": "markdown",
   "metadata": {},
   "source": [
    "## IPython Command Line and Notebook"
   ]
  },
  {
   "cell_type": "markdown",
   "metadata": {},
   "source": [
    "### Launching the IPython Shell\n",
    "\n",
    "If you have installed IPython correctly, you should be able to type ``ipython`` in your command prompt and see something like this:\n",
    "```\n",
    "IPython 4.0.1 -- An enhanced Interactive Python.\n",
    "?         -> Introduction and overview of IPython's features.\n",
    "%quickref -> Quick reference.\n",
    "help      -> Python's own help system.\n",
    "object?   -> Details about 'object', use 'object??' for extra details.\n",
    "In [1]:\n",
    "```\n",
    "With that, you're ready to follow along."
   ]
  },
  {
   "cell_type": "markdown",
   "metadata": {},
   "source": [
    "### Launching the IPython Notebook\n",
    "\n",
    "The IPython notebook is a browser-based graphical interface to the IPython shell, and builds on it a rich set of dynamic display capabilities.\n",
    "As well as executing Python/IPython statements, the notebook allows the user to include formatted text, static and dynamic visualizations, mathematical equations, javascript widgets, and much more.\n",
    "Furthermore, these documents can be saved in a way that lets other people open them and execute the code on their own systems.\n",
    "\n",
    "Though the IPython notebook is viewed and edited through your web browser window, it must connect to a running Python process in order to execute code.\n",
    "This process (known as a \"kernel\") can be started by running the following command in your system shell:\n",
    "\n",
    "```\n",
    "$ ipython notebook\n",
    "```\n",
    "\n",
    "This command will launch a local web server which will be visible to your browser.\n",
    "It immediately spits out a log showing what it is doing; that log will look something like this:\n",
    "\n",
    "```\n",
    "$ ipython notebook\n",
    "[NotebookApp] Using existing profile dir: '/home/jake/.ipython/profile_default'\n",
    "[NotebookApp] Serving notebooks from local directory: /home/jake/notebooks/\n",
    "[NotebookApp] The IPython Notebook is running at: http://localhost:8888/\n",
    "[NotebookApp] Use Control-C to stop this server and shut down all kernels (twice to skip confirmation)\n",
    "```\n",
    "\n",
    "At the command, your default browser should automatically open and navigate to the listed local URL;\n",
    "the exact address will depend on your system.\n",
    "If the browser does not open automatically, you can open a window and copy this address (here ``http://localhost:8888/``) manually."
   ]
  },
  {
   "cell_type": "markdown",
   "metadata": {},
   "source": [
    "## Input/Output History\n",
    "\n",
    "A useful feature of IPython is the storage of input and output history."
   ]
  },
  {
   "cell_type": "markdown",
   "metadata": {},
   "source": [
    "### Terminal Only\n",
    "\n",
    "There are a few useful shortcuts that can be used only in the IPython terminal.\n",
    "We will demonstrate the following in the terminal:\n",
    "\n",
    "- up arrow for history\n",
    "- partial completion with up arrow\n",
    "- reverse search with ctrl-r"
   ]
  },
  {
   "cell_type": "markdown",
   "metadata": {},
   "source": [
    "### Terminal and Notebook\n",
    "\n",
    "- Previous results can be obtained using underscores: number of underscores is the number of the previous command:"
   ]
  },
  {
   "cell_type": "code",
   "execution_count": 1,
   "metadata": {
    "collapsed": false
   },
   "outputs": [
    {
     "data": {
      "text/plain": [
       "2"
      ]
     },
     "execution_count": 1,
     "metadata": {},
     "output_type": "execute_result"
    }
   ],
   "source": [
    "1 + 1"
   ]
  },
  {
   "cell_type": "code",
   "execution_count": 2,
   "metadata": {
    "collapsed": false
   },
   "outputs": [
    {
     "data": {
      "text/plain": [
       "200"
      ]
     },
     "execution_count": 2,
     "metadata": {},
     "output_type": "execute_result"
    }
   ],
   "source": [
    "_ * 100"
   ]
  },
  {
   "cell_type": "code",
   "execution_count": 3,
   "metadata": {
    "collapsed": false
   },
   "outputs": [
    {
     "data": {
      "text/plain": [
       "202"
      ]
     },
     "execution_count": 3,
     "metadata": {},
     "output_type": "execute_result"
    }
   ],
   "source": [
    "_ + __"
   ]
  },
  {
   "cell_type": "code",
   "execution_count": 4,
   "metadata": {
    "collapsed": false
   },
   "outputs": [
    {
     "data": {
      "text/plain": [
       "40202"
      ]
     },
     "execution_count": 4,
     "metadata": {},
     "output_type": "execute_result"
    }
   ],
   "source": [
    "_ + __ ** ___"
   ]
  },
  {
   "cell_type": "markdown",
   "metadata": {},
   "source": [
    "Beyond three underscores, you can use underscore followed by a number to indicate the result of a particular line number:"
   ]
  },
  {
   "cell_type": "code",
   "execution_count": 8,
   "metadata": {
    "collapsed": false
   },
   "outputs": [
    {
     "data": {
      "text/plain": [
       "202"
      ]
     },
     "execution_count": 8,
     "metadata": {},
     "output_type": "execute_result"
    }
   ],
   "source": [
    "_3"
   ]
  },
  {
   "cell_type": "markdown",
   "metadata": {},
   "source": [
    "More useful often is the ``Out`` array, which stores all previous results:"
   ]
  },
  {
   "cell_type": "code",
   "execution_count": 9,
   "metadata": {
    "collapsed": false
   },
   "outputs": [
    {
     "data": {
      "text/plain": [
       "202"
      ]
     },
     "execution_count": 9,
     "metadata": {},
     "output_type": "execute_result"
    }
   ],
   "source": [
    "Out[3]"
   ]
  },
  {
   "cell_type": "code",
   "execution_count": 10,
   "metadata": {
    "collapsed": false
   },
   "outputs": [
    {
     "data": {
      "text/plain": [
       "{1: 2, 2: 200, 3: 202, 4: 40202, 5: 40202, 6: 202, 8: 202, 9: 202}"
      ]
     },
     "execution_count": 10,
     "metadata": {},
     "output_type": "execute_result"
    }
   ],
   "source": [
    "Out"
   ]
  },
  {
   "cell_type": "markdown",
   "metadata": {},
   "source": [
    "Similarly, you can access the ``In`` array to see the code history:"
   ]
  },
  {
   "cell_type": "code",
   "execution_count": 11,
   "metadata": {
    "collapsed": false
   },
   "outputs": [
    {
     "data": {
      "text/plain": [
       "'_ * 100'"
      ]
     },
     "execution_count": 11,
     "metadata": {},
     "output_type": "execute_result"
    }
   ],
   "source": [
    "In[2]"
   ]
  },
  {
   "cell_type": "code",
   "execution_count": 12,
   "metadata": {
    "collapsed": false
   },
   "outputs": [
    {
     "data": {
      "text/plain": [
       "['',\n",
       " '1 + 1',\n",
       " '_ * 100',\n",
       " '_ + __',\n",
       " '_ + __ ** ___',\n",
       " '_4',\n",
       " 'Out[3]',\n",
       " 'Out',\n",
       " '_3',\n",
       " 'Out[3]',\n",
       " 'Out',\n",
       " 'In[2]',\n",
       " 'In']"
      ]
     },
     "execution_count": 12,
     "metadata": {},
     "output_type": "execute_result"
    }
   ],
   "source": [
    "In"
   ]
  },
  {
   "cell_type": "markdown",
   "metadata": {},
   "source": [
    "To see all history at once, use the ``%history`` magic command (more on magic commands below):"
   ]
  },
  {
   "cell_type": "code",
   "execution_count": 13,
   "metadata": {
    "collapsed": false
   },
   "outputs": [
    {
     "name": "stdout",
     "output_type": "stream",
     "text": [
      "1 + 1\n",
      "_ * 100\n",
      "_ + __\n",
      "_ + __ ** ___\n",
      "_4\n",
      "Out[3]\n",
      "Out\n",
      "_3\n",
      "Out[3]\n",
      "Out\n",
      "In[2]\n",
      "In\n",
      "%history\n"
     ]
    }
   ],
   "source": [
    "%history"
   ]
  },
  {
   "cell_type": "markdown",
   "metadata": {},
   "source": [
    "## Tab Completion\n",
    "\n",
    "The feature of IPython that I use the most frequently is perhaps the tab completion functionality.\n",
    "\n",
    "Tab completion works for finishing built-in commands:\n",
    "\n",
    "```python\n",
    "In [20]: import matp<TAB>\n",
    "```\n",
    "\n",
    "will be completed to \n",
    "```python\n",
    "In [20]: import matplotlib\n",
    "```"
   ]
  },
  {
   "cell_type": "markdown",
   "metadata": {},
   "source": [
    "It works for variables that you have defined:"
   ]
  },
  {
   "cell_type": "code",
   "execution_count": 21,
   "metadata": {
    "collapsed": true
   },
   "outputs": [],
   "source": [
    "my_variable = 4"
   ]
  },
  {
   "cell_type": "markdown",
   "metadata": {},
   "source": [
    "```python\n",
    "In [22]: my<TAB>\n",
    "```\n",
    "\n",
    "will be completed to \n",
    "```python\n",
    "In [22]: my_variable\n",
    "```"
   ]
  },
  {
   "cell_type": "markdown",
   "metadata": {
    "collapsed": true
   },
   "source": [
    "This also works for strings which represent filenames, or pandas columns, etc."
   ]
  },
  {
   "cell_type": "markdown",
   "metadata": {},
   "source": [
    "It works for importing packages:"
   ]
  },
  {
   "cell_type": "markdown",
   "metadata": {
    "collapsed": true
   },
   "source": [
    "```python\n",
    "In [25]: import num<TAB>\n",
    "```\n",
    "\n",
    "will be completed to \n",
    "```python\n",
    "In [25]: import numpy\n",
    "```"
   ]
  },
  {
   "cell_type": "markdown",
   "metadata": {},
   "source": [
    "It works for finding attributes of packages and other objects:"
   ]
  },
  {
   "cell_type": "markdown",
   "metadata": {},
   "source": [
    "```python\n",
    "In [25]: numpy.ran<TAB>\n",
    "```\n",
    "\n",
    "will be completed to \n",
    "```python\n",
    "In [25]: numpy.random\n",
    "```"
   ]
  },
  {
   "cell_type": "markdown",
   "metadata": {},
   "source": [
    "## Accessing Help and Documentation"
   ]
  },
  {
   "cell_type": "markdown",
   "metadata": {},
   "source": [
    "After tab completion, I think the next most useful feature of the notebook is the help functionality.\n",
    "\n",
    "One question mark after any valid object gives you access to its documentation string:"
   ]
  },
  {
   "cell_type": "code",
   "execution_count": null,
   "metadata": {
    "collapsed": true
   },
   "outputs": [],
   "source": [
    "numpy.random?"
   ]
  },
  {
   "cell_type": "code",
   "execution_count": 33,
   "metadata": {
    "collapsed": true
   },
   "outputs": [],
   "source": [
    "def myfunc(x):\n",
    "    return x ** 2"
   ]
  },
  {
   "cell_type": "code",
   "execution_count": 34,
   "metadata": {
    "collapsed": true
   },
   "outputs": [],
   "source": [
    "myfunc?"
   ]
  },
  {
   "cell_type": "markdown",
   "metadata": {},
   "source": [
    "Two question marks gives you access to its source code (if the object is implemented in Python):"
   ]
  },
  {
   "cell_type": "code",
   "execution_count": null,
   "metadata": {
    "collapsed": true
   },
   "outputs": [],
   "source": [
    "myfunc??"
   ]
  },
  {
   "cell_type": "markdown",
   "metadata": {},
   "source": [
    "In addition, you can use a single question mark with asterisks to do a wildcard match:"
   ]
  },
  {
   "cell_type": "code",
   "execution_count": 38,
   "metadata": {
    "collapsed": true
   },
   "outputs": [],
   "source": [
    "numpy.*exp*?"
   ]
  },
  {
   "cell_type": "markdown",
   "metadata": {},
   "source": [
    "If you are curious about the call signature for a funciton, you can type ``shift tab`` within the open-closed parentheses to see its argument list:"
   ]
  },
  {
   "cell_type": "markdown",
   "metadata": {},
   "source": [
    "Hitting ``shift tab`` multiple times will give you progressively more information about the function:"
   ]
  },
  {
   "cell_type": "markdown",
   "metadata": {},
   "source": [
    "Using a combination of these, you can quickly remind yourself of how to use various funcitons without ever leaving the terminal/notebook."
   ]
  },
  {
   "cell_type": "markdown",
   "metadata": {},
   "source": [
    "## Useful Keyboard Shortcuts\n",
    "\n",
    "One of the keys to working effectively with IPython is learning your way around the keyboard.\n",
    "Note: some of the shortcuts below will only work on Linux and Mac; many will work on windows as well"
   ]
  },
  {
   "cell_type": "markdown",
   "metadata": {},
   "source": [
    "### Terminal shortcuts\n",
    "\n",
    "If you are familiar with emacs, vim, and similar tools, many of the terminal-based keyboard shortcuts will feel very familiar to you:"
   ]
  },
  {
   "cell_type": "markdown",
   "metadata": {},
   "source": [
    "#### Navigation\n",
    "\n",
    "| Keystroke                     | Action                                     |\n",
    "|-------------------------------|--------------------------------------------|\n",
    "| ``Ctrl-a``                    | Move cursor to the beginning of the line   |\n",
    "| ``Ctrl-e``                    | Move cursor to the end of the line         |\n",
    "| ``Ctrl-b`` or ``left-arrow``  | Move cursor back one character             |\n",
    "| ``Ctrl-f`` or ``right-arrow`` | Move cursor forward one character          |"
   ]
  },
  {
   "cell_type": "markdown",
   "metadata": {},
   "source": [
    "#### Text Entry\n",
    "\n",
    "| Keystroke                     | Action                                          |\n",
    "|-------------------------------|-------------------------------------------------|\n",
    "| ``backspace``                 | Delete previous character in line               |\n",
    "| ``Ctrl-d``                    | Delete next character in line                   |\n",
    "| ``Ctrl-k``                    | Cut text from cursor to end of line             |\n",
    "| ``Ctrl-u``                    | Cut all text in line                            |\n",
    "| ``Ctrl-y``                    | Yank (i.e. Paste) text which was previously cut |\n",
    "| ``Ctrl-t``                    | Transpose (i.e. switch) previous two characters |"
   ]
  },
  {
   "cell_type": "markdown",
   "metadata": {},
   "source": [
    "#### Command History\n",
    "\n",
    "| Keystroke                     | Action                                     |\n",
    "|-------------------------------|--------------------------------------------|\n",
    "| ``Ctrl-p`` or ``up-arrow``    | Access previous command in history         |\n",
    "| ``Ctrl-n`` or ``down-arrow``  | Access next command in history             |\n",
    "| ``Ctrl-r``                    | Reverse-search through command history     |"
   ]
  },
  {
   "cell_type": "markdown",
   "metadata": {},
   "source": [
    "#### Miscellaneous\n",
    "\n",
    "| Keystroke                     | Action                                     |\n",
    "|-------------------------------|--------------------------------------------|\n",
    "| ``Ctrl-l``                    | Clear terminal screen                      |\n",
    "| ``Ctrl-c``                    | Interrupt current Python command           |\n",
    "| ``Ctrl-d``                    | Exit IPython session                       |"
   ]
  },
  {
   "cell_type": "markdown",
   "metadata": {},
   "source": [
    "### Notebook Shortcuts\n",
    "\n",
    "Depending on your operating system and browser, many of the navigation and text-entry shortcuts will work in the notebook as well. In addition, the notebook has many of its own shortcuts.\n",
    "\n",
    "First, though, we must mention that the notebook has two \"modes\" of operation: command mode and edit mode.\n",
    "\n",
    "- In **command mode**, you are doing operations that affect entire cells. You can enable command mode by pressing the escape key (or pressing ``ctrl m``). For example, in command mode, the up and down arrows will navigate from cell to cell.\n",
    "- In **edit mode**, you can do operations that affect the contents of a single cell. You can enable edit mode by pressing enter from the command mode. For example, in edit mode, the up and down arrows will navigate lines within the cell\n",
    "\n",
    "To get a listing of all available shortcuts, enter command mode and press \"h\""
   ]
  },
  {
   "cell_type": "markdown",
   "metadata": {},
   "source": [
    "## Magic Commands\n",
    "\n",
    "IPython extends the functionality of Python with so-called \"magic\" commands: these are marked with a ``%`` sign.\n",
    "We saw one of these above; the ``%history`` command.\n",
    "\n",
    "Magic commands come in two flavors: *line magics* start with one percent sign, and *cell magics* start with two percent signs.\n",
    "\n",
    "We'll go through a few examples of magic commands here, but first, using what you've seen above, how do you think you might get a list of all available magic commands? How do you think you might get help on any particular command?"
   ]
  },
  {
   "cell_type": "code",
   "execution_count": 41,
   "metadata": {
    "collapsed": false
   },
   "outputs": [],
   "source": [
    "%timeit?"
   ]
  },
  {
   "cell_type": "markdown",
   "metadata": {},
   "source": [
    "### Profiling with ``timeit``\n",
    "\n",
    "For example, here's the ``%timeit``/``%%timeit`` magic, which can be very useful for quick profiling of your code:"
   ]
  },
  {
   "cell_type": "code",
   "execution_count": 43,
   "metadata": {
    "collapsed": false
   },
   "outputs": [
    {
     "name": "stdout",
     "output_type": "stream",
     "text": [
      "1000 loops, best of 3: 660 µs per loop\n"
     ]
    }
   ],
   "source": [
    "import numpy as np\n",
    "x = np.random.rand(1000000)\n",
    "\n",
    "%timeit x.sum()"
   ]
  },
  {
   "cell_type": "code",
   "execution_count": 44,
   "metadata": {
    "collapsed": false
   },
   "outputs": [
    {
     "name": "stdout",
     "output_type": "stream",
     "text": [
      "10 loops, best of 3: 62.7 ms per loop\n"
     ]
    }
   ],
   "source": [
    "L = list(x)\n",
    "\n",
    "%timeit sum(L)"
   ]
  },
  {
   "cell_type": "code",
   "execution_count": 52,
   "metadata": {
    "collapsed": false
   },
   "outputs": [
    {
     "name": "stdout",
     "output_type": "stream",
     "text": [
      "100 loops, best of 3: 6.87 ms per loop\n"
     ]
    }
   ],
   "source": [
    "%%timeit\n",
    "\n",
    "y = x + 1\n",
    "z = y ** 2\n",
    "q = z.sum()"
   ]
  },
  {
   "cell_type": "markdown",
   "metadata": {},
   "source": [
    "### Interpreter: ``paste`` and ``cpaste``\n",
    "\n",
    "Try pasting this Python code into your IPython interpreter:\n",
    "\n",
    "```python\n",
    ">>> def donothing(x):\n",
    "        return x\n",
    "```\n",
    "\n",
    "You'll likely get an error.\n",
    "\n",
    "Now try typing ``%paste`` in your interpreter: what happens?\n",
    "\n",
    "Next try typing ``%cpaste`` and then use cmd-v to paste your test: what happens?"
   ]
  },
  {
   "cell_type": "markdown",
   "metadata": {},
   "source": [
    "### Creating a file with ``%%file``\n",
    "\n",
    "Sometimes it's useful to create a file programatically from within the notebook"
   ]
  },
  {
   "cell_type": "code",
   "execution_count": 19,
   "metadata": {
    "collapsed": false
   },
   "outputs": [
    {
     "name": "stdout",
     "output_type": "stream",
     "text": [
      "Overwriting myscript.py\n"
     ]
    }
   ],
   "source": [
    "%%file myscript.py\n",
    "\n",
    "def foo(x):\n",
    "    return x ** 2\n",
    "\n",
    "z = foo(12)\n",
    "\n",
    "print(foo(14))"
   ]
  },
  {
   "cell_type": "markdown",
   "metadata": {},
   "source": [
    "### Running a script with ``%run``"
   ]
  },
  {
   "cell_type": "code",
   "execution_count": 20,
   "metadata": {
    "collapsed": false
   },
   "outputs": [
    {
     "name": "stdout",
     "output_type": "stream",
     "text": [
      "196\n"
     ]
    }
   ],
   "source": [
    "%run myscript.py"
   ]
  },
  {
   "cell_type": "code",
   "execution_count": 21,
   "metadata": {
    "collapsed": false
   },
   "outputs": [
    {
     "data": {
      "text/plain": [
       "144"
      ]
     },
     "execution_count": 21,
     "metadata": {},
     "output_type": "execute_result"
    }
   ],
   "source": [
    "z"
   ]
  },
  {
   "cell_type": "code",
   "execution_count": 22,
   "metadata": {
    "collapsed": false
   },
   "outputs": [
    {
     "data": {
      "text/plain": [
       "4"
      ]
     },
     "execution_count": 22,
     "metadata": {},
     "output_type": "execute_result"
    }
   ],
   "source": [
    "foo(2)"
   ]
  },
  {
   "cell_type": "markdown",
   "metadata": {},
   "source": [
    "### Controlling figures: ``%matplotlib``\n",
    "\n",
    "You can use the ``%matplotlib`` function to specify the matplotlib *backend* you would like to use.\n",
    "For example:\n",
    "\n",
    "- ``%matplotlib`` by itself uses the default system backend\n",
    "- ``%matplotlib inline`` creates inline, static figures (great for publication and/or sharing)\n",
    "- ``%matplotlib notebook`` creates inline, interactive figures (though in my experience it can be a bit unstable)"
   ]
  },
  {
   "cell_type": "code",
   "execution_count": 24,
   "metadata": {
    "collapsed": false
   },
   "outputs": [],
   "source": [
    "%matplotlib inline"
   ]
  },
  {
   "cell_type": "code",
   "execution_count": 25,
   "metadata": {
    "collapsed": false
   },
   "outputs": [
    {
     "data": {
      "image/png": "[encoded data removed]",
      "text/plain": [
       "<matplotlib.figure.Figure at 0x108352208>"
      ]
     },
     "metadata": {},
     "output_type": "display_data"
    }
   ],
   "source": [
    "import numpy as np\n",
    "import matplotlib.pyplot as plt\n",
    "plt.plot(np.random.rand(100));"
   ]
  },
  {
   "cell_type": "markdown",
   "metadata": {},
   "source": [
    "### Help functions and more info\n",
    "\n",
    "- The ``%magic`` function will tell you all about magic commands\n",
    "- The ``%lsmagic`` function will list all available magic commands\n",
    "- Remember that the ``?`` can be used to get documentation!\n",
    "- Though we won't cover it here, it is possible to [create and activate your own magic commands](https://ipython.org/ipython-doc/stable/config/custommagics.html)"
   ]
  },
  {
   "cell_type": "code",
   "execution_count": 6,
   "metadata": {
    "collapsed": false
   },
   "outputs": [],
   "source": [
    "%lsmagic"
   ]
  },
  {
   "cell_type": "code",
   "execution_count": null,
   "metadata": {
    "collapsed": true
   },
   "outputs": [],
   "source": [
    "%magic"
   ]
  },
  {
   "cell_type": "code",
   "execution_count": 27,
   "metadata": {
    "collapsed": false
   },
   "outputs": [],
   "source": [
    "%debug?"
   ]
  },
  {
   "cell_type": "markdown",
   "metadata": {},
   "source": [
    "## Shell Commands\n",
    "\n",
    "IPython is meant to be an all-purpose scientific computing environment, and access to the shell is critical.\n",
    "Any command that starts with an exclamation point will be passed to the shell.\n",
    "\n",
    "Note that because windows has a different kind of shell than Linux/OSX, shell commands will be different from operating system to operating system.\n",
    "\n",
    "All the commands you have learned previously will work here:"
   ]
  },
  {
   "cell_type": "code",
   "execution_count": null,
   "metadata": {
    "collapsed": true
   },
   "outputs": [],
   "source": [
    "!ls"
   ]
  },
  {
   "cell_type": "code",
   "execution_count": null,
   "metadata": {
    "collapsed": true
   },
   "outputs": [],
   "source": [
    "!pwd"
   ]
  },
  {
   "cell_type": "markdown",
   "metadata": {},
   "source": [
    "You can even seamlessly pass values to and from the Python interpreter.\n",
    "For example, we can store the result of a directory listing:"
   ]
  },
  {
   "cell_type": "code",
   "execution_count": 29,
   "metadata": {
    "collapsed": false
   },
   "outputs": [],
   "source": [
    "contents = !ls"
   ]
  },
  {
   "cell_type": "code",
   "execution_count": 30,
   "metadata": {
    "collapsed": false
   },
   "outputs": [
    {
     "data": {
      "text/plain": [
       "['(Completed) IPython Notebook In Depth.ipynb',\n",
       " 'IPython Notebook In Depth.ipynb',\n",
       " 'LorenzSystem.ipynb',\n",
       " 'WidgetsDemo.ipynb',\n",
       " 'myscript.py']"
      ]
     },
     "execution_count": 30,
     "metadata": {},
     "output_type": "execute_result"
    }
   ],
   "source": [
    "contents"
   ]
  },
  {
   "cell_type": "markdown",
   "metadata": {},
   "source": [
    "We can inject Python variables into a shell command with ``{}``:"
   ]
  },
  {
   "cell_type": "code",
   "execution_count": 32,
   "metadata": {
    "collapsed": false
   },
   "outputs": [
    {
     "name": "stdout",
     "output_type": "stream",
     "text": [
      "\r\n",
      "def foo(x):\r\n",
      "    return x ** 2\r\n",
      "\r\n",
      "z = foo(12)\r\n",
      "\r\n",
      "print(foo(14))"
     ]
    }
   ],
   "source": [
    "!cat {contents[4]}"
   ]
  },
  {
   "cell_type": "code",
   "execution_count": 37,
   "metadata": {
    "collapsed": false
   },
   "outputs": [
    {
     "name": "stdout",
     "output_type": "stream",
     "text": [
      "myscript.py\n",
      "\r\n",
      "def foo(x):\r\n",
      "    return x ** 2\r\n",
      "\r\n",
      "z = foo(12)\r\n",
      "\r\n",
      "print(foo(14))"
     ]
    }
   ],
   "source": [
    "for filename in contents:\n",
    "    if filename.endswith('.py'):\n",
    "        print(filename)\n",
    "        !head -10 {filename}"
   ]
  },
  {
   "cell_type": "markdown",
   "metadata": {},
   "source": [
    "With these tools, you should never have to switch from IPython to a terminal to run a command."
   ]
  },
  {
   "cell_type": "markdown",
   "metadata": {},
   "source": [
    "## IPython Widgets\n",
    "\n",
    "One incredibly useful feature of the notebook is the interactivity provided by the [``ipywidgets`` package](https://github.com/ipython/ipywidgets). You'll have to install this using, e.g.\n",
    "\n",
    "    $ conda install ipywidgets\n",
    "    \n",
    "You can find a full set of documentation notebooks [here](https://github.com/ipython/ipywidgets/blob/master/examples/notebooks/Index.ipynb).\n",
    "We're going to walk through a quick demonstration of the functionality in [WidgetsDemo.ipynb](WidgetsDemo.ipynb)"
   ]
  }
 ],
 "metadata": {
  "kernelspec": {
   "display_name": "Python 3",
   "language": "",
   "name": "python3"
  },
  "language_info": {
   "codemirror_mode": {
    "name": "ipython",
    "version": 3
   },
   "file_extension": ".py",
   "mimetype": "text/x-python",
   "name": "python",
   "nbconvert_exporter": "python",
   "pygments_lexer": "ipython3",
   "version": "3.5.1"
  }
 },
 "nbformat": 4,
 "nbformat_minor": 0
}
