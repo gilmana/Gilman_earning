{
 "cells": [
  {
   "cell_type": "markdown",
   "metadata": {},
   "source": [
    "Basic Learning of Classes\n",
    "following along from:http://openbookproject.net/thinkcs/python/english3e/classes_and_objects_II.html"
   ]
  },
  {
   "cell_type": "code",
   "execution_count": 19,
   "metadata": {
    "collapsed": true
   },
   "outputs": [],
   "source": [
    "class Point():\n",
    "    def __init__(self, x = 0, y = 0):\n",
    "        self.x = x\n",
    "        self.y = y \n",
    "    def __str__(self):\n",
    "        return \"({0},{1})\".format(self.x, self.y)"
   ]
  },
  {
   "cell_type": "code",
   "execution_count": 20,
   "metadata": {
    "collapsed": true
   },
   "outputs": [],
   "source": [
    "class Rectangles:\n",
    "    \"\"\"making rectangles\"\"\"\n",
    "    \n",
    "    def __init__(self, posn, w, h):\n",
    "        \"initialize rectangle at position, with width w and height H\"\n",
    "        self.corner  = posn\n",
    "        self.width = w\n",
    "        self.height = h\n",
    "        \n",
    "    def __str__(self):\n",
    "        return \"({0},{1},{2})\".format(self.corner, self.width, self.height)\n",
    "\n",
    "    def grow(self, delta_width, delta_height):\n",
    "        \"\"\"increase the length and width of the object\"\"\"\n",
    "        self.width += delta_width\n",
    "        self.height += delta_height\n",
    "\n",
    "    def move(self, mv_x, mv_y):\n",
    "        \"\"\"move box by mv_x and mv_y units\"\"\"\n",
    "        self.corner.x += mv_x\n",
    "        self.corner.y += mv_y"
   ]
  },
  {
   "cell_type": "code",
   "execution_count": 21,
   "metadata": {
    "collapsed": false
   },
   "outputs": [
    {
     "name": "stdout",
     "output_type": "stream",
     "text": [
      "Box ((20,30),56,78)\n",
      "Bomb ((100,200),2,5)\n"
     ]
    }
   ],
   "source": [
    "#Using point class as an argument for Rectangles class\n",
    "box = Rectangles(Point(20,30), 56, 78)\n",
    "bomb = Rectangles(Point(100,200), 2, 5)\n",
    "print(\"Box\", box)\n",
    "print(\"Bomb\", bomb)"
   ]
  },
  {
   "cell_type": "markdown",
   "metadata": {},
   "source": [
    "### The Copy Module"
   ]
  },
  {
   "cell_type": "code",
   "execution_count": null,
   "metadata": {
    "collapsed": true
   },
   "outputs": [],
   "source": [
    "#The copy module can do shallow copies of data within an object (create new objects with same data)\n",
    "#Copy can also do a deepcopy which will copy all the objects within that object. "
   ]
  },
  {
   "cell_type": "code",
   "execution_count": 25,
   "metadata": {
    "collapsed": false
   },
   "outputs": [
    {
     "name": "stdout",
     "output_type": "stream",
     "text": [
      "((20,30),56,78)\n"
     ]
    },
    {
     "data": {
      "text/plain": [
       "False"
      ]
     },
     "execution_count": 25,
     "metadata": {},
     "output_type": "execute_result"
    }
   ],
   "source": [
    "import copy\n",
    "box1 = copy.copy(box)\n",
    "\n",
    "print(box1)\n",
    "box == box1 #an example of shallow copy "
   ]
  },
  {
   "cell_type": "code",
   "execution_count": 26,
   "metadata": {
    "collapsed": false
   },
   "outputs": [
    {
     "name": "stdout",
     "output_type": "stream",
     "text": [
      "((20,30),56,78)\n"
     ]
    },
    {
     "data": {
      "text/plain": [
       "False"
      ]
     },
     "execution_count": 26,
     "metadata": {},
     "output_type": "execute_result"
    }
   ],
   "source": [
    "box2 = copy.deepcopy(box)\n",
    "print(box2)\n",
    "box2 == box #the deep copy makes a new object just like before but now it copies the Point (20,30) too, \n",
    "            #this point can be moved within this object, whereas before it would have affected the Point (different object)"
   ]
  },
  {
   "cell_type": "markdown",
   "metadata": {},
   "source": [
    "### A quick lesson about shallow and deep equality"
   ]
  },
  {
   "cell_type": "code",
   "execution_count": 11,
   "metadata": {
    "collapsed": false
   },
   "outputs": [
    {
     "data": {
      "text/plain": [
       "False"
      ]
     },
     "execution_count": 11,
     "metadata": {},
     "output_type": "execute_result"
    }
   ],
   "source": [
    "#example of \"is\" operator with object, eventhough the values assigned are same, these are different object. \n",
    "p1 = Point(2,3)\n",
    "p2 = Point(2,3)\n",
    "p1 is p2\n",
    "#Shallow equality, because it only compares references and no the content. "
   ]
  },
  {
   "cell_type": "code",
   "execution_count": 13,
   "metadata": {
    "collapsed": false
   },
   "outputs": [
    {
     "data": {
      "text/plain": [
       "True"
      ]
     },
     "execution_count": 13,
     "metadata": {},
     "output_type": "execute_result"
    }
   ],
   "source": [
    "#Only when you assign a variable to be that exact same object, the two are the same. \n",
    "p3 = p1 \n",
    "p1 is p3"
   ]
  },
  {
   "cell_type": "code",
   "execution_count": 14,
   "metadata": {
    "collapsed": false
   },
   "outputs": [
    {
     "data": {
      "text/plain": [
       "True"
      ]
     },
     "execution_count": 14,
     "metadata": {},
     "output_type": "execute_result"
    }
   ],
   "source": [
    "#In order to make the equality a \"deep equality\", a function needs to be written. \n",
    "def coordinates(pt1,pt2):\n",
    "    return (pt1.x == pt2.x) and (pt1.y == pt2.y)\n",
    "\n",
    "coordinates(p1,p2)"
   ]
  },
  {
   "cell_type": "code",
   "execution_count": 17,
   "metadata": {
    "collapsed": false
   },
   "outputs": [
    {
     "name": "stdout",
     "output_type": "stream",
     "text": [
      "== for lists returns: True\n",
      "== for objects returns: False\n"
     ]
    }
   ],
   "source": [
    "#note that == returns a deep equality when we are talking about lists but shallow equality for objects\n",
    "L1 = [1,2,3,4,5]\n",
    "L2 = [1,2,3,4,5]\n",
    "print(\"== for lists returns:\", L1 == L2)\n",
    "print(\"== for objects returns:\",p1 == p2 )"
   ]
  },
  {
   "cell_type": "markdown",
   "metadata": {},
   "source": [
    "### Random features testing"
   ]
  },
  {
   "cell_type": "code",
   "execution_count": null,
   "metadata": {
    "collapsed": false
   },
   "outputs": [],
   "source": [
    "#testing move feature\n",
    "box.move(22,33)\n",
    "print(box.corner)"
   ]
  },
  {
   "cell_type": "code",
   "execution_count": null,
   "metadata": {
    "collapsed": false
   },
   "outputs": [],
   "source": [
    "#testing grow feature \n",
    "box.grow(50,30)\n",
    "print(box)"
   ]
  },
  {
   "cell_type": "code",
   "execution_count": null,
   "metadata": {
    "collapsed": false
   },
   "outputs": [],
   "source": [
    "#you can modify the values of width and height manually\n",
    "box.width += 50\n",
    "print(box.width)"
   ]
  },
  {
   "cell_type": "code",
   "execution_count": null,
   "metadata": {
    "collapsed": false
   },
   "outputs": [],
   "source": [
    "#testing the __str__ method in both the point and rectangle classes. \n",
    "print(box)"
   ]
  },
  {
   "cell_type": "code",
   "execution_count": null,
   "metadata": {
    "collapsed": false
   },
   "outputs": [],
   "source": [
    "#experimenting with __Str__(self):\n",
    "new_tangle = Rectangles(0,2,3)\n",
    "print(new_tangle)\n",
    "str(new_tangle)"
   ]
  },
  {
   "cell_type": "markdown",
   "metadata": {},
   "source": [
    "# Excercises "
   ]
  },
  {
   "cell_type": "code",
   "execution_count": null,
   "metadata": {
    "collapsed": true
   },
   "outputs": [],
   "source": []
  }
 ],
 "metadata": {
  "kernelspec": {
   "display_name": "Python 3",
   "language": "python",
   "name": "python3"
  },
  "language_info": {
   "codemirror_mode": {
    "name": "ipython",
    "version": 3
   },
   "file_extension": ".py",
   "mimetype": "text/x-python",
   "name": "python",
   "nbconvert_exporter": "python",
   "pygments_lexer": "ipython3",
   "version": "3.4.4"
  }
 },
 "nbformat": 4,
 "nbformat_minor": 0
}
