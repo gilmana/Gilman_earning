{
 "cells": [
  {
   "cell_type": "markdown",
   "id": "855bc803",
   "metadata": {},
   "source": [
    "Python Intro:\n",
    "    - Object oriented programming language:\n",
    "        variables, math, strings, string indexing\n",
    "    - For loops, while loops, if statements"
   ]
  },
  {
   "cell_type": "code",
   "execution_count": 1,
   "id": "6beb000b",
   "metadata": {},
   "outputs": [
    {
     "name": "stdout",
     "output_type": "stream",
     "text": [
      "5\n"
     ]
    }
   ],
   "source": [
    "print(5)"
   ]
  },
  {
   "cell_type": "code",
   "execution_count": null,
   "id": "a19cf96d",
   "metadata": {},
   "outputs": [],
   "source": [
    "x = 5\n",
    "print(x)"
   ]
  },
  {
   "cell_type": "code",
   "execution_count": null,
   "id": "223d3109",
   "metadata": {},
   "outputs": [],
   "source": [
    "print(x + 5)"
   ]
  },
  {
   "cell_type": "code",
   "execution_count": null,
   "id": "49646a3b",
   "metadata": {},
   "outputs": [],
   "source": [
    "a = 1\n",
    "b = 3.14\n",
    "c = \"Bob\"\n",
    "d = False"
   ]
  },
  {
   "cell_type": "code",
   "execution_count": null,
   "id": "bf039803",
   "metadata": {},
   "outputs": [],
   "source": [
    "type(a)"
   ]
  },
  {
   "cell_type": "code",
   "execution_count": null,
   "id": "9949df31",
   "metadata": {},
   "outputs": [],
   "source": [
    "type(b)"
   ]
  },
  {
   "cell_type": "code",
   "execution_count": null,
   "id": "5cbe7342",
   "metadata": {},
   "outputs": [],
   "source": [
    "type(c)"
   ]
  },
  {
   "cell_type": "code",
   "execution_count": null,
   "id": "fa44af54",
   "metadata": {},
   "outputs": [],
   "source": [
    "type(d)"
   ]
  },
  {
   "cell_type": "code",
   "execution_count": null,
   "id": "225ad95c",
   "metadata": {},
   "outputs": [],
   "source": [
    "1 == 1"
   ]
  },
  {
   "cell_type": "code",
   "execution_count": null,
   "id": "984dc371",
   "metadata": {},
   "outputs": [],
   "source": [
    "a == 2"
   ]
  },
  {
   "cell_type": "code",
   "execution_count": null,
   "id": "fd6ef1fe",
   "metadata": {},
   "outputs": [],
   "source": [
    "new_list = [a,b,c,d]"
   ]
  },
  {
   "cell_type": "code",
   "execution_count": null,
   "id": "3112265e",
   "metadata": {},
   "outputs": [],
   "source": [
    "type(new_list)"
   ]
  },
  {
   "cell_type": "code",
   "execution_count": null,
   "id": "96f43956",
   "metadata": {},
   "outputs": [],
   "source": [
    "print(new_list)"
   ]
  },
  {
   "cell_type": "code",
   "execution_count": null,
   "id": "ea26aa19",
   "metadata": {},
   "outputs": [],
   "source": [
    "new_list[0:4]"
   ]
  },
  {
   "cell_type": "code",
   "execution_count": null,
   "id": "a05a383a",
   "metadata": {},
   "outputs": [],
   "source": [
    "for i in new_list:\n",
    "    print(i)"
   ]
  },
  {
   "cell_type": "code",
   "execution_count": null,
   "id": "f87ec0c3",
   "metadata": {},
   "outputs": [],
   "source": [
    "for i in [0,1,2,3,4,5,6,7,8,9,10]:\n",
    "    if 2< i < 8:\n",
    "        print(i+100)\n",
    "    else:\n",
    "        print(\"Nope\")"
   ]
  },
  {
   "cell_type": "code",
   "execution_count": null,
   "id": "bd08bfcc",
   "metadata": {},
   "outputs": [],
   "source": [
    "def Function_one(x,y):\n",
    "    z = x + y\n",
    "    return z"
   ]
  },
  {
   "cell_type": "code",
   "execution_count": null,
   "id": "7f6b81d1",
   "metadata": {},
   "outputs": [],
   "source": [
    "Function_one(4,10)"
   ]
  },
  {
   "cell_type": "code",
   "execution_count": null,
   "id": "91bd2c03",
   "metadata": {},
   "outputs": [],
   "source": [
    "import pandas as pd"
   ]
  },
  {
   "cell_type": "code",
   "execution_count": null,
   "id": "a98f00a5",
   "metadata": {},
   "outputs": [],
   "source": [
    "path_to_file = r\"C:/repositories/DOH/dgmqt/dgmq_sample.xlsx\" \n",
    "\n",
    "df = pd.read_excel(path_to_file)"
   ]
  },
  {
   "cell_type": "code",
   "execution_count": null,
   "id": "4fcad7f3",
   "metadata": {},
   "outputs": [],
   "source": [
    "df.head(10)"
   ]
  },
  {
   "cell_type": "code",
   "execution_count": null,
   "id": "5b68db83",
   "metadata": {},
   "outputs": [],
   "source": [
    "df.info()"
   ]
  },
  {
   "cell_type": "code",
   "execution_count": null,
   "id": "8e14224e",
   "metadata": {},
   "outputs": [],
   "source": [
    "df.dropna(how = \"all\", axis = 1, inplace = True)"
   ]
  },
  {
   "cell_type": "code",
   "execution_count": null,
   "id": "664c27d8",
   "metadata": {},
   "outputs": [],
   "source": [
    "df.info()"
   ]
  },
  {
   "cell_type": "code",
   "execution_count": null,
   "id": "ecc6bab0",
   "metadata": {},
   "outputs": [],
   "source": [
    "df[\"LHJ (Person) (Person)\"]"
   ]
  },
  {
   "cell_type": "code",
   "execution_count": null,
   "id": "7eeab388",
   "metadata": {},
   "outputs": [],
   "source": [
    "df[[\"LHJ (Person) (Person)\",\"County (Person) (Person)\"]]"
   ]
  },
  {
   "cell_type": "code",
   "execution_count": null,
   "id": "b5fe7473",
   "metadata": {},
   "outputs": [],
   "source": [
    "df[\"LHJ (Person) (Person)\"].unique()"
   ]
  },
  {
   "cell_type": "code",
   "execution_count": null,
   "id": "51c963ff",
   "metadata": {},
   "outputs": [],
   "source": [
    "df[\"County (Person) (Person)\"].unique()"
   ]
  },
  {
   "cell_type": "code",
   "execution_count": null,
   "id": "e5eb323d",
   "metadata": {},
   "outputs": [],
   "source": [
    "df.groupby(\"County (Person) (Person)\").size()"
   ]
  },
  {
   "cell_type": "code",
   "execution_count": null,
   "id": "894de7a0",
   "metadata": {},
   "outputs": [],
   "source": [
    "df.groupby(\"County (Person) (Person)\").size().plot(kind = \"bar\")"
   ]
  },
  {
   "cell_type": "code",
   "execution_count": null,
   "id": "cf7be6ba",
   "metadata": {},
   "outputs": [],
   "source": [
    "a = df[\"LHJ (Person) (Person)\"] == \"DOH Only\""
   ]
  },
  {
   "cell_type": "code",
   "execution_count": null,
   "id": "63edb90d",
   "metadata": {},
   "outputs": [],
   "source": [
    "b = df[\"County (Person) (Person)\"] == \"Clark\""
   ]
  },
  {
   "cell_type": "code",
   "execution_count": null,
   "id": "4eb70671",
   "metadata": {},
   "outputs": [],
   "source": [
    "df[a].shape"
   ]
  },
  {
   "cell_type": "code",
   "execution_count": null,
   "id": "6744861a",
   "metadata": {},
   "outputs": [],
   "source": [
    "df[b].shape"
   ]
  },
  {
   "cell_type": "code",
   "execution_count": null,
   "id": "897bad1c",
   "metadata": {},
   "outputs": [],
   "source": [
    "df[a & b].shape"
   ]
  },
  {
   "cell_type": "code",
   "execution_count": null,
   "id": "ca1dccbd",
   "metadata": {},
   "outputs": [],
   "source": [
    "def function_two(df):\n",
    "    a = df[\"LHJ (Person) (Person)\"] == \"DOH Only\"\n",
    "    b = df[\"County (Person) (Person)\"] == \"Clark\"\n",
    "    \n",
    "    new_df = df[a & b].copy()\n",
    "    \n",
    "    return new_df"
   ]
  },
  {
   "cell_type": "code",
   "execution_count": null,
   "id": "f8912253",
   "metadata": {},
   "outputs": [],
   "source": [
    "function_two(df)"
   ]
  },
  {
   "cell_type": "code",
   "execution_count": null,
   "id": "119f07dc",
   "metadata": {},
   "outputs": [],
   "source": []
  },
  {
   "cell_type": "code",
   "execution_count": null,
   "id": "fdb89aee",
   "metadata": {},
   "outputs": [],
   "source": []
  }
 ],
 "metadata": {
  "kernelspec": {
   "display_name": "Python 3",
   "language": "python",
   "name": "python3"
  },
  "language_info": {
   "codemirror_mode": {
    "name": "ipython",
    "version": 3
   },
   "file_extension": ".py",
   "mimetype": "text/x-python",
   "name": "python",
   "nbconvert_exporter": "python",
   "pygments_lexer": "ipython3",
   "version": "3.8.10"
  }
 },
 "nbformat": 4,
 "nbformat_minor": 5
}
