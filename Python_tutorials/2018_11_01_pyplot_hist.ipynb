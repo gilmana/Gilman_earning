{
 "cells": [
  {
   "cell_type": "markdown",
   "metadata": {},
   "source": [
    "# Objective: Understand how to overlay pyplot hist objects"
   ]
  },
  {
   "cell_type": "code",
   "execution_count": 1,
   "metadata": {},
   "outputs": [],
   "source": [
    "import pandas as pd\n",
    "import numpy as np\n",
    "import matplotlib.pyplot as plt"
   ]
  },
  {
   "cell_type": "markdown",
   "metadata": {},
   "source": [
    "# How does this work? the n, bins, patches part?\n",
    "https://stackoverflow.com/questions/23617129/matplotlib-how-to-make-two-histograms-have-the-same-bin-width"
   ]
  },
  {
   "cell_type": "code",
   "execution_count": 2,
   "metadata": {},
   "outputs": [],
   "source": [
    "#Peak VCD per D42 bioreactor for experiment and control \n",
    "exp = [42.62, 54.55, 62.75, 62.4, 53.29, 60.7, 21.37, 35.56, 18.51, 36.54, 43.38, 15.91, 25.12, 22.2, 34.68,\n",
    "       47.89, 41.09, 43.8, 27.3, 35.38, 72.46, 33.51, 22.96, 48.92, 64.26, 18.83, 8.59, 24.63, 28.36, 29.63, \n",
    "       28.47, 43.18, 30.89, 24.19, 21.52, 31.11, 40.76, 31.94, 34.82, 7.45, 19.9]\n",
    "control = [29.97, 30.32, 48.28, 30.95, 27.34, 31.37, 35.77, 29.25]"
   ]
  },
  {
   "cell_type": "markdown",
   "metadata": {},
   "source": [
    "#### Converting lists of data to DF attempt 1\n",
    "\n",
    "Problem: Cannot convert lists of different lengths into a dataframe "
   ]
  },
  {
   "cell_type": "code",
   "execution_count": 3,
   "metadata": {},
   "outputs": [],
   "source": [
    "#long solution: convert to dict of series manually then to dataframe \n",
    "exp_series = pd.Series(exp)\n",
    "control_series = pd.Series(control)\n",
    "\n",
    "series_dict = {\"a\":exp_series,\n",
    "              \"b\":control_series}\n",
    "\n",
    "#Dataframe came make dataframes from Series dtypes that are not the same length but not from lists \n",
    "df_data = pd.DataFrame(series_dict)"
   ]
  },
  {
   "cell_type": "code",
   "execution_count": 4,
   "metadata": {},
   "outputs": [],
   "source": [
    "#more concise way, use dict comprehension to convert dict of lists to dict of series then to dataframe \n",
    "\n",
    "data_dict = {\"exp\": exp,\n",
    "            \"control\": control}\n",
    "\n",
    "series_dict_1 = {k: pd.Series(v) for k,v in data_dict.items()}\n",
    "df_data_1 = pd.DataFrame(series_dict_1)\n"
   ]
  },
  {
   "cell_type": "markdown",
   "metadata": {},
   "source": [
    "#### Converting lists of data to DF attempt 2\n",
    "\n",
    "Problem: joined dataframe may work for historgrams in this case, but want to be able to have 1 data column and descriptive column, then group and plot"
   ]
  },
  {
   "cell_type": "code",
   "execution_count": 5,
   "metadata": {},
   "outputs": [],
   "source": [
    "# long solution: manually create extra column with type of data then concat, reset index and drop old index "
   ]
  },
  {
   "cell_type": "code",
   "execution_count": 6,
   "metadata": {},
   "outputs": [],
   "source": [
    "#manual series to dataframe and manual add of type column\n",
    "df_test_exp = pd.DataFrame(exp_series, columns = [\"vcd\"])\n",
    "df_test_exp[\"type\"] = \"exp\"\n",
    "\n",
    "df_test_control = pd.DataFrame(control_series, columns = [\"vcd\"])\n",
    "df_test_control[\"type\"] = \"control\"\n",
    "\n",
    "df_merged = pd.concat([df_test_control, df_test_exp]) #glue together on axis = 0\n",
    "\n",
    "df_merged.reset_index(inplace = True, drop = True) #reset index and drop old index and done!"
   ]
  },
  {
   "cell_type": "markdown",
   "metadata": {},
   "source": [
    "### OK now need to plot the histograms"
   ]
  },
  {
   "cell_type": "code",
   "execution_count": 7,
   "metadata": {},
   "outputs": [
    {
     "data": {
      "text/plain": [
       "<matplotlib.legend.Legend at 0x107b04080>"
      ]
     },
     "execution_count": 7,
     "metadata": {},
     "output_type": "execute_result"
    },
    {
     "data": {
      "image/png": "[encoded data removed]",
      "text/plain": [
       "<Figure size 432x288 with 1 Axes>"
      ]
     },
     "metadata": {},
     "output_type": "display_data"
    }
   ],
   "source": [
    "#Using matplotlib to overlay plots with color transperancy \n",
    "# I can easily control the color of each subplot \n",
    "\n",
    "\n",
    "plt.hist(df_merged[df_merged[\"type\"] == \"control\"][\"vcd\"], label =\"control\", color = \"red\")\n",
    "plt.hist(df_merged[df_merged[\"type\"] == \"exp\"][\"vcd\"], label = \"exp\", alpha = 0.6, color = \"b\")\n",
    "plt.legend()"
   ]
  },
  {
   "cell_type": "code",
   "execution_count": 8,
   "metadata": {},
   "outputs": [
    {
     "data": {
      "text/plain": [
       "type\n",
       "control    AxesSubplot(0.125,0.125;0.775x0.755)\n",
       "exp        AxesSubplot(0.125,0.125;0.775x0.755)\n",
       "Name: vcd, dtype: object"
      ]
     },
     "execution_count": 8,
     "metadata": {},
     "output_type": "execute_result"
    },
    {
     "data": {
      "image/png": "[encoded data removed]",
      "text/plain": [
       "<Figure size 432x288 with 1 Axes>"
      ]
     },
     "metadata": {},
     "output_type": "display_data"
    }
   ],
   "source": [
    "# Using pandas and groupby, I dont know how to control the color of each group\n",
    "\n",
    "df_merged.groupby(\"type\")[\"vcd\"].hist(alpha = 0.5,)"
   ]
  },
  {
   "cell_type": "code",
   "execution_count": 12,
   "metadata": {},
   "outputs": [
    {
     "data": {
      "text/plain": [
       "<matplotlib.legend.Legend at 0x11279d198>"
      ]
     },
     "execution_count": 12,
     "metadata": {},
     "output_type": "execute_result"
    },
    {
     "data": {
      "image/png": "[encoded data removed]",
      "text/plain": [
       "<Figure size 432x288 with 1 Axes>"
      ]
     },
     "metadata": {},
     "output_type": "display_data"
    }
   ],
   "source": [
    "#PLaying with the order of plots\n",
    "fig = plt.figure()\n",
    "ax = fig.add_subplot(1,1,1)\n",
    "\n",
    "ax.hist(df_merged[df_merged[\"type\"] == \"exp\"][\"vcd\"], label = \"exp\", alpha = 0.6, color = \"b\")\n",
    "ax.hist(df_merged[df_merged[\"type\"] == \"control\"][\"vcd\"], label =\"control\", color = \"red\")\n",
    "\n",
    "plt.legend()"
   ]
  },
  {
   "cell_type": "code",
   "execution_count": null,
   "metadata": {},
   "outputs": [],
   "source": [
    "df_merged.hist()"
   ]
  },
  {
   "cell_type": "markdown",
   "metadata": {},
   "source": [
    "### To learn \n",
    "\n",
    "How to generally interacts with the pandas plots \n",
    "- how to change color on the pandas plots \n",
    "- how to change titles on the pandas plots \n",
    "\n",
    "How to set plot styles to be seaborn like but without background or grid \n",
    "\n",
    "How to create grouped overlayed histograms for every feature\n",
    "\n",
    "\n",
    "links:\n",
    "https://stackoverflow.com/questions/23617129/matplotlib-how-to-make-two-histograms-have-the-same-bin-width\n",
    "^ whats up with n bins batches?\n",
    "https://stackoverflow.com/questions/35878064/plot-two-histograms-on-the-same-graph-and-have-their-columns-sum-to-100\n",
    "^generic histogram plot"
   ]
  },
  {
   "cell_type": "code",
   "execution_count": 14,
   "metadata": {},
   "outputs": [
    {
     "data": {
      "text/plain": [
       "'/Users/alexeygilman/repos/Gilman_earning/Python_tutorials'"
      ]
     },
     "execution_count": 14,
     "metadata": {},
     "output_type": "execute_result"
    }
   ],
   "source": [
    "pwd"
   ]
  },
  {
   "cell_type": "code",
   "execution_count": 15,
   "metadata": {},
   "outputs": [
    {
     "name": "stdout",
     "output_type": "stream",
     "text": [
      "2016_11_28_learning_about_classes.ipynb\r\n",
      "2016_11_29_Groupby_and_indexing.ipynb\r\n",
      "2016_11_29_Learning_about_classes .ipynb\r\n",
      "2017_01_23_pyplot_dual_interface_and_ovarlay_plots_for_multiple_y_axis.ipynb\r\n",
      "2017_01_26_Nested_for_loops_itterate_across_rows_for_pairwise_difference_in_sums_generators_iterators_yield.ipynb\r\n",
      "2017_02_16_Function_within_function_magic.ipynb\r\n",
      "2017_03_01_Playing_with_HDBSCAN_clustering_algorithm.ipynb\r\n",
      "2018_11_01_pyplot_hist.ipynb\r\n",
      "TPM_200_rows.csv\r\n"
     ]
    }
   ],
   "source": [
    "ls"
   ]
  },
  {
   "cell_type": "code",
   "execution_count": 16,
   "metadata": {},
   "outputs": [],
   "source": [
    "df = pd.read_csv(\"D42-CHR-0060 DOE JMP 100418 Day14Subset.csv\")"
   ]
  },
  {
   "cell_type": "code",
   "execution_count": 21,
   "metadata": {},
   "outputs": [],
   "source": [
    "df_outputes = df.iloc[:,8:20]"
   ]
  },
  {
   "cell_type": "code",
   "execution_count": 37,
   "metadata": {},
   "outputs": [
    {
     "data": {
      "text/plain": [
       "Index(['Peak VCD (10E6 c/mL)', 'D14 Viability (%)', 'Titer (g/L)',\n",
       "       'qP (pg/c/day)', 'nrCE Main Peak (%)', 'nrCE Other Peaks (%)',\n",
       "       'rCE H+L (%)', 'rCE Other peaks (%)', 'SEC HMW (%)', 'SEC Main (%)',\n",
       "       'SEC LMW (%)', 'M5 (%)'],\n",
       "      dtype='object')"
      ]
     },
     "execution_count": 37,
     "metadata": {},
     "output_type": "execute_result"
    }
   ],
   "source": [
    "df_outputes.columns"
   ]
  },
  {
   "cell_type": "code",
   "execution_count": 28,
   "metadata": {},
   "outputs": [
    {
     "data": {
      "text/plain": [
       "pandas.core.indexes.base.Index"
      ]
     },
     "execution_count": 28,
     "metadata": {},
     "output_type": "execute_result"
    }
   ],
   "source": [
    "type(df_outputes.columns)"
   ]
  },
  {
   "cell_type": "code",
   "execution_count": 50,
   "metadata": {},
   "outputs": [
    {
     "data": {
      "image/png": "[encoded data removed]",
      "text/plain": [
       "<Figure size 432x288 with 12 Axes>"
      ]
     },
     "metadata": {},
     "output_type": "display_data"
    }
   ],
   "source": [
    "\n",
    "fig = plt.figure()\n",
    "n = 0\n",
    "for i in df_outputes.columns:\n",
    "    n +=1\n",
    "    ax = fig.add_subplot(3,4,n)\n",
    "    ax.hist(df_outputes[i].dropna())\n",
    "\n",
    "plt.tight_layout()\n",
    "    #print(i)"
   ]
  },
  {
   "cell_type": "code",
   "execution_count": 44,
   "metadata": {},
   "outputs": [
    {
     "name": "stderr",
     "output_type": "stream",
     "text": [
      "/Users/alexeygilman/miniconda3/envs/data_wrangling/lib/python3.6/site-packages/numpy/lib/function_base.py:780: RuntimeWarning: invalid value encountered in greater_equal\n",
      "  keep = (tmp_a >= first_edge)\n",
      "/Users/alexeygilman/miniconda3/envs/data_wrangling/lib/python3.6/site-packages/numpy/lib/function_base.py:781: RuntimeWarning: invalid value encountered in less_equal\n",
      "  keep &= (tmp_a <= last_edge)\n"
     ]
    },
    {
     "data": {
      "text/plain": [
       "(array([ 4.,  2.,  9.,  3., 14., 10.,  7.,  0.,  0.,  0.]),\n",
       " array([0. , 0.7, 1.4, 2.1, 2.8, 3.5, 4.2, 4.9, 5.6, 6.3, 7. ]),\n",
       " <a list of 10 Patch objects>)"
      ]
     },
     "execution_count": 44,
     "metadata": {},
     "output_type": "execute_result"
    },
    {
     "data": {
      "image/png": "[encoded data removed]",
      "text/plain": [
       "<Figure size 432x288 with 1 Axes>"
      ]
     },
     "metadata": {},
     "output_type": "display_data"
    }
   ],
   "source": [
    "fig = plt.figure()\n",
    "\n",
    "ax = fig.add_subplot(1,1,1)\n",
    "ax.hist(df_outputes['Titer (g/L)'], range = [0,7])"
   ]
  },
  {
   "cell_type": "code",
   "execution_count": 47,
   "metadata": {},
   "outputs": [
    {
     "data": {
      "text/plain": [
       "0     4.0\n",
       "1     4.5\n",
       "2     3.4\n",
       "3     2.2\n",
       "4     4.5\n",
       "5     2.8\n",
       "6     4.0\n",
       "7     4.4\n",
       "8     3.1\n",
       "9     2.0\n",
       "10    2.9\n",
       "11    2.6\n",
       "12    3.8\n",
       "13    0.9\n",
       "14    3.2\n",
       "17    4.5\n",
       "18    2.0\n",
       "19    3.8\n",
       "20    3.2\n",
       "21    1.5\n",
       "22    0.0\n",
       "23    1.9\n",
       "24    0.4\n",
       "25    4.0\n",
       "26    4.4\n",
       "27    3.3\n",
       "28    0.9\n",
       "29    0.4\n",
       "30    1.4\n",
       "31    3.4\n",
       "32    1.8\n",
       "33    1.7\n",
       "34    3.1\n",
       "35    3.8\n",
       "36    4.1\n",
       "37    3.1\n",
       "38    3.0\n",
       "39    4.2\n",
       "40    4.5\n",
       "41    3.6\n",
       "42    3.5\n",
       "43    0.3\n",
       "44    2.8\n",
       "45    1.4\n",
       "46    2.2\n",
       "47    3.6\n",
       "48    1.6\n",
       "49    3.2\n",
       "50    3.1\n",
       "Name: Titer (g/L), dtype: float64"
      ]
     },
     "execution_count": 47,
     "metadata": {},
     "output_type": "execute_result"
    }
   ],
   "source": [
    "df_outputes['Titer (g/L)'].dropna()"
   ]
  },
  {
   "cell_type": "code",
   "execution_count": null,
   "metadata": {},
   "outputs": [],
   "source": []
  }
 ],
 "metadata": {
  "kernelspec": {
   "display_name": "Python [conda env:data_wrangling]",
   "language": "python",
   "name": "conda-env-data_wrangling-py"
  },
  "language_info": {
   "codemirror_mode": {
    "name": "ipython",
    "version": 3
   },
   "file_extension": ".py",
   "mimetype": "text/x-python",
   "name": "python",
   "nbconvert_exporter": "python",
   "pygments_lexer": "ipython3",
   "version": "3.6.5"
  }
 },
 "nbformat": 4,
 "nbformat_minor": 2
}
