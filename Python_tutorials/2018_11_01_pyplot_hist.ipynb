{
 "cells": [
  {
   "cell_type": "markdown",
   "metadata": {},
   "source": [
    "# Objective: Understand how to overlay pyplot hist objects"
   ]
  },
  {
   "cell_type": "code",
   "execution_count": 1,
   "metadata": {},
   "outputs": [],
   "source": [
    "import pandas as pd\n",
    "import numpy as np\n",
    "import matplotlib.pyplot as plt\n",
    "import matplotlib as mpl\n",
    "\n",
    "import seaborn as sns\n",
    "sns.set_style(\"whitegrid\", {'axes.grid' : False})"
   ]
  },
  {
   "cell_type": "code",
   "execution_count": 2,
   "metadata": {},
   "outputs": [],
   "source": [
    "#Peak VCD per D42 bioreactor for experiment and control \n",
    "exp = [42.62, 54.55, 62.75, 62.4, 53.29, 60.7, 21.37, 35.56, 18.51, 36.54, 43.38, 15.91, 25.12, 22.2, 34.68,\n",
    "       47.89, 41.09, 43.8, 27.3, 35.38, 72.46, 33.51, 22.96, 48.92, 64.26, 18.83, 8.59, 24.63, 28.36, 29.63, \n",
    "       28.47, 43.18, 30.89, 24.19, 21.52, 31.11, 40.76, 31.94, 34.82, 7.45, 19.9]\n",
    "control = [29.97, 30.32, 48.28, 30.95, 27.34, 31.37, 35.77, 29.25]"
   ]
  },
  {
   "cell_type": "markdown",
   "metadata": {},
   "source": [
    "#### Converting lists of data to DF attempt 1\n",
    "\n",
    "Problem: Cannot convert lists of different lengths into a dataframe "
   ]
  },
  {
   "cell_type": "code",
   "execution_count": 3,
   "metadata": {},
   "outputs": [],
   "source": [
    "#long solution: convert to dict of series manually then to dataframe \n",
    "exp_series = pd.Series(exp)\n",
    "control_series = pd.Series(control)\n",
    "\n",
    "series_dict = {\"a\":exp_series,\n",
    "              \"b\":control_series}\n",
    "\n",
    "#Dataframe came make dataframes from Series dtypes that are not the same length but not from lists \n",
    "df_data = pd.DataFrame(series_dict)"
   ]
  },
  {
   "cell_type": "code",
   "execution_count": 4,
   "metadata": {},
   "outputs": [],
   "source": [
    "#more concise way, use dict comprehension to convert dict of lists to dict of series then to dataframe \n",
    "\n",
    "data_dict = {\"exp\": exp,\n",
    "            \"control\": control}\n",
    "\n",
    "series_dict_1 = {k: pd.Series(v) for k,v in data_dict.items()}\n",
    "df_data_1 = pd.DataFrame(series_dict_1)\n"
   ]
  },
  {
   "cell_type": "markdown",
   "metadata": {},
   "source": [
    "#### Converting lists of data to DF attempt 2\n",
    "\n",
    "Problem: joined dataframe may work for historgrams in this case, but want to be able to have 1 data column and descriptive column, then group and plot"
   ]
  },
  {
   "cell_type": "code",
   "execution_count": 5,
   "metadata": {},
   "outputs": [],
   "source": [
    "# long solution: manually create extra column with type of data then concat, reset index and drop old index "
   ]
  },
  {
   "cell_type": "code",
   "execution_count": 6,
   "metadata": {},
   "outputs": [],
   "source": [
    "#manual series to dataframe and manual add of type column\n",
    "df_test_exp = pd.DataFrame(exp_series, columns = [\"vcd\"])\n",
    "df_test_exp[\"type\"] = \"exp\"\n",
    "\n",
    "df_test_control = pd.DataFrame(control_series, columns = [\"vcd\"])\n",
    "df_test_control[\"type\"] = \"control\"\n",
    "\n",
    "df_merged = pd.concat([df_test_control, df_test_exp]) #glue together on axis = 0\n",
    "\n",
    "df_merged.reset_index(inplace = True, drop = True) #reset index and drop old index and done!"
   ]
  },
  {
   "cell_type": "markdown",
   "metadata": {},
   "source": [
    "## OK now need to plot the histograms"
   ]
  },
  {
   "cell_type": "code",
   "execution_count": 7,
   "metadata": {},
   "outputs": [
    {
     "data": {
      "text/plain": [
       "type\n",
       "control    AxesSubplot(0.125,0.125;0.775x0.755)\n",
       "exp        AxesSubplot(0.125,0.125;0.775x0.755)\n",
       "Name: vcd, dtype: object"
      ]
     },
     "execution_count": 7,
     "metadata": {},
     "output_type": "execute_result"
    },
    {
     "data": {
      "image/png": "[encoded data removed]",
      "text/plain": [
       "<Figure size 432x288 with 1 Axes>"
      ]
     },
     "metadata": {},
     "output_type": "display_data"
    }
   ],
   "source": [
    "# Using pandas and groupby, quick way for a single grouped histogram \n",
    "\n",
    "#I dont know how to control the color of each group\n",
    "\n",
    "df_merged.groupby(\"type\")[\"vcd\"].hist(alpha = 0.5,)"
   ]
  },
  {
   "cell_type": "code",
   "execution_count": 8,
   "metadata": {},
   "outputs": [
    {
     "data": {
      "text/plain": [
       "<matplotlib.legend.Legend at 0x19d2b59d668>"
      ]
     },
     "execution_count": 8,
     "metadata": {},
     "output_type": "execute_result"
    },
    {
     "data": {
      "image/png": "[encoded data removed]",
      "text/plain": [
       "<Figure size 432x288 with 1 Axes>"
      ]
     },
     "metadata": {},
     "output_type": "display_data"
    }
   ],
   "source": [
    "#Using matplotlib to overlay plots with color transperancy \n",
    "# I can easily control the color of each subplot \n",
    "\n",
    "fig = plt.figure()\n",
    "ax = fig.add_subplot(1,1,1)\n",
    "\n",
    "ax.hist(df_merged[df_merged[\"type\"] == \"exp\"][\"vcd\"], label = \"exp\", alpha = 0.6, color = \"b\")\n",
    "ax.hist(df_merged[df_merged[\"type\"] == \"control\"][\"vcd\"], label =\"control\", color = \"red\")\n",
    "\n",
    "plt.legend()"
   ]
  },
  {
   "cell_type": "markdown",
   "metadata": {},
   "source": [
    "## To learn \n",
    "\n",
    "How to generally interacts with the pandas plots \n",
    "- is it worth even using pandas instead of creating it with matplotlib?\n",
    "\n",
    "How to set plot styles to be seaborn like but without background or grid \n",
    "\n",
    "How to create grouped overlayed histograms for every feature\n",
    "\n",
    "\n",
    "links:\n",
    "https://stackoverflow.com/questions/23617129/matplotlib-how-to-make-two-histograms-have-the-same-bin-width\n",
    "^ whats up with n bins batches?\n",
    "https://stackoverflow.com/questions/35878064/plot-two-histograms-on-the-same-graph-and-have-their-columns-sum-to-100\n",
    "^generic histogram plot"
   ]
  },
  {
   "cell_type": "markdown",
   "metadata": {},
   "source": [
    "# Creating grouped historgrams with larger dataset (D42 Data)"
   ]
  },
  {
   "cell_type": "code",
   "execution_count": 9,
   "metadata": {},
   "outputs": [],
   "source": [
    "df = pd.read_csv(\"D42-CHR-0060 DOE JMP 100418 Day14Subset.csv\") #import the csv dataset file\n",
    "df_outputes = df.iloc[:,8:20] #isolate only the columns with dependant variables (experimental outputs)\n",
    "df_outputes = pd.concat([df_outputes, df[\"Cond\"]], axis = 1) #add a categorical column from original data to outputs"
   ]
  },
  {
   "cell_type": "markdown",
   "metadata": {},
   "source": [
    "### Objective: Create a function that plots histograms for every column in a dataframe that is grouped by"
   ]
  },
  {
   "cell_type": "code",
   "execution_count": 211,
   "metadata": {},
   "outputs": [],
   "source": [
    "def grouped_histograms(df_data, df_group):\n",
    "    \n",
    "    \"\"\"\n",
    "    arguments: \n",
    "    df_data = dataframe containing columns of data to be plotted as a histogram.  \n",
    "    df_group = dataframe containing a single column of categorical data. \n",
    "                must be same number of rows as df_data. \n",
    "                \n",
    "    return: no object returned, however hist.png is saved in local dir\n",
    "    \"\"\"\n",
    "    \n",
    "    #forcing to use the following colors in this order for hist\n",
    "    colors_list = [\"blue\",\"crimson\", \"green\", \"cyan\", \"violet\", \"orange\", \"lime\", \"gold\"]\n",
    "    \n",
    "    groups = df_group[\"Cond\"].unique() #array of unique groups\n",
    "    n = 0 #counting subplots \n",
    "    \n",
    "    \n",
    "    #logic for # of subplot rows for (# rows) x 4 subplot grid \n",
    "    if len(df_data.columns)%4 > 0:\n",
    "        plt_rows = (int(len(df_data.columns)) + 1)\n",
    "    else:\n",
    "        plt_rows = int(len(df_data.columns)/4)\n",
    "\n",
    "    \n",
    "    fig = plt.figure(figsize = (30,20)) \n",
    "    \n",
    "    #for every column, create a subplot. \n",
    "    for i in df_data.columns:\n",
    "        \n",
    "        bin_count = int((len(df[i]))**(1/2)) # (# of bins) = sqaure root of number of data points, i.e., column length\n",
    "        bin_edges = np.histogram(df_data[i].dropna(), bins = bin_count)[1] #getting bin edges for all the data (all groups)\n",
    "        \n",
    "        n +=1\n",
    "        ax = fig.add_subplot(plt_rows,4,n)\n",
    "        ax.set_title(i, fontsize = 20, fontweight = \"bold\")\n",
    "        ax.tick_params(axis='both', which='major', labelsize=16)\n",
    "        \n",
    "        # for every group, draw a hist \n",
    "        for p, color in zip(groups, colors_list):\n",
    "             #index by group,\n",
    "            ax.hist(df_data[df_group.iloc[:,0] == p][i].dropna(), bins = bin_edges,  alpha = 0.7, label = p, color = color)\n",
    "        plt.legend(fontsize = 16)\n",
    "\n",
    "    plt.tight_layout\n",
    "    plt.savefig(\"hist.png\", bbox_inches = \"tight\", dpi = 200)\n",
    "    return"
   ]
  },
  {
   "cell_type": "code",
   "execution_count": 212,
   "metadata": {},
   "outputs": [],
   "source": [
    "df_0 = df_outputes.iloc[:,:-1]\n",
    "df_1 = pd.DataFrame(df_outputes.iloc[:,-1])"
   ]
  },
  {
   "cell_type": "code",
   "execution_count": 213,
   "metadata": {},
   "outputs": [
    {
     "data": {
      "image/png": "[encoded data removed]",
      "text/plain": [
       "<Figure size 2160x1440 with 12 Axes>"
      ]
     },
     "metadata": {},
     "output_type": "display_data"
    }
   ],
   "source": [
    "grouped_histograms(df_0, df_1)"
   ]
  },
  {
   "cell_type": "markdown",
   "metadata": {},
   "source": [
    "# How does this work? the n, bins, patches part?\n",
    "https://stackoverflow.com/questions/23617129/matplotlib-how-to-make-two-histograms-have-the-same-bin-width\n",
    "recurring with colors for hist:\n",
    "https://stackoverflow.com/questions/43872450/matplotlib-histogram-with-legend\n",
    "\n",
    "\n",
    "links: https://stackoverflow.com/questions/23617129/matplotlib-how-to-make-two-histograms-have-the-same-bin-width ^ whats up with n bins batches? https://stackoverflow.com/questions/35878064/plot-two-histograms-on-the-same-graph-and-have-their-columns-sum-to-100 ^generic histogram plot"
   ]
  },
  {
   "cell_type": "markdown",
   "metadata": {},
   "source": [
    "# Appendix"
   ]
  },
  {
   "cell_type": "code",
   "execution_count": 199,
   "metadata": {},
   "outputs": [
    {
     "name": "stdout",
     "output_type": "stream",
     "text": [
      "7\n",
      "7\n",
      "7\n",
      "7\n",
      "7\n",
      "7\n",
      "7\n",
      "7\n",
      "7\n",
      "7\n",
      "7\n",
      "7\n"
     ]
    }
   ],
   "source": [
    "for i in df_0.columns:\n",
    "    bins = int((len(df[i]))**(1/2))\n",
    "    print (bins)"
   ]
  },
  {
   "cell_type": "code",
   "execution_count": null,
   "metadata": {},
   "outputs": [],
   "source": []
  },
  {
   "cell_type": "code",
   "execution_count": 113,
   "metadata": {},
   "outputs": [],
   "source": [
    "np?"
   ]
  },
  {
   "cell_type": "code",
   "execution_count": 176,
   "metadata": {},
   "outputs": [
    {
     "data": {
      "image/png": "[encoded data removed]",
      "text/plain": [
       "<Figure size 360x360 with 1 Axes>"
      ]
     },
     "metadata": {},
     "output_type": "display_data"
    }
   ],
   "source": [
    "mu = 100 # mean of distribution\n",
    "sigma = 15 # standard deviation of distribution\n",
    "x = mu + sigma * np.random.randn(10000)\n",
    "num_bins = 40\n",
    "\n",
    "fig = plt.figure(figsize=(5,5))\n",
    "\n",
    "n, bins, patches = plt.hist(x, num_bins, facecolor='green', alpha=0.5)\n"
   ]
  },
  {
   "cell_type": "code",
   "execution_count": 42,
   "metadata": {},
   "outputs": [
    {
     "data": {
      "text/plain": [
       "array([ 82.62832959, 107.17879269, 115.48211188, ..., 107.66352978,\n",
       "       138.64346195, 110.42939651])"
      ]
     },
     "execution_count": 42,
     "metadata": {},
     "output_type": "execute_result"
    }
   ],
   "source": [
    "x"
   ]
  },
  {
   "cell_type": "code",
   "execution_count": 40,
   "metadata": {},
   "outputs": [
    {
     "name": "stdout",
     "output_type": "stream",
     "text": [
      "[ 82.62832959 107.17879269 115.48211188 ... 107.66352978 138.64346195\n",
      " 110.42939651]\n"
     ]
    }
   ],
   "source": [
    "print(x)"
   ]
  },
  {
   "cell_type": "code",
   "execution_count": 177,
   "metadata": {},
   "outputs": [
    {
     "data": {
      "text/plain": [
       "array([ 39.64432803,  42.47926126,  45.31419449,  48.14912772,\n",
       "        50.98406095,  53.81899419,  56.65392742,  59.48886065,\n",
       "        62.32379388,  65.15872711,  67.99366034,  70.82859357,\n",
       "        73.66352681,  76.49846004,  79.33339327,  82.1683265 ,\n",
       "        85.00325973,  87.83819296,  90.67312619,  93.50805943,\n",
       "        96.34299266,  99.17792589, 102.01285912, 104.84779235,\n",
       "       107.68272558, 110.51765882, 113.35259205, 116.18752528,\n",
       "       119.02245851, 121.85739174, 124.69232497, 127.5272582 ,\n",
       "       130.36219144, 133.19712467, 136.0320579 , 138.86699113,\n",
       "       141.70192436, 144.53685759, 147.37179083, 150.20672406,\n",
       "       153.04165729])"
      ]
     },
     "execution_count": 177,
     "metadata": {},
     "output_type": "execute_result"
    }
   ],
   "source": [
    "bins"
   ]
  },
  {
   "cell_type": "markdown",
   "metadata": {},
   "source": [
    "### Several ways of creating a random distribution"
   ]
  },
  {
   "cell_type": "code",
   "execution_count": 79,
   "metadata": {},
   "outputs": [],
   "source": [
    "mu = 10\n",
    "sigma = 15\n",
    "distribution = mu + sigma * np.random.randn(100)"
   ]
  },
  {
   "cell_type": "code",
   "execution_count": 104,
   "metadata": {},
   "outputs": [],
   "source": [
    "dist = np.random.normal(loc = 0, scale = 15, size = 100) #loc = mean, scale = std dev, size = number of values "
   ]
  },
  {
   "cell_type": "code",
   "execution_count": 106,
   "metadata": {},
   "outputs": [],
   "source": [
    "bins = np.histogram(df_0[0]"
   ]
  },
  {
   "cell_type": "code",
   "execution_count": 207,
   "metadata": {},
   "outputs": [
    {
     "data": {
      "text/plain": [
       "(array([2, 0, 0, 1, 0, 3, 3, 3, 1, 4, 7, 2, 6, 3, 0, 2, 4, 0, 2, 1, 0, 2,\n",
       "        0, 0, 1, 2, 1, 0, 0, 1], dtype=int64),\n",
       " array([ 7.45 ,  9.617, 11.784, 13.951, 16.118, 18.285, 20.452, 22.619,\n",
       "        24.786, 26.953, 29.12 , 31.287, 33.454, 35.621, 37.788, 39.955,\n",
       "        42.122, 44.289, 46.456, 48.623, 50.79 , 52.957, 55.124, 57.291,\n",
       "        59.458, 61.625, 63.792, 65.959, 68.126, 70.293, 72.46 ]))"
      ]
     },
     "execution_count": 207,
     "metadata": {},
     "output_type": "execute_result"
    }
   ],
   "source": [
    "np.histogram(df_0[df_0.columns[0]], bins = 30)"
   ]
  },
  {
   "cell_type": "code",
   "execution_count": null,
   "metadata": {},
   "outputs": [],
   "source": []
  },
  {
   "cell_type": "code",
   "execution_count": 110,
   "metadata": {},
   "outputs": [],
   "source": [
    "a=np.random.random(100)*0.5 #a uniform distribution\n",
    "b=1-np.random.normal(size=100)*0.1 #a normal distribution \n",
    "bins=np.histogram(np.hstack((a,b)), bins=40)[1] #get the bin edges"
   ]
  },
  {
   "cell_type": "code",
   "execution_count": 111,
   "metadata": {},
   "outputs": [],
   "source": [
    "np.histogram?"
   ]
  },
  {
   "cell_type": "code",
   "execution_count": 117,
   "metadata": {},
   "outputs": [],
   "source": [
    "a = np.random.normal(loc = 0, scale = 5, size = 100)\n",
    "b = np.random.normal(loc = 4, scale = 0.5, size =100)"
   ]
  },
  {
   "cell_type": "code",
   "execution_count": 150,
   "metadata": {},
   "outputs": [
    {
     "data": {
      "text/plain": [
       "array([4.16060458, 4.62567337, 3.54963478, 3.5818498 , 4.39940565,\n",
       "       3.20182931, 4.16687287, 3.92763928, 3.98943648, 4.50813151,\n",
       "       2.71921688, 4.77049658, 4.56582485, 4.07286658, 4.21578802,\n",
       "       4.01818663, 3.59483351, 3.86117303, 3.96270373, 3.53672919,\n",
       "       4.6154836 , 4.46022265, 3.54537147, 3.10469785, 3.57358793,\n",
       "       3.8912687 , 4.4326726 , 4.4275813 , 3.24413622, 4.73666785,\n",
       "       3.59797569, 3.45071128, 3.3980964 , 3.56505822, 4.94081793,\n",
       "       4.35846529, 4.67419859, 3.636349  , 4.48866057, 4.63425212,\n",
       "       4.20407271, 4.41128497, 3.67094881, 4.7587911 , 4.98051383,\n",
       "       4.1956193 , 3.81669968, 3.78640133, 3.56432802, 3.98181565,\n",
       "       4.90213002, 3.96046456, 3.97741769, 4.00570398, 4.07978293,\n",
       "       3.86008889, 2.74948212, 3.89490972, 4.25744832, 3.83747752,\n",
       "       2.77395561, 3.41552081, 3.4014241 , 4.06129747, 3.16976004,\n",
       "       3.941427  , 3.87765136, 4.3581999 , 4.39273667, 3.97782058,\n",
       "       4.57388622, 4.13131471, 3.26043958, 3.84128726, 4.4029932 ,\n",
       "       4.34870125, 2.95435729, 4.11517051, 3.76400653, 4.51915543,\n",
       "       2.99949104, 3.50245118, 5.04913997, 4.38424303, 4.16135383,\n",
       "       4.02785392, 4.02309388, 4.29910482, 3.63335155, 4.6262733 ,\n",
       "       3.40367129, 3.16103417, 3.36406247, 3.71574795, 3.80194495,\n",
       "       3.61741778, 4.82421791, 3.97223787, 4.06341831, 4.70550948])"
      ]
     },
     "execution_count": 150,
     "metadata": {},
     "output_type": "execute_result"
    }
   ],
   "source": [
    "b"
   ]
  },
  {
   "cell_type": "code",
   "execution_count": 184,
   "metadata": {},
   "outputs": [
    {
     "ename": "TypeError",
     "evalue": "unsupported operand type(s) for ^: 'int' and 'float'",
     "output_type": "error",
     "traceback": [
      "\u001b[1;31m---------------------------------------------------------------------------\u001b[0m",
      "\u001b[1;31mTypeError\u001b[0m                                 Traceback (most recent call last)",
      "\u001b[1;32m<ipython-input-184-e5aa66148822>\u001b[0m in \u001b[0;36m<module>\u001b[1;34m()\u001b[0m\n\u001b[1;32m----> 1\u001b[1;33m \u001b[1;36m200\u001b[0m\u001b[1;33m^\u001b[0m\u001b[1;33m(\u001b[0m\u001b[1;36m1\u001b[0m\u001b[1;33m/\u001b[0m\u001b[1;36m2\u001b[0m\u001b[1;33m)\u001b[0m\u001b[1;33m\u001b[0m\u001b[0m\n\u001b[0m",
      "\u001b[1;31mTypeError\u001b[0m: unsupported operand type(s) for ^: 'int' and 'float'"
     ]
    }
   ],
   "source": []
  },
  {
   "cell_type": "code",
   "execution_count": 192,
   "metadata": {},
   "outputs": [],
   "source": [
    "exp = int(len(c)**(1/2))\n"
   ]
  },
  {
   "cell_type": "code",
   "execution_count": 193,
   "metadata": {},
   "outputs": [
    {
     "data": {
      "text/plain": [
       "14"
      ]
     },
     "execution_count": 193,
     "metadata": {},
     "output_type": "execute_result"
    }
   ],
   "source": [
    "exp"
   ]
  },
  {
   "cell_type": "code",
   "execution_count": 194,
   "metadata": {},
   "outputs": [
    {
     "data": {
      "text/plain": [
       "(array([ 0.,  0.,  0.,  0.,  0.,  0.,  0.,  0.,  6., 90.,  4.,  0.,  0.,\n",
       "         0.]), array([-11.98822231, -10.30666257,  -8.62510284,  -6.94354311,\n",
       "         -5.26198338,  -3.58042365,  -1.89886392,  -0.21730419,\n",
       "          1.46425554,   3.14581527,   4.82737501,   6.50893474,\n",
       "          8.19049447,   9.8720542 ,  11.55361393]), <a list of 14 Patch objects>)"
      ]
     },
     "execution_count": 194,
     "metadata": {},
     "output_type": "execute_result"
    },
    {
     "data": {
      "image/png": "[encoded data removed]",
      "text/plain": [
       "<Figure size 432x288 with 1 Axes>"
      ]
     },
     "metadata": {},
     "output_type": "display_data"
    }
   ],
   "source": [
    "c = np.concatenate([a,b])\n",
    "bins = np.histogram(c, bins = exp)[1]\n",
    "\n",
    "plt.hist(a, bins)\n",
    "plt.hist(b, bins)\n"
   ]
  },
  {
   "cell_type": "code",
   "execution_count": 155,
   "metadata": {},
   "outputs": [
    {
     "data": {
      "text/plain": [
       "(200,)"
      ]
     },
     "execution_count": 155,
     "metadata": {},
     "output_type": "execute_result"
    }
   ],
   "source": [
    "np.shape(np.hstack([a,b]))"
   ]
  },
  {
   "cell_type": "code",
   "execution_count": 169,
   "metadata": {},
   "outputs": [
    {
     "data": {
      "text/plain": [
       "array([-11.98822231, -11.3996764 , -10.81113049, -10.22258459,\n",
       "        -9.63403868,  -9.04549278,  -8.45694687,  -7.86840096,\n",
       "        -7.27985506,  -6.69130915,  -6.10276325,  -5.51421734,\n",
       "        -4.92567143,  -4.33712553,  -3.74857962,  -3.16003372,\n",
       "        -2.57148781,  -1.98294191,  -1.394396  ,  -0.80585009,\n",
       "        -0.21730419,   0.37124172,   0.95978762,   1.54833353,\n",
       "         2.13687944,   2.72542534,   3.31397125,   3.90251715,\n",
       "         4.49106306,   5.07960897,   5.66815487,   6.25670078,\n",
       "         6.84524668,   7.43379259,   8.0223385 ,   8.6108844 ,\n",
       "         9.19943031,   9.78797621,  10.37652212,  10.96506803,\n",
       "        11.55361393])"
      ]
     },
     "execution_count": 169,
     "metadata": {},
     "output_type": "execute_result"
    }
   ],
   "source": [
    "np.histogram(c, bins = 40)[1]"
   ]
  },
  {
   "cell_type": "code",
   "execution_count": 172,
   "metadata": {},
   "outputs": [
    {
     "data": {
      "text/plain": [
       "array([-11.98822231,  -9.63403868,  -7.27985506,  -4.92567143,\n",
       "        -2.57148781,  -0.21730419,   2.13687944,   4.49106306,\n",
       "         6.84524668,   9.19943031,  11.55361393])"
      ]
     },
     "execution_count": 172,
     "metadata": {},
     "output_type": "execute_result"
    }
   ],
   "source": [
    "np.histogram(c)[1]"
   ]
  },
  {
   "cell_type": "code",
   "execution_count": 170,
   "metadata": {},
   "outputs": [],
   "source": [
    "np.histogram?"
   ]
  },
  {
   "cell_type": "code",
   "execution_count": 118,
   "metadata": {},
   "outputs": [],
   "source": [
    "np.hstack?"
   ]
  },
  {
   "cell_type": "code",
   "execution_count": null,
   "metadata": {},
   "outputs": [],
   "source": [
    "a = np.random.normal"
   ]
  },
  {
   "cell_type": "code",
   "execution_count": 131,
   "metadata": {},
   "outputs": [],
   "source": [
    "a_0 = np.ndarray(shape = (2,10))\n",
    "b_0 = np.ndarray(shape = (3,4))"
   ]
  },
  {
   "cell_type": "code",
   "execution_count": 133,
   "metadata": {},
   "outputs": [],
   "source": [
    "dfb_0 = pd.DataFrame(b_0)"
   ]
  },
  {
   "cell_type": "code",
   "execution_count": 129,
   "metadata": {},
   "outputs": [],
   "source": [
    "dfa_0 = pd.DataFrame(a_0)"
   ]
  },
  {
   "cell_type": "code",
   "execution_count": 130,
   "metadata": {},
   "outputs": [
    {
     "data": {
      "text/html": [
       "<div>\n",
       "<style scoped>\n",
       "    .dataframe tbody tr th:only-of-type {\n",
       "        vertical-align: middle;\n",
       "    }\n",
       "\n",
       "    .dataframe tbody tr th {\n",
       "        vertical-align: top;\n",
       "    }\n",
       "\n",
       "    .dataframe thead th {\n",
       "        text-align: right;\n",
       "    }\n",
       "</style>\n",
       "<table border=\"1\" class=\"dataframe\">\n",
       "  <thead>\n",
       "    <tr style=\"text-align: right;\">\n",
       "      <th></th>\n",
       "      <th>0</th>\n",
       "      <th>1</th>\n",
       "      <th>2</th>\n",
       "      <th>3</th>\n",
       "      <th>4</th>\n",
       "      <th>5</th>\n",
       "      <th>6</th>\n",
       "      <th>7</th>\n",
       "      <th>8</th>\n",
       "      <th>9</th>\n",
       "    </tr>\n",
       "  </thead>\n",
       "  <tbody>\n",
       "    <tr>\n",
       "      <th>0</th>\n",
       "      <td>0.1</td>\n",
       "      <td>0.15</td>\n",
       "      <td>0.2</td>\n",
       "      <td>0.25</td>\n",
       "      <td>0.3</td>\n",
       "      <td>0.4</td>\n",
       "      <td>0.5</td>\n",
       "      <td>0.6</td>\n",
       "      <td>0.8</td>\n",
       "      <td>1.0</td>\n",
       "    </tr>\n",
       "    <tr>\n",
       "      <th>1</th>\n",
       "      <td>1.5</td>\n",
       "      <td>2.00</td>\n",
       "      <td>2.5</td>\n",
       "      <td>3.00</td>\n",
       "      <td>4.0</td>\n",
       "      <td>5.0</td>\n",
       "      <td>6.0</td>\n",
       "      <td>8.0</td>\n",
       "      <td>10.0</td>\n",
       "      <td>15.0</td>\n",
       "    </tr>\n",
       "  </tbody>\n",
       "</table>\n",
       "</div>"
      ],
      "text/plain": [
       "     0     1    2     3    4    5    6    7     8     9\n",
       "0  0.1  0.15  0.2  0.25  0.3  0.4  0.5  0.6   0.8   1.0\n",
       "1  1.5  2.00  2.5  3.00  4.0  5.0  6.0  8.0  10.0  15.0"
      ]
     },
     "execution_count": 130,
     "metadata": {},
     "output_type": "execute_result"
    }
   ],
   "source": [
    "dfa_0"
   ]
  },
  {
   "cell_type": "code",
   "execution_count": 134,
   "metadata": {},
   "outputs": [
    {
     "data": {
      "text/html": [
       "<div>\n",
       "<style scoped>\n",
       "    .dataframe tbody tr th:only-of-type {\n",
       "        vertical-align: middle;\n",
       "    }\n",
       "\n",
       "    .dataframe tbody tr th {\n",
       "        vertical-align: top;\n",
       "    }\n",
       "\n",
       "    .dataframe thead th {\n",
       "        text-align: right;\n",
       "    }\n",
       "</style>\n",
       "<table border=\"1\" class=\"dataframe\">\n",
       "  <thead>\n",
       "    <tr style=\"text-align: right;\">\n",
       "      <th></th>\n",
       "      <th>0</th>\n",
       "      <th>1</th>\n",
       "      <th>2</th>\n",
       "      <th>3</th>\n",
       "    </tr>\n",
       "  </thead>\n",
       "  <tbody>\n",
       "    <tr>\n",
       "      <th>0</th>\n",
       "      <td>6.952494e-310</td>\n",
       "      <td>6.952494e-310</td>\n",
       "      <td>6.952494e-310</td>\n",
       "      <td>6.952494e-310</td>\n",
       "    </tr>\n",
       "    <tr>\n",
       "      <th>1</th>\n",
       "      <td>6.952494e-310</td>\n",
       "      <td>6.952494e-310</td>\n",
       "      <td>6.952494e-310</td>\n",
       "      <td>6.952494e-310</td>\n",
       "    </tr>\n",
       "    <tr>\n",
       "      <th>2</th>\n",
       "      <td>6.952494e-310</td>\n",
       "      <td>6.952494e-310</td>\n",
       "      <td>6.952494e-310</td>\n",
       "      <td>6.952494e-310</td>\n",
       "    </tr>\n",
       "  </tbody>\n",
       "</table>\n",
       "</div>"
      ],
      "text/plain": [
       "               0              1              2              3\n",
       "0  6.952494e-310  6.952494e-310  6.952494e-310  6.952494e-310\n",
       "1  6.952494e-310  6.952494e-310  6.952494e-310  6.952494e-310\n",
       "2  6.952494e-310  6.952494e-310  6.952494e-310  6.952494e-310"
      ]
     },
     "execution_count": 134,
     "metadata": {},
     "output_type": "execute_result"
    }
   ],
   "source": [
    "dfb_0"
   ]
  },
  {
   "cell_type": "code",
   "execution_count": 146,
   "metadata": {},
   "outputs": [],
   "source": [
    "c = pd.concat([dfa_0, dfb_0], axis = 0, ignore_index=True)"
   ]
  },
  {
   "cell_type": "code",
   "execution_count": 147,
   "metadata": {},
   "outputs": [
    {
     "data": {
      "text/html": [
       "<div>\n",
       "<style scoped>\n",
       "    .dataframe tbody tr th:only-of-type {\n",
       "        vertical-align: middle;\n",
       "    }\n",
       "\n",
       "    .dataframe tbody tr th {\n",
       "        vertical-align: top;\n",
       "    }\n",
       "\n",
       "    .dataframe thead th {\n",
       "        text-align: right;\n",
       "    }\n",
       "</style>\n",
       "<table border=\"1\" class=\"dataframe\">\n",
       "  <thead>\n",
       "    <tr style=\"text-align: right;\">\n",
       "      <th></th>\n",
       "      <th>0</th>\n",
       "      <th>1</th>\n",
       "      <th>2</th>\n",
       "      <th>3</th>\n",
       "      <th>4</th>\n",
       "      <th>5</th>\n",
       "      <th>6</th>\n",
       "      <th>7</th>\n",
       "      <th>8</th>\n",
       "      <th>9</th>\n",
       "    </tr>\n",
       "  </thead>\n",
       "  <tbody>\n",
       "    <tr>\n",
       "      <th>0</th>\n",
       "      <td>1.000000e-01</td>\n",
       "      <td>1.500000e-01</td>\n",
       "      <td>2.000000e-01</td>\n",
       "      <td>2.500000e-01</td>\n",
       "      <td>0.3</td>\n",
       "      <td>0.4</td>\n",
       "      <td>0.5</td>\n",
       "      <td>0.6</td>\n",
       "      <td>0.8</td>\n",
       "      <td>1.0</td>\n",
       "    </tr>\n",
       "    <tr>\n",
       "      <th>1</th>\n",
       "      <td>1.500000e+00</td>\n",
       "      <td>2.000000e+00</td>\n",
       "      <td>2.500000e+00</td>\n",
       "      <td>3.000000e+00</td>\n",
       "      <td>4.0</td>\n",
       "      <td>5.0</td>\n",
       "      <td>6.0</td>\n",
       "      <td>8.0</td>\n",
       "      <td>10.0</td>\n",
       "      <td>15.0</td>\n",
       "    </tr>\n",
       "    <tr>\n",
       "      <th>2</th>\n",
       "      <td>6.952494e-310</td>\n",
       "      <td>6.952494e-310</td>\n",
       "      <td>6.952494e-310</td>\n",
       "      <td>6.952494e-310</td>\n",
       "      <td>NaN</td>\n",
       "      <td>NaN</td>\n",
       "      <td>NaN</td>\n",
       "      <td>NaN</td>\n",
       "      <td>NaN</td>\n",
       "      <td>NaN</td>\n",
       "    </tr>\n",
       "    <tr>\n",
       "      <th>3</th>\n",
       "      <td>6.952494e-310</td>\n",
       "      <td>6.952494e-310</td>\n",
       "      <td>6.952494e-310</td>\n",
       "      <td>6.952494e-310</td>\n",
       "      <td>NaN</td>\n",
       "      <td>NaN</td>\n",
       "      <td>NaN</td>\n",
       "      <td>NaN</td>\n",
       "      <td>NaN</td>\n",
       "      <td>NaN</td>\n",
       "    </tr>\n",
       "    <tr>\n",
       "      <th>4</th>\n",
       "      <td>6.952494e-310</td>\n",
       "      <td>6.952494e-310</td>\n",
       "      <td>6.952494e-310</td>\n",
       "      <td>6.952494e-310</td>\n",
       "      <td>NaN</td>\n",
       "      <td>NaN</td>\n",
       "      <td>NaN</td>\n",
       "      <td>NaN</td>\n",
       "      <td>NaN</td>\n",
       "      <td>NaN</td>\n",
       "    </tr>\n",
       "  </tbody>\n",
       "</table>\n",
       "</div>"
      ],
      "text/plain": [
       "               0              1              2              3    4    5    6  \\\n",
       "0   1.000000e-01   1.500000e-01   2.000000e-01   2.500000e-01  0.3  0.4  0.5   \n",
       "1   1.500000e+00   2.000000e+00   2.500000e+00   3.000000e+00  4.0  5.0  6.0   \n",
       "2  6.952494e-310  6.952494e-310  6.952494e-310  6.952494e-310  NaN  NaN  NaN   \n",
       "3  6.952494e-310  6.952494e-310  6.952494e-310  6.952494e-310  NaN  NaN  NaN   \n",
       "4  6.952494e-310  6.952494e-310  6.952494e-310  6.952494e-310  NaN  NaN  NaN   \n",
       "\n",
       "     7     8     9  \n",
       "0  0.6   0.8   1.0  \n",
       "1  8.0  10.0  15.0  \n",
       "2  NaN   NaN   NaN  \n",
       "3  NaN   NaN   NaN  \n",
       "4  NaN   NaN   NaN  "
      ]
     },
     "execution_count": 147,
     "metadata": {},
     "output_type": "execute_result"
    }
   ],
   "source": [
    "c"
   ]
  },
  {
   "cell_type": "code",
   "execution_count": 148,
   "metadata": {},
   "outputs": [],
   "source": [
    "np.hstack?"
   ]
  },
  {
   "cell_type": "code",
   "execution_count": null,
   "metadata": {},
   "outputs": [],
   "source": []
  }
 ],
 "metadata": {
  "kernelspec": {
   "display_name": "Python [conda env:data_wrangling]",
   "language": "python",
   "name": "conda-env-data_wrangling-py"
  },
  "language_info": {
   "codemirror_mode": {
    "name": "ipython",
    "version": 3
   },
   "file_extension": ".py",
   "mimetype": "text/x-python",
   "name": "python",
   "nbconvert_exporter": "python",
   "pygments_lexer": "ipython3",
   "version": "3.6.5"
  }
 },
 "nbformat": 4,
 "nbformat_minor": 2
}
