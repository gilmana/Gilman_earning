{
 "cells": [
  {
   "cell_type": "code",
   "execution_count": 2,
   "metadata": {},
   "outputs": [],
   "source": [
    "import numpy as np\n",
    "import pandas as pd"
   ]
  },
  {
   "cell_type": "code",
   "execution_count": 3,
   "metadata": {},
   "outputs": [],
   "source": [
    "def print_basics(array):\n",
    "    \"\"\"\n",
    "    func to print the basic attributes of a given array\n",
    "    \"\"\"\n",
    "    \n",
    "    print(\"array \",\"\\n\", array)\n",
    "    print(\"array.shape \",\"\\n\", array.shape)\n",
    "    print(\"array.size \",\"\\n\", array.size)\n",
    "    print(\"array.ndim \",\"\\n\", array.ndim)"
   ]
  },
  {
   "cell_type": "markdown",
   "metadata": {},
   "source": [
    "### experimenting with array shapes, axis,stack, concatenate"
   ]
  },
  {
   "cell_type": "markdown",
   "metadata": {},
   "source": [
    "Working with 1d arrays "
   ]
  },
  {
   "cell_type": "code",
   "execution_count": 4,
   "metadata": {},
   "outputs": [
    {
     "name": "stdout",
     "output_type": "stream",
     "text": [
      "[1 2 3] [4 5 6] [7 8 9] [10 11 12] [13 14 15]\n"
     ]
    }
   ],
   "source": [
    "\n",
    "a = np.arange(1,4)\n",
    "b = np.arange(4,7)\n",
    "c = np.arange(7,10)\n",
    "d = np.arange(10,13)\n",
    "e = np.arange(13,16)\n",
    "f = np.arange(16,19)\n",
    "\n",
    "\n",
    "print(a, b, c, d, e)"
   ]
  },
  {
   "cell_type": "code",
   "execution_count": 5,
   "metadata": {},
   "outputs": [
    {
     "name": "stdout",
     "output_type": "stream",
     "text": [
      "array  \n",
      " [ 1  2  3  4  5  6  7  8  9 10 11 12]\n",
      "array.shape  \n",
      " (12,)\n",
      "array.size  \n",
      " 12\n",
      "array.ndim  \n",
      " 1\n"
     ]
    }
   ],
   "source": [
    "array = np.concatenate([a,b,c,d], axis = 0)\n",
    "print_basics(array)"
   ]
  },
  {
   "cell_type": "code",
   "execution_count": 7,
   "metadata": {},
   "outputs": [
    {
     "name": "stdout",
     "output_type": "stream",
     "text": [
      "array  \n",
      " [ 1  2  3  4  5  6  7  8  9 10 11 12]\n",
      "array.shape  \n",
      " (12,)\n",
      "array.size  \n",
      " 12\n",
      "array.ndim  \n",
      " 1\n"
     ]
    }
   ],
   "source": [
    "array = np.hstack([a,b,c,d])\n",
    "print_basics(array)"
   ]
  },
  {
   "cell_type": "code",
   "execution_count": 8,
   "metadata": {},
   "outputs": [
    {
     "name": "stdout",
     "output_type": "stream",
     "text": [
      "array  \n",
      " [[ 1  2  3]\n",
      " [ 4  5  6]\n",
      " [ 7  8  9]\n",
      " [10 11 12]]\n",
      "array.shape  \n",
      " (4, 3)\n",
      "array.size  \n",
      " 12\n",
      "array.ndim  \n",
      " 2\n"
     ]
    }
   ],
   "source": [
    "array_a = np.vstack([a,b,c,d])\n",
    "print_basics(array_a)"
   ]
  },
  {
   "cell_type": "code",
   "execution_count": 11,
   "metadata": {},
   "outputs": [
    {
     "name": "stdout",
     "output_type": "stream",
     "text": [
      "array  \n",
      " [[13 14 15]\n",
      " [16 17 18]]\n",
      "array.shape  \n",
      " (2, 3)\n",
      "array.size  \n",
      " 6\n",
      "array.ndim  \n",
      " 2\n"
     ]
    }
   ],
   "source": [
    "array_b = np.vstack((e,f))\n",
    "print_basics(array_b)"
   ]
  },
  {
   "cell_type": "code",
   "execution_count": 12,
   "metadata": {},
   "outputs": [
    {
     "name": "stdout",
     "output_type": "stream",
     "text": [
      "array  \n",
      " [[ 1  2  3]\n",
      " [ 4  5  6]\n",
      " [ 7  8  9]\n",
      " [10 11 12]\n",
      " [13 14 15]\n",
      " [16 17 18]]\n",
      "array.shape  \n",
      " (6, 3)\n",
      "array.size  \n",
      " 18\n",
      "array.ndim  \n",
      " 2\n"
     ]
    }
   ],
   "source": [
    "array_c = np.concatenate([array_a,array_b], axis = 0)\n",
    "print_basics(array_c)"
   ]
  },
  {
   "cell_type": "code",
   "execution_count": 13,
   "metadata": {},
   "outputs": [
    {
     "name": "stdout",
     "output_type": "stream",
     "text": [
      "array  \n",
      " [[ 1  2  3]\n",
      " [ 4  5  6]\n",
      " [ 7  8  9]\n",
      " [10 11 12]\n",
      " [13 14 15]\n",
      " [16 17 18]]\n",
      "array.shape  \n",
      " (6, 3)\n",
      "array.size  \n",
      " 18\n",
      "array.ndim  \n",
      " 2\n"
     ]
    }
   ],
   "source": [
    "array_c = np.vstack([array_a, array_b])\n",
    "print_basics(array_c)"
   ]
  },
  {
   "cell_type": "markdown",
   "metadata": {},
   "source": [
    "Working with 2d arrays \n",
    "\n",
    "\n"
   ]
  },
  {
   "cell_type": "code",
   "execution_count": 14,
   "metadata": {},
   "outputs": [],
   "source": [
    "aa = np.arange(0,6,1)\n",
    "aa = aa.reshape((3,2))\n"
   ]
  },
  {
   "cell_type": "code",
   "execution_count": 15,
   "metadata": {},
   "outputs": [],
   "source": [
    "bb = aa+6\n",
    "cc = aa+6*2\n",
    "dd = aa+6*3"
   ]
  },
  {
   "cell_type": "code",
   "execution_count": 16,
   "metadata": {},
   "outputs": [
    {
     "name": "stdout",
     "output_type": "stream",
     "text": [
      "array  \n",
      " [[0 1]\n",
      " [2 3]\n",
      " [4 5]]\n",
      "array.shape  \n",
      " (3, 2)\n",
      "array.size  \n",
      " 6\n",
      "array.ndim  \n",
      " 2\n"
     ]
    }
   ],
   "source": [
    "print_basics(aa)"
   ]
  },
  {
   "cell_type": "code",
   "execution_count": 17,
   "metadata": {},
   "outputs": [
    {
     "name": "stdout",
     "output_type": "stream",
     "text": [
      "array  \n",
      " [[[ 0  1]\n",
      "  [ 2  3]\n",
      "  [ 4  5]]\n",
      "\n",
      " [[ 6  7]\n",
      "  [ 8  9]\n",
      "  [10 11]]\n",
      "\n",
      " [[12 13]\n",
      "  [14 15]\n",
      "  [16 17]]\n",
      "\n",
      " [[18 19]\n",
      "  [20 21]\n",
      "  [22 23]]]\n",
      "array.shape  \n",
      " (4, 3, 2)\n",
      "array.size  \n",
      " 24\n",
      "array.ndim  \n",
      " 3\n"
     ]
    }
   ],
   "source": [
    "aaa = np.stack([aa,bb,cc,dd], axis = 0)\n",
    "print_basics(aaa)"
   ]
  },
  {
   "cell_type": "markdown",
   "metadata": {},
   "source": [
    "### experimenting stack across different axis"
   ]
  },
  {
   "cell_type": "code",
   "execution_count": 18,
   "metadata": {},
   "outputs": [],
   "source": [
    "a_0 = np.arange(0,6,1)"
   ]
  },
  {
   "cell_type": "code",
   "execution_count": 19,
   "metadata": {},
   "outputs": [
    {
     "name": "stdout",
     "output_type": "stream",
     "text": [
      "array  \n",
      " [[0 1]\n",
      " [2 3]\n",
      " [4 5]]\n",
      "array.shape  \n",
      " (3, 2)\n",
      "array.size  \n",
      " 6\n",
      "array.ndim  \n",
      " 2\n"
     ]
    }
   ],
   "source": [
    "a_0 = a_0.reshape((3,2))\n",
    "print_basics(a_0)"
   ]
  },
  {
   "cell_type": "code",
   "execution_count": 20,
   "metadata": {},
   "outputs": [],
   "source": [
    "a_1 = a_0+6*1\n",
    "a_2 = a_0+6*2\n",
    "a_3 = a_0+6*3"
   ]
  },
  {
   "cell_type": "code",
   "execution_count": 21,
   "metadata": {},
   "outputs": [
    {
     "name": "stdout",
     "output_type": "stream",
     "text": [
      "array  \n",
      " [[12 13]\n",
      " [14 15]\n",
      " [16 17]]\n",
      "array.shape  \n",
      " (3, 2)\n",
      "array.size  \n",
      " 6\n",
      "array.ndim  \n",
      " 2\n"
     ]
    }
   ],
   "source": [
    "print_basics(a_2)"
   ]
  },
  {
   "cell_type": "code",
   "execution_count": 22,
   "metadata": {},
   "outputs": [
    {
     "name": "stdout",
     "output_type": "stream",
     "text": [
      "array  \n",
      " [[[ 0  1]\n",
      "  [ 2  3]\n",
      "  [ 4  5]]\n",
      "\n",
      " [[ 6  7]\n",
      "  [ 8  9]\n",
      "  [10 11]]\n",
      "\n",
      " [[12 13]\n",
      "  [14 15]\n",
      "  [16 17]]\n",
      "\n",
      " [[18 19]\n",
      "  [20 21]\n",
      "  [22 23]]]\n",
      "array.shape  \n",
      " (4, 3, 2)\n",
      "array.size  \n",
      " 24\n",
      "array.ndim  \n",
      " 3\n"
     ]
    }
   ],
   "source": [
    "stack_0 = np.stack([a_0,a_1,a_2,a_3], axis=0)\n",
    "print_basics(stack_0)"
   ]
  },
  {
   "cell_type": "code",
   "execution_count": 23,
   "metadata": {},
   "outputs": [
    {
     "data": {
      "text/plain": [
       "array([[18, 19],\n",
       "       [20, 21],\n",
       "       [22, 23]])"
      ]
     },
     "execution_count": 23,
     "metadata": {},
     "output_type": "execute_result"
    }
   ],
   "source": [
    "stack_0[3]"
   ]
  },
  {
   "cell_type": "code",
   "execution_count": 28,
   "metadata": {},
   "outputs": [
    {
     "name": "stdout",
     "output_type": "stream",
     "text": [
      "[[0 1]\n",
      " [2 3]\n",
      " [4 5]]\n",
      "[[ 6  7]\n",
      " [ 8  9]\n",
      " [10 11]]\n",
      "[[12 13]\n",
      " [14 15]\n",
      " [16 17]]\n"
     ]
    }
   ],
   "source": [
    "print(a_0)\n",
    "print(a_1)\n",
    "print(a_2)"
   ]
  },
  {
   "cell_type": "code",
   "execution_count": 24,
   "metadata": {},
   "outputs": [
    {
     "name": "stdout",
     "output_type": "stream",
     "text": [
      "array  \n",
      " [[[ 0  1]\n",
      "  [ 6  7]\n",
      "  [12 13]\n",
      "  [18 19]]\n",
      "\n",
      " [[ 2  3]\n",
      "  [ 8  9]\n",
      "  [14 15]\n",
      "  [20 21]]\n",
      "\n",
      " [[ 4  5]\n",
      "  [10 11]\n",
      "  [16 17]\n",
      "  [22 23]]]\n",
      "array.shape  \n",
      " (3, 4, 2)\n",
      "array.size  \n",
      " 24\n",
      "array.ndim  \n",
      " 3\n"
     ]
    }
   ],
   "source": [
    "stack_1 = np.stack([a_0, a_1, a_2, a_3], axis = 1)\n",
    "print_basics(stack_1)"
   ]
  },
  {
   "cell_type": "code",
   "execution_count": 26,
   "metadata": {},
   "outputs": [
    {
     "name": "stdout",
     "output_type": "stream",
     "text": [
      "array  \n",
      " [[[ 0  6 12 18]\n",
      "  [ 1  7 13 19]]\n",
      "\n",
      " [[ 2  8 14 20]\n",
      "  [ 3  9 15 21]]\n",
      "\n",
      " [[ 4 10 16 22]\n",
      "  [ 5 11 17 23]]]\n",
      "array.shape  \n",
      " (3, 2, 4)\n",
      "array.size  \n",
      " 24\n",
      "array.ndim  \n",
      " 3\n"
     ]
    }
   ],
   "source": [
    "stack_2 = np.stack([a_0,a_1,a_2,a_3], axis =2)\n",
    "print_basics(stack_2)"
   ]
  },
  {
   "cell_type": "markdown",
   "metadata": {},
   "source": [
    "### Experimenting with multi-indexing"
   ]
  },
  {
   "cell_type": "code",
   "execution_count": null,
   "metadata": {},
   "outputs": [],
   "source": [
    "x = np.arange(10)\n",
    "y = x**2"
   ]
  },
  {
   "cell_type": "code",
   "execution_count": null,
   "metadata": {},
   "outputs": [],
   "source": [
    "data = {\"X\":x,\n",
    "       \"Y\":y,\n",
    "        \"Categoty\":[\"Bloop\" if i<5 else \"Poop\" for i in x],\n",
    "        \"state\":[\"solid\",\"solid\",\"solid\",\"liquid\",\"liquid\",\"liquid\",\"gas\",\"gas\",\"gas\",\"gas\"]}\n"
   ]
  },
  {
   "cell_type": "code",
   "execution_count": null,
   "metadata": {},
   "outputs": [],
   "source": [
    "df = pd.DataFrame(data)"
   ]
  },
  {
   "cell_type": "code",
   "execution_count": null,
   "metadata": {},
   "outputs": [],
   "source": [
    "df.set_index([\"state\",\"Categoty\"], inplace = True)"
   ]
  },
  {
   "cell_type": "code",
   "execution_count": null,
   "metadata": {},
   "outputs": [],
   "source": [
    "df.set_index([\"Categoty\", \"state\"], inplace = True)"
   ]
  },
  {
   "cell_type": "code",
   "execution_count": null,
   "metadata": {},
   "outputs": [],
   "source": [
    "df"
   ]
  },
  {
   "cell_type": "code",
   "execution_count": null,
   "metadata": {},
   "outputs": [],
   "source": [
    "df.index.levels"
   ]
  },
  {
   "cell_type": "code",
   "execution_count": null,
   "metadata": {},
   "outputs": [],
   "source": [
    "df.index.labels"
   ]
  },
  {
   "cell_type": "code",
   "execution_count": null,
   "metadata": {},
   "outputs": [],
   "source": [
    "df.index.names"
   ]
  },
  {
   "cell_type": "code",
   "execution_count": null,
   "metadata": {},
   "outputs": [],
   "source": [
    "df.index.values"
   ]
  }
 ],
 "metadata": {
  "kernelspec": {
   "display_name": "Python [conda env:data_wrangling] *",
   "language": "python",
   "name": "conda-env-data_wrangling-py"
  }
 },
 "nbformat": 4,
 "nbformat_minor": 2
}
