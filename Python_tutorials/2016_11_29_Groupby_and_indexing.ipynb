{
 "cells": [
  {
   "cell_type": "markdown",
   "metadata": {},
   "source": [
    "# The following is Jake Vanderplas breaking down how to use groupby"
   ]
  },
  {
   "cell_type": "code",
   "execution_count": 1,
   "metadata": {
    "collapsed": true
   },
   "outputs": [],
   "source": [
    "import numpy as np\n",
    "import pandas as pd"
   ]
  },
  {
   "cell_type": "code",
   "execution_count": 2,
   "metadata": {
    "collapsed": false
   },
   "outputs": [
    {
     "data": {
      "text/html": [
       "<div>\n",
       "<table border=\"1\" class=\"dataframe\">\n",
       "  <thead>\n",
       "    <tr style=\"text-align: right;\">\n",
       "      <th></th>\n",
       "      <th>x</th>\n",
       "      <th>y</th>\n",
       "    </tr>\n",
       "  </thead>\n",
       "  <tbody>\n",
       "    <tr>\n",
       "      <th>0</th>\n",
       "      <td>9.332956</td>\n",
       "      <td>8.647236</td>\n",
       "    </tr>\n",
       "    <tr>\n",
       "      <th>1</th>\n",
       "      <td>8.308141</td>\n",
       "      <td>3.239110</td>\n",
       "    </tr>\n",
       "    <tr>\n",
       "      <th>2</th>\n",
       "      <td>0.042359</td>\n",
       "      <td>3.176880</td>\n",
       "    </tr>\n",
       "    <tr>\n",
       "      <th>3</th>\n",
       "      <td>3.684723</td>\n",
       "      <td>7.266130</td>\n",
       "    </tr>\n",
       "    <tr>\n",
       "      <th>4</th>\n",
       "      <td>7.577109</td>\n",
       "      <td>9.306614</td>\n",
       "    </tr>\n",
       "  </tbody>\n",
       "</table>\n",
       "</div>"
      ],
      "text/plain": [
       "          x         y\n",
       "0  9.332956  8.647236\n",
       "1  8.308141  3.239110\n",
       "2  0.042359  3.176880\n",
       "3  3.684723  7.266130\n",
       "4  7.577109  9.306614"
      ]
     },
     "execution_count": 2,
     "metadata": {},
     "output_type": "execute_result"
    }
   ],
   "source": [
    "data = pd.DataFrame({'x': 10 * np.random.rand(100),\n",
    "                     'y': 10 * np.random.rand(100)})\n",
    "data.head()"
   ]
  },
  {
   "cell_type": "code",
   "execution_count": null,
   "metadata": {
    "collapsed": false
   },
   "outputs": [],
   "source": [
    "def get_outliers(x):\n",
    "    mu = x.mean()\n",
    "    std = x.std()\n",
    "    return x[(x < mu - std) | (x > mu + std)]\n",
    "\n",
    "result = data.groupby(pd.cut(data.x, 10))['y'].apply(get_outliers)"
   ]
  },
  {
   "cell_type": "code",
   "execution_count": null,
   "metadata": {
    "collapsed": false
   },
   "outputs": [],
   "source": [
    "result.head()"
   ]
  },
  {
   "cell_type": "code",
   "execution_count": null,
   "metadata": {
    "collapsed": false
   },
   "outputs": [],
   "source": [
    "index = result.index.droplevel(0)\n",
    "data.iloc[index].sort_index()"
   ]
  },
  {
   "cell_type": "markdown",
   "metadata": {},
   "source": [
    "## Now me Playing with the code for learning purposes."
   ]
  },
  {
   "cell_type": "code",
   "execution_count": 25,
   "metadata": {
    "collapsed": true
   },
   "outputs": [],
   "source": [
    "result = pd.cut(data.x, 10)"
   ]
  },
  {
   "cell_type": "code",
   "execution_count": 27,
   "metadata": {
    "collapsed": false
   },
   "outputs": [
    {
     "data": {
      "text/plain": [
       "0        (8.921, 9.908]\n",
       "1        (7.935, 8.921]\n",
       "2      (0.0325, 1.0289]\n",
       "3      (3.00207, 3.989]\n",
       "4        (6.948, 7.935]\n",
       "5        (4.975, 5.962]\n",
       "6        (5.962, 6.948]\n",
       "7        (7.935, 8.921]\n",
       "8        (4.975, 5.962]\n",
       "9      (3.00207, 3.989]\n",
       "10       (6.948, 7.935]\n",
       "11       (6.948, 7.935]\n",
       "12       (8.921, 9.908]\n",
       "13       (4.975, 5.962]\n",
       "14     (1.0289, 2.0155]\n",
       "15       (7.935, 8.921]\n",
       "16       (5.962, 6.948]\n",
       "17    (2.0155, 3.00207]\n",
       "18       (8.921, 9.908]\n",
       "19       (6.948, 7.935]\n",
       "20       (5.962, 6.948]\n",
       "21       (4.975, 5.962]\n",
       "22     (0.0325, 1.0289]\n",
       "23       (8.921, 9.908]\n",
       "24       (3.989, 4.975]\n",
       "25       (5.962, 6.948]\n",
       "26       (5.962, 6.948]\n",
       "27       (8.921, 9.908]\n",
       "28       (3.989, 4.975]\n",
       "29     (1.0289, 2.0155]\n",
       "            ...        \n",
       "70     (0.0325, 1.0289]\n",
       "71       (4.975, 5.962]\n",
       "72       (5.962, 6.948]\n",
       "73       (5.962, 6.948]\n",
       "74     (3.00207, 3.989]\n",
       "75       (3.989, 4.975]\n",
       "76       (7.935, 8.921]\n",
       "77       (4.975, 5.962]\n",
       "78     (1.0289, 2.0155]\n",
       "79     (0.0325, 1.0289]\n",
       "80       (5.962, 6.948]\n",
       "81    (2.0155, 3.00207]\n",
       "82       (8.921, 9.908]\n",
       "83       (3.989, 4.975]\n",
       "84     (1.0289, 2.0155]\n",
       "85     (1.0289, 2.0155]\n",
       "86    (2.0155, 3.00207]\n",
       "87       (3.989, 4.975]\n",
       "88       (7.935, 8.921]\n",
       "89     (0.0325, 1.0289]\n",
       "90       (7.935, 8.921]\n",
       "91       (6.948, 7.935]\n",
       "92    (2.0155, 3.00207]\n",
       "93       (5.962, 6.948]\n",
       "94       (3.989, 4.975]\n",
       "95     (3.00207, 3.989]\n",
       "96       (8.921, 9.908]\n",
       "97       (4.975, 5.962]\n",
       "98       (5.962, 6.948]\n",
       "99     (0.0325, 1.0289]\n",
       "Name: x, dtype: category\n",
       "Categories (10, object): [(0.0325, 1.0289] < (1.0289, 2.0155] < (2.0155, 3.00207] < (3.00207, 3.989] ... (5.962, 6.948] < (6.948, 7.935] < (7.935, 8.921] < (8.921, 9.908]]"
      ]
     },
     "execution_count": 27,
     "metadata": {},
     "output_type": "execute_result"
    }
   ],
   "source": [
    "result"
   ]
  },
  {
   "cell_type": "code",
   "execution_count": 24,
   "metadata": {
    "collapsed": true
   },
   "outputs": [],
   "source": [
    "pd.cut?"
   ]
  },
  {
   "cell_type": "markdown",
   "metadata": {},
   "source": [
    "### - Dictionaries and dataframes"
   ]
  },
  {
   "cell_type": "code",
   "execution_count": null,
   "metadata": {
    "collapsed": false
   },
   "outputs": [],
   "source": [
    "#Just a simple dictionary with string for key, and int for value. \n",
    "new_dict_0 = {\"x\":1,\n",
    "            \"y\":2,\n",
    "            \"z\":3}\n",
    "print(new_dict_0)"
   ]
  },
  {
   "cell_type": "code",
   "execution_count": null,
   "metadata": {
    "collapsed": false
   },
   "outputs": [],
   "source": [
    "#now lets try using a list of values to one key\n",
    "new_dict_1 =  {\"x\":[1,2,3,4,5],\n",
    "               \"y\":[1,2,3,4,5],\n",
    "               \"z\":[1,2,3,4,5]}\n",
    "print(new_dict_1)\n",
    "type(new_dict_1)"
   ]
  },
  {
   "cell_type": "code",
   "execution_count": null,
   "metadata": {
    "collapsed": false
   },
   "outputs": [],
   "source": [
    "#Can we convert a dict into a dataframe? \n",
    "my_dataframe_0 = pd.DataFrame(new_dict_1)\n",
    "print(my_dataframe_0)\n",
    "print(type(my_dataframe_0))\n",
    "my_dataframe_0.head()"
   ]
  },
  {
   "cell_type": "markdown",
   "metadata": {},
   "source": [
    "### - Random module "
   ]
  },
  {
   "cell_type": "code",
   "execution_count": null,
   "metadata": {
    "collapsed": false
   },
   "outputs": [],
   "source": [
    "#the numpy random package, this is numpy object called nd array. outputs floats between 0 and 1. May have dimensions. \n",
    "object_1 = np.random.rand(5)*10 #multiply by 10 just to get bigger values (above 1). \n",
    "print(object_1)\n",
    "type(object_1)\n",
    "\n",
    "#play with input of np.random.rand(x,y,z)... try (2,5) or (5,2) or (2,5,5)"
   ]
  },
  {
   "cell_type": "markdown",
   "metadata": {},
   "source": [
    "### - Dataframes from random modules"
   ]
  },
  {
   "cell_type": "code",
   "execution_count": null,
   "metadata": {
    "collapsed": true
   },
   "outputs": [],
   "source": [
    "fake_data_0 = pd.DataFrame({\"x\": np.random.rand(5)*10,\n",
    "                            \"y\": np.random.rand(5)*10})\n",
    "fake_data_1 = {\"z\": np.random.rand(20)*10}\n",
    "fake_data_2 = pd.DataFrame({\"q\": np.random.rand(5)*10})"
   ]
  },
  {
   "cell_type": "code",
   "execution_count": null,
   "metadata": {
    "collapsed": false
   },
   "outputs": [],
   "source": [
    "fake_data_0.head()"
   ]
  },
  {
   "cell_type": "code",
   "execution_count": null,
   "metadata": {
    "collapsed": false
   },
   "outputs": [],
   "source": [
    "list_0 = [1,2,3,4,5,6]\n",
    "list_0[3]"
   ]
  },
  {
   "cell_type": "code",
   "execution_count": null,
   "metadata": {
    "collapsed": true
   },
   "outputs": [],
   "source": [
    "#trying to understand the following function:\n",
    "def get_outliers_1(x): \n",
    "    mu = x.mean()   #this works because the input is a dataframe object which has built in attributes (mean, std)\n",
    "    std = x.std()\n",
    "    return x[(x < mu - std) | (x > mu + std)]\n"
   ]
  },
  {
   "cell_type": "code",
   "execution_count": null,
   "metadata": {
    "collapsed": false
   },
   "outputs": [],
   "source": [
    "#testing attributes of a dataframe \n",
    "fake_data_0.mean()  #note that fake_data_1.mean(), and list_0.mean() wont work because only df object has this attribute"
   ]
  },
  {
   "cell_type": "markdown",
   "metadata": {
    "collapsed": true
   },
   "source": [
    "# Jake VanderPlas tutorial on groupby \n",
    "### from http://nbviewer.jupyter.org/github/jakevdp/PythonDataScienceHandbook/blob/master/notebooks/03.08-Aggregation-and-Grouping.ipynb"
   ]
  },
  {
   "cell_type": "markdown",
   "metadata": {},
   "source": [
    "### simple aggregation in pandas"
   ]
  },
  {
   "cell_type": "markdown",
   "metadata": {},
   "source": [
    "#understanding np.random.RandomState \n",
    "\n",
    "`RandomState`, besides being\n",
    "NumPy-aware, has the advantage that it provides a much larger number\n",
    "of probability distributions to choose from."
   ]
  },
  {
   "cell_type": "code",
   "execution_count": null,
   "metadata": {
    "collapsed": false
   },
   "outputs": [],
   "source": [
    "#Understanding RandomState \n",
    "rng = np.random.RandomState(43) #all this does is creates a random number generator that uses a \"seed\" value for start. \n",
    "rng.rand(5) #randomly seeded list of 5 floats from 0 to 1"
   ]
  },
  {
   "cell_type": "code",
   "execution_count": null,
   "metadata": {
    "collapsed": false
   },
   "outputs": [],
   "source": [
    "ser = pd.Series(rng.rand(5))# Series is One-dimensional ndarray with axis labels\n",
    "ser"
   ]
  },
  {
   "cell_type": "code",
   "execution_count": null,
   "metadata": {
    "collapsed": false
   },
   "outputs": [],
   "source": [
    "#lets import some data and play with it\n",
    "import seaborn as sns\n",
    "planets = sns.load_dataset('planets')\n",
    "type(planets)\n",
    "planets.head()"
   ]
  },
  {
   "cell_type": "code",
   "execution_count": null,
   "metadata": {
    "collapsed": false
   },
   "outputs": [],
   "source": [
    "planets.mean() #The mean of every column"
   ]
  },
  {
   "cell_type": "code",
   "execution_count": null,
   "metadata": {
    "collapsed": false
   },
   "outputs": [],
   "source": [
    "planets.dropna().describe()  #dropping NaN values and then doing basic statistics. "
   ]
  },
  {
   "cell_type": "code",
   "execution_count": null,
   "metadata": {
    "collapsed": true
   },
   "outputs": [],
   "source": [
    "df = pd.DataFrame({'key': ['A', 'B', 'C', 'A', 'B', 'C'],\n",
    "                   'data': range(6)})#, columns=['key', 'data'])"
   ]
  },
  {
   "cell_type": "code",
   "execution_count": null,
   "metadata": {
    "collapsed": false
   },
   "outputs": [],
   "source": [
    "df.head()"
   ]
  },
  {
   "cell_type": "code",
   "execution_count": null,
   "metadata": {
    "collapsed": false,
    "scrolled": true
   },
   "outputs": [],
   "source": [
    "df.groupby(\"key\").count() #the df.groupby(\"key\") creates an object to which apply cool attributes (min, mean, stdev) "
   ]
  },
  {
   "cell_type": "markdown",
   "metadata": {
    "collapsed": false
   },
   "source": [
    "### Column Indexing "
   ]
  },
  {
   "cell_type": "code",
   "execution_count": null,
   "metadata": {
    "collapsed": false
   },
   "outputs": [],
   "source": [
    "planets.groupby(\"method\").count() #since the number of lines for each method is the same, counts is identical"
   ]
  },
  {
   "cell_type": "code",
   "execution_count": null,
   "metadata": {
    "collapsed": false
   },
   "outputs": [],
   "source": [
    "planets.groupby(\"method\").mean() #this groups by method name, then takes the mean of each column. super nice :) "
   ]
  },
  {
   "cell_type": "code",
   "execution_count": null,
   "metadata": {
    "collapsed": false
   },
   "outputs": [],
   "source": [
    "#If you only care about a specific column such as \"orbital_period\"\n",
    "planets.groupby(\"method\")[\"orbital_period\"].mean()"
   ]
  },
  {
   "cell_type": "markdown",
   "metadata": {},
   "source": [
    "### Iterating over groups"
   ]
  },
  {
   "cell_type": "code",
   "execution_count": null,
   "metadata": {
    "collapsed": false
   },
   "outputs": [],
   "source": [
    "#Ok, so grouped dataframe has two componenets, the name by which it was grouped, and the assocated data frame... \n",
    "dictionary = {}\n",
    "for x, y in planets.groupby(\"method\"): #x = method, y = group\n",
    "    dictionary[x] = y\n",
    "    \n",
    "dictionary[\"Astrometry\"] # this just one of the groups without any stats being done on it. "
   ]
  },
  {
   "cell_type": "code",
   "execution_count": null,
   "metadata": {
    "collapsed": false
   },
   "outputs": [],
   "source": [
    "type(dictionary[\"Astrometry\"])"
   ]
  },
  {
   "cell_type": "code",
   "execution_count": null,
   "metadata": {
    "collapsed": false
   },
   "outputs": [],
   "source": [
    "#continueing with the example \n",
    "for method, group in planets.groupby(\"method\"): #think of this as a dictionary name and dataframe that goes with it\n",
    "    print(\"{0:30} shape ={1}\".format(method, group.shape)) #why is it not shape() ??? stil done understand objects?"
   ]
  },
  {
   "cell_type": "code",
   "execution_count": null,
   "metadata": {
    "collapsed": false
   },
   "outputs": [],
   "source": [
    "planets.groupby('method')['year'].describe().unstack()"
   ]
  },
  {
   "cell_type": "markdown",
   "metadata": {},
   "source": [
    "### Aggregate, Filter, Transform, Apply"
   ]
  },
  {
   "cell_type": "code",
   "execution_count": null,
   "metadata": {
    "collapsed": true
   },
   "outputs": [],
   "source": []
  },
  {
   "cell_type": "code",
   "execution_count": null,
   "metadata": {
    "collapsed": true
   },
   "outputs": [],
   "source": []
  },
  {
   "cell_type": "code",
   "execution_count": null,
   "metadata": {
    "collapsed": true
   },
   "outputs": [],
   "source": []
  },
  {
   "cell_type": "code",
   "execution_count": null,
   "metadata": {
    "collapsed": true
   },
   "outputs": [],
   "source": []
  },
  {
   "cell_type": "markdown",
   "metadata": {},
   "source": [
    "### An aside into \"Min max and everything in between\" - aggregation functon \n",
    "    http://nbviewer.jupyter.org/github/jakevdp/PythonDataScienceHandbook/blob/master/notebooks/02.04-Computation-on-arrays-aggregates.ipynb\n",
    "    "
   ]
  },
  {
   "cell_type": "code",
   "execution_count": null,
   "metadata": {
    "collapsed": false
   },
   "outputs": [],
   "source": [
    "#the numpy random module (python also has a random module)\n",
    "s = np.random.rand(2,4) #this is a float from 0 to 1 , 2 arrays consisting of 4 values\n",
    "type(s)\n",
    "s"
   ]
  },
  {
   "cell_type": "code",
   "execution_count": null,
   "metadata": {
    "collapsed": false
   },
   "outputs": [],
   "source": [
    "p = np.random.randint(0,100,3) #creates a single array between 0, 100, and length of 3\n",
    "type(p)\n",
    "p"
   ]
  },
  {
   "cell_type": "code",
   "execution_count": null,
   "metadata": {
    "collapsed": false
   },
   "outputs": [],
   "source": [
    "x=np.random.random(100) #outputs an array of 100 floats all between [0.0, 1.0)\n",
    "x"
   ]
  },
  {
   "cell_type": "code",
   "execution_count": null,
   "metadata": {
    "collapsed": false
   },
   "outputs": [],
   "source": [
    "x.sum() #numpys sum attribute (computed much more quickly)\n",
    "sum(x)  #python built in function"
   ]
  },
  {
   "cell_type": "code",
   "execution_count": null,
   "metadata": {
    "collapsed": false
   },
   "outputs": [],
   "source": [
    "#example of computing speed during sum\n",
    "long_array = np.random.random(1000000)\n",
    "%timeit sum(long_array)\n",
    "%timeit long_array.sum()  #be careful of the meaning of sum, the np.sum() is aware of array dimensions. "
   ]
  },
  {
   "cell_type": "code",
   "execution_count": null,
   "metadata": {
    "collapsed": false
   },
   "outputs": [],
   "source": [
    "#similarly, there is min and max\n",
    "%timeit min(long_array)\n",
    "%timeit long_array.min()"
   ]
  },
  {
   "cell_type": "code",
   "execution_count": 51,
   "metadata": {
    "collapsed": false
   },
   "outputs": [
    {
     "name": "stdout",
     "output_type": "stream",
     "text": [
      "[[ 0.85093253  0.26643857  0.88758823  0.69183359]\n",
      " [ 0.49824726  0.16556974  0.7067266   0.44926   ]]\n"
     ]
    }
   ],
   "source": [
    "#use a tuple to make multi-demensional array with random\n",
    "array = np.random.random((2,4))\n",
    "print(array)"
   ]
  },
  {
   "cell_type": "code",
   "execution_count": 52,
   "metadata": {
    "collapsed": false
   },
   "outputs": [
    {
     "name": "stdout",
     "output_type": "stream",
     "text": [
      "[[ 0.01856441  0.64030432  0.1991209   0.68310912]\n",
      " [ 0.834834    0.33075287  0.45807626  0.90459984]]\n"
     ]
    }
   ],
   "source": [
    "array1 = np.random.rand(2,4) # i see many similarities between random.random and random.rand \n",
    "print(array1)"
   ]
  },
  {
   "cell_type": "code",
   "execution_count": 53,
   "metadata": {
    "collapsed": false
   },
   "outputs": [
    {
     "data": {
      "text/plain": [
       "4.069361729650776"
      ]
     },
     "execution_count": 53,
     "metadata": {},
     "output_type": "execute_result"
    }
   ],
   "source": [
    "#sum takes the sum of the entire array \n",
    "array1.sum()"
   ]
  },
  {
   "cell_type": "code",
   "execution_count": 54,
   "metadata": {
    "collapsed": false
   },
   "outputs": [
    {
     "data": {
      "text/plain": [
       "array([ 0.01856441,  0.33075287,  0.1991209 ,  0.68310912])"
      ]
     },
     "execution_count": 54,
     "metadata": {},
     "output_type": "execute_result"
    }
   ],
   "source": [
    "#once and for all, axis = 0 is the rows (that will be collapsed and min obtained), axis=1 is columns that are collapsed\n",
    "array1.min(axis=0)"
   ]
  },
  {
   "cell_type": "code",
   "execution_count": 55,
   "metadata": {
    "collapsed": false
   },
   "outputs": [
    {
     "data": {
      "text/plain": [
       "array([ 0.01856441,  0.33075287])"
      ]
     },
     "execution_count": 55,
     "metadata": {},
     "output_type": "execute_result"
    }
   ],
   "source": [
    "array1.min(axis=1)"
   ]
  },
  {
   "cell_type": "markdown",
   "metadata": {},
   "source": [
    "The axis keyword specifies the dimension of the array that will be collapsed, rather than the dimension that will be returned. So specifying axis=0 means that the first axis will be collapsed: for two-dimensional arrays, this means that values within each column will be aggregated."
   ]
  },
  {
   "cell_type": "markdown",
   "metadata": {},
   "source": [
    "### Taking an aside to understand str() vs repr()\n",
    "str() is meant to return representations of values which are fairly human readable\n",
    "repr() is meant to generate a representation which can be read by the interpreter (or generate syntax error if no such syntax."
   ]
  },
  {
   "cell_type": "code",
   "execution_count": null,
   "metadata": {
    "collapsed": false
   },
   "outputs": [],
   "source": [
    "#repr leaves quatations around a string \n",
    "s = \"Hello world\\n2\\n3\\n4\"\n",
    "print(s)\n",
    "print(str(s))\n",
    "print(repr(s))\n"
   ]
  },
  {
   "cell_type": "code",
   "execution_count": null,
   "metadata": {
    "collapsed": false
   },
   "outputs": [],
   "source": [
    "d = 1/7\n",
    "str(d) #if print this, there will be no quotes "
   ]
  },
  {
   "cell_type": "code",
   "execution_count": null,
   "metadata": {
    "collapsed": false
   },
   "outputs": [],
   "source": [
    "repr(d)#if print this, there will be no quotes "
   ]
  },
  {
   "cell_type": "code",
   "execution_count": null,
   "metadata": {
    "collapsed": false
   },
   "outputs": [],
   "source": [
    "print(\"The value of rpr(d) is \" + repr(d) + \" The value of str of d is \" + str(d) + \" And value of str(s) is not printed\" +\n",
    "     \" And rpr(s) is \" + repr(s) + \" And repr(50*30) is \" + repr(16*7) + \" And str(16*7) is \" + str(16*7))"
   ]
  },
  {
   "cell_type": "code",
   "execution_count": null,
   "metadata": {
    "collapsed": false
   },
   "outputs": [],
   "source": [
    "some_list = [[1,2,3],[3,4,5],[6,7,8]]\n",
    "print(some_list)\n",
    "print(str(some_list))\n",
    "print(repr(some_list))"
   ]
  },
  {
   "cell_type": "code",
   "execution_count": null,
   "metadata": {
    "collapsed": false
   },
   "outputs": [],
   "source": [
    "some_tuple = ((1,2,3),(3,4,5),(5,6,7))\n",
    "print(some_tuple)\n",
    "print(str(some_tuple))\n",
    "print(repr(some_tuple))"
   ]
  },
  {
   "cell_type": "code",
   "execution_count": null,
   "metadata": {
    "collapsed": false
   },
   "outputs": [],
   "source": [
    "some_dict = {\"x\":[1,2,3,4],\n",
    "            \"y\":[4,5,6,7],\n",
    "            \"z\":[8,6,1,1,1,1,1,]}\n",
    "print(some_dict)\n",
    "print(str(some_dict))\n",
    "print(repr(some_dict))"
   ]
  },
  {
   "cell_type": "markdown",
   "metadata": {},
   "source": [
    "### Taking one more aside to play with .format()"
   ]
  },
  {
   "cell_type": "code",
   "execution_count": 1,
   "metadata": {
    "collapsed": false
   },
   "outputs": [
    {
     "data": {
      "text/plain": [
       "'   test   '"
      ]
     },
     "execution_count": 1,
     "metadata": {},
     "output_type": "execute_result"
    }
   ],
   "source": [
    "\"{:^10}\".format(\"test\")"
   ]
  },
  {
   "cell_type": "code",
   "execution_count": 2,
   "metadata": {
    "collapsed": false
   },
   "outputs": [
    {
     "data": {
      "text/plain": [
       "'        42'"
      ]
     },
     "execution_count": 2,
     "metadata": {},
     "output_type": "execute_result"
    }
   ],
   "source": [
    "\"{:10d}\".format(42)"
   ]
  },
  {
   "cell_type": "code",
   "execution_count": 3,
   "metadata": {
    "collapsed": false
   },
   "outputs": [
    {
     "data": {
      "text/plain": [
       "'4232.123'"
      ]
     },
     "execution_count": 3,
     "metadata": {},
     "output_type": "execute_result"
    }
   ],
   "source": [
    "\"{:.3f}\".format(4232.1231412) #.3 means 3 places after decimal, how to limit total number of characters?"
   ]
  },
  {
   "cell_type": "code",
   "execution_count": 4,
   "metadata": {
    "collapsed": false
   },
   "outputs": [
    {
     "data": {
      "text/plain": [
       "'test      '"
      ]
     },
     "execution_count": 4,
     "metadata": {},
     "output_type": "execute_result"
    }
   ],
   "source": [
    "'{:10}'.format('test')"
   ]
  },
  {
   "cell_type": "markdown",
   "metadata": {},
   "source": [
    "### Binning Data Example by Chris Albon\n",
    "http://chrisalbon.com/python/pandas_binning_data.html"
   ]
  },
  {
   "cell_type": "code",
   "execution_count": 28,
   "metadata": {
    "collapsed": false
   },
   "outputs": [
    {
     "data": {
      "text/html": [
       "<div>\n",
       "<table border=\"1\" class=\"dataframe\">\n",
       "  <thead>\n",
       "    <tr style=\"text-align: right;\">\n",
       "      <th></th>\n",
       "      <th>regiment</th>\n",
       "      <th>company</th>\n",
       "      <th>name</th>\n",
       "      <th>preTestScore</th>\n",
       "      <th>postTestScore</th>\n",
       "    </tr>\n",
       "  </thead>\n",
       "  <tbody>\n",
       "    <tr>\n",
       "      <th>0</th>\n",
       "      <td>Nighthawks</td>\n",
       "      <td>1st</td>\n",
       "      <td>Miller</td>\n",
       "      <td>4</td>\n",
       "      <td>25</td>\n",
       "    </tr>\n",
       "    <tr>\n",
       "      <th>1</th>\n",
       "      <td>Nighthawks</td>\n",
       "      <td>1st</td>\n",
       "      <td>Jacobson</td>\n",
       "      <td>24</td>\n",
       "      <td>94</td>\n",
       "    </tr>\n",
       "    <tr>\n",
       "      <th>2</th>\n",
       "      <td>Nighthawks</td>\n",
       "      <td>2nd</td>\n",
       "      <td>Ali</td>\n",
       "      <td>31</td>\n",
       "      <td>57</td>\n",
       "    </tr>\n",
       "    <tr>\n",
       "      <th>3</th>\n",
       "      <td>Nighthawks</td>\n",
       "      <td>2nd</td>\n",
       "      <td>Milner</td>\n",
       "      <td>2</td>\n",
       "      <td>62</td>\n",
       "    </tr>\n",
       "    <tr>\n",
       "      <th>4</th>\n",
       "      <td>Dragoons</td>\n",
       "      <td>1st</td>\n",
       "      <td>Cooze</td>\n",
       "      <td>3</td>\n",
       "      <td>70</td>\n",
       "    </tr>\n",
       "    <tr>\n",
       "      <th>5</th>\n",
       "      <td>Dragoons</td>\n",
       "      <td>1st</td>\n",
       "      <td>Jacon</td>\n",
       "      <td>4</td>\n",
       "      <td>25</td>\n",
       "    </tr>\n",
       "    <tr>\n",
       "      <th>6</th>\n",
       "      <td>Dragoons</td>\n",
       "      <td>2nd</td>\n",
       "      <td>Ryaner</td>\n",
       "      <td>24</td>\n",
       "      <td>94</td>\n",
       "    </tr>\n",
       "    <tr>\n",
       "      <th>7</th>\n",
       "      <td>Dragoons</td>\n",
       "      <td>2nd</td>\n",
       "      <td>Sone</td>\n",
       "      <td>31</td>\n",
       "      <td>57</td>\n",
       "    </tr>\n",
       "    <tr>\n",
       "      <th>8</th>\n",
       "      <td>Scouts</td>\n",
       "      <td>1st</td>\n",
       "      <td>Sloan</td>\n",
       "      <td>2</td>\n",
       "      <td>62</td>\n",
       "    </tr>\n",
       "    <tr>\n",
       "      <th>9</th>\n",
       "      <td>Scouts</td>\n",
       "      <td>1st</td>\n",
       "      <td>Piger</td>\n",
       "      <td>3</td>\n",
       "      <td>70</td>\n",
       "    </tr>\n",
       "    <tr>\n",
       "      <th>10</th>\n",
       "      <td>Scouts</td>\n",
       "      <td>2nd</td>\n",
       "      <td>Riani</td>\n",
       "      <td>2</td>\n",
       "      <td>62</td>\n",
       "    </tr>\n",
       "    <tr>\n",
       "      <th>11</th>\n",
       "      <td>Scouts</td>\n",
       "      <td>2nd</td>\n",
       "      <td>Ali</td>\n",
       "      <td>3</td>\n",
       "      <td>70</td>\n",
       "    </tr>\n",
       "  </tbody>\n",
       "</table>\n",
       "</div>"
      ],
      "text/plain": [
       "      regiment company      name  preTestScore  postTestScore\n",
       "0   Nighthawks     1st    Miller             4             25\n",
       "1   Nighthawks     1st  Jacobson            24             94\n",
       "2   Nighthawks     2nd       Ali            31             57\n",
       "3   Nighthawks     2nd    Milner             2             62\n",
       "4     Dragoons     1st     Cooze             3             70\n",
       "5     Dragoons     1st     Jacon             4             25\n",
       "6     Dragoons     2nd    Ryaner            24             94\n",
       "7     Dragoons     2nd      Sone            31             57\n",
       "8       Scouts     1st     Sloan             2             62\n",
       "9       Scouts     1st     Piger             3             70\n",
       "10      Scouts     2nd     Riani             2             62\n",
       "11      Scouts     2nd       Ali             3             70"
      ]
     },
     "execution_count": 28,
     "metadata": {},
     "output_type": "execute_result"
    }
   ],
   "source": [
    "raw_data = {'regiment': ['Nighthawks', 'Nighthawks', 'Nighthawks', 'Nighthawks', 'Dragoons', 'Dragoons', 'Dragoons', 'Dragoons', 'Scouts', 'Scouts', 'Scouts', 'Scouts'], \n",
    "        'company': ['1st', '1st', '2nd', '2nd', '1st', '1st', '2nd', '2nd','1st', '1st', '2nd', '2nd'], \n",
    "        'name': ['Miller', 'Jacobson', 'Ali', 'Milner', 'Cooze', 'Jacon', 'Ryaner', 'Sone', 'Sloan', 'Piger', 'Riani', 'Ali'], \n",
    "        'preTestScore': [4, 24, 31, 2, 3, 4, 24, 31, 2, 3, 2, 3],\n",
    "        'postTestScore': [25, 94, 57, 62, 70, 25, 94, 57, 62, 70, 62, 70]}\n",
    "df = pd.DataFrame(raw_data, columns = ['regiment', 'company', 'name', 'preTestScore', 'postTestScore'])\n",
    "df"
   ]
  },
  {
   "cell_type": "code",
   "execution_count": 29,
   "metadata": {
    "collapsed": true
   },
   "outputs": [],
   "source": [
    "bins = [0, 25, 50, 75, 100]\n",
    "group_names = ['Low', 'Okay', 'Good', 'Great']"
   ]
  },
  {
   "cell_type": "code",
   "execution_count": 32,
   "metadata": {
    "collapsed": true
   },
   "outputs": [],
   "source": [
    "categories = pd.cut(df['postTestScore'], bins)#, labels=group_names)"
   ]
  },
  {
   "cell_type": "code",
   "execution_count": 33,
   "metadata": {
    "collapsed": false
   },
   "outputs": [
    {
     "data": {
      "text/plain": [
       "0       (0, 25]\n",
       "1     (75, 100]\n",
       "2      (50, 75]\n",
       "3      (50, 75]\n",
       "4      (50, 75]\n",
       "5       (0, 25]\n",
       "6     (75, 100]\n",
       "7      (50, 75]\n",
       "8      (50, 75]\n",
       "9      (50, 75]\n",
       "10     (50, 75]\n",
       "11     (50, 75]\n",
       "Name: postTestScore, dtype: category\n",
       "Categories (4, object): [(0, 25] < (25, 50] < (50, 75] < (75, 100]]"
      ]
     },
     "execution_count": 33,
     "metadata": {},
     "output_type": "execute_result"
    }
   ],
   "source": [
    "categories"
   ]
  },
  {
   "cell_type": "code",
   "execution_count": 34,
   "metadata": {
    "collapsed": true
   },
   "outputs": [],
   "source": [
    "pd.groupby?"
   ]
  },
  {
   "cell_type": "markdown",
   "metadata": {},
   "source": [
    "### Trying to answer the question of wether I can group a dataframe using a different object(i.e array of same length)\n",
    "Answer: as long as the array is the same length it will group by the index of the datafram and the array. "
   ]
  },
  {
   "cell_type": "code",
   "execution_count": 38,
   "metadata": {
    "collapsed": true
   },
   "outputs": [],
   "source": [
    "dict_of_numbers = {\"heigh\":[160,165,173,158],\n",
    "                  \"weifht\":[76,80,72,52]}\n",
    "age_array = np.array([20,20,35,35])"
   ]
  },
  {
   "cell_type": "code",
   "execution_count": 50,
   "metadata": {
    "collapsed": false
   },
   "outputs": [
    {
     "data": {
      "text/plain": [
       "array([20, 20, 35, 35])"
      ]
     },
     "execution_count": 50,
     "metadata": {},
     "output_type": "execute_result"
    }
   ],
   "source": [
    "age_array"
   ]
  },
  {
   "cell_type": "code",
   "execution_count": 40,
   "metadata": {
    "collapsed": false
   },
   "outputs": [],
   "source": [
    "df_dict_of_numbers = pd.DataFrame(dict_of_numbers)"
   ]
  },
  {
   "cell_type": "code",
   "execution_count": 48,
   "metadata": {
    "collapsed": false
   },
   "outputs": [],
   "source": [
    "groupws_df = df_dict_of_numbers.groupby(age_array).mean()"
   ]
  },
  {
   "cell_type": "code",
   "execution_count": 49,
   "metadata": {
    "collapsed": false
   },
   "outputs": [
    {
     "data": {
      "text/html": [
       "<div>\n",
       "<table border=\"1\" class=\"dataframe\">\n",
       "  <thead>\n",
       "    <tr style=\"text-align: right;\">\n",
       "      <th></th>\n",
       "      <th>heigh</th>\n",
       "      <th>weifht</th>\n",
       "    </tr>\n",
       "  </thead>\n",
       "  <tbody>\n",
       "    <tr>\n",
       "      <th>20</th>\n",
       "      <td>162.5</td>\n",
       "      <td>78</td>\n",
       "    </tr>\n",
       "    <tr>\n",
       "      <th>35</th>\n",
       "      <td>165.5</td>\n",
       "      <td>62</td>\n",
       "    </tr>\n",
       "  </tbody>\n",
       "</table>\n",
       "</div>"
      ],
      "text/plain": [
       "    heigh  weifht\n",
       "20  162.5      78\n",
       "35  165.5      62"
      ]
     },
     "execution_count": 49,
     "metadata": {},
     "output_type": "execute_result"
    }
   ],
   "source": [
    "groupws_df"
   ]
  }
 ],
 "metadata": {
  "kernelspec": {
   "display_name": "Python 3",
   "language": "python",
   "name": "python3"
  },
  "language_info": {
   "codemirror_mode": {
    "name": "ipython",
    "version": 3
   },
   "file_extension": ".py",
   "mimetype": "text/x-python",
   "name": "python",
   "nbconvert_exporter": "python",
   "pygments_lexer": "ipython3",
   "version": "3.4.4"
  }
 },
 "nbformat": 4,
 "nbformat_minor": 0
}
