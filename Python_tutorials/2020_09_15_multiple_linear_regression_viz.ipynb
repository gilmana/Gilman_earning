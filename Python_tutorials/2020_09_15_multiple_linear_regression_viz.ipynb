{
 "cells": [
  {
   "cell_type": "code",
   "execution_count": 1,
   "metadata": {},
   "outputs": [],
   "source": [
    "import pandas as pd\n",
    "\n",
    "from mpl_toolkits import mplot3d\n",
    "%matplotlib inline\n",
    "import numpy as np\n",
    "import matplotlib.pyplot as plt"
   ]
  },
  {
   "cell_type": "code",
   "execution_count": 2,
   "metadata": {},
   "outputs": [],
   "source": [
    "import numpy as np\n",
    "import matplotlib.pyplot as plt\n",
    "from sklearn import linear_model\n",
    "from mpl_toolkits.mplot3d import Axes3D"
   ]
  },
  {
   "cell_type": "markdown",
   "metadata": {},
   "source": [
    "##### Raw data in dict form, paste into a variable and convert to Dataframe\n",
    "\n",
    "data_dict = {'Condition #': {0: 1, 1: 2, 2: 3, 3: 4, 4: 5, 5: 6, 6: 7, 7: 8, 8: 9, 9: 10, 10: 11}, 'Note': {0: 'a0', 1: '0A', 2: '+-', 3: 'A0', 4: '0a', 5: '00', 6: '--', 7: '++', 8: '-+', 9: '00', 10: 'control'}, 'Balanced Feed': {0: 1.5, 1: 3.0, 2: 0.0, 3: 1.5, 4: 0.0, 5: 1.5, 6: 0.0, 7: 3.0, 8: 3.0, 9: 1.5, 10: 1.0}, 'Feed Supplement': {0: 0.0, 1: 1.5, 2: 3.0, 3: 3.0, 4: 1.5, 5: 1.5, 6: 0.0, 7: 3.0, 8: 0.0, 9: 1.5, 10: 1.0}, 'Titer (Replicate #1)': {0: 1490.9, 1: 3686.5, 2: 1100.3, 3: 1031.1, 4: 1723.0, 5: 3502.3, 6: 1565.8, 7: 1151.3, 8: 1471.7, 9: 2578.2, 10: 1995.8}, 'Titer (Replicate #2)': {0: 1553.3, 1: 3192.7, 2: 1064.4, 3: 1050.2, 4: 1652.6, 5: 2897.3, 6: 1642.6, 7: 1171.9, 8: 1399.1, 9: 2588.8, 10: 1867.9}, 'Average': {0: 1522.1, 1: 3439.6, 2: 1082.35, 3: 1040.65, 4: 1687.8, 5: 3199.8, 6: 1604.2, 7: 1161.6, 8: 1435.4, 9: 2583.5, 10: 1931.85}, 'Range ': {0: 62.4, 1: 493.8, 2: 35.9, 3: 19.1, 4: 70.4, 5: 605.0, 6: 76.8, 7: 20.6, 8: 72.6, 9: 10.6, 10: 127.9}, 'Percent diff': {0: 4.099599238, 1: 14.356320499999999, 2: 3.3168568389999997, 3: 1.8353913419999999, 4: 4.1711103210000005, 5: 18.90743171, 6: 4.787432988, 7: 1.773415978, 8: 5.057823603, 9: 0.41029611, 10: 6.620596837000001}}"
   ]
  },
  {
   "cell_type": "code",
   "execution_count": 3,
   "metadata": {},
   "outputs": [],
   "source": [
    "data_dict = {'Condition #': {0: 1, 1: 2, 2: 3, 3: 4, 4: 5, 5: 6, 6: 7, 7: 8, 8: 9, 9: 10, 10: 11}, 'Note': {0: 'a0', 1: '0A', 2: '+-', 3: 'A0', 4: '0a', 5: '00', 6: '--', 7: '++', 8: '-+', 9: '00', 10: 'control'}, 'Balanced Feed': {0: 1.5, 1: 3.0, 2: 0.0, 3: 1.5, 4: 0.0, 5: 1.5, 6: 0.0, 7: 3.0, 8: 3.0, 9: 1.5, 10: 1.0}, 'Feed Supplement': {0: 0.0, 1: 1.5, 2: 3.0, 3: 3.0, 4: 1.5, 5: 1.5, 6: 0.0, 7: 3.0, 8: 0.0, 9: 1.5, 10: 1.0}, 'Titer (Replicate #1)': {0: 1490.9, 1: 3686.5, 2: 1100.3, 3: 1031.1, 4: 1723.0, 5: 3502.3, 6: 1565.8, 7: 1151.3, 8: 1471.7, 9: 2578.2, 10: 1995.8}, 'Titer (Replicate #2)': {0: 1553.3, 1: 3192.7, 2: 1064.4, 3: 1050.2, 4: 1652.6, 5: 2897.3, 6: 1642.6, 7: 1171.9, 8: 1399.1, 9: 2588.8, 10: 1867.9}, 'Average': {0: 1522.1, 1: 3439.6, 2: 1082.35, 3: 1040.65, 4: 1687.8, 5: 3199.8, 6: 1604.2, 7: 1161.6, 8: 1435.4, 9: 2583.5, 10: 1931.85}, 'Range ': {0: 62.4, 1: 493.8, 2: 35.9, 3: 19.1, 4: 70.4, 5: 605.0, 6: 76.8, 7: 20.6, 8: 72.6, 9: 10.6, 10: 127.9}, 'Percent diff': {0: 4.099599238, 1: 14.356320499999999, 2: 3.3168568389999997, 3: 1.8353913419999999, 4: 4.1711103210000005, 5: 18.90743171, 6: 4.787432988, 7: 1.773415978, 8: 5.057823603, 9: 0.41029611, 10: 6.620596837000001}}"
   ]
  },
  {
   "cell_type": "code",
   "execution_count": 4,
   "metadata": {
    "scrolled": true
   },
   "outputs": [
    {
     "name": "stdout",
     "output_type": "stream",
     "text": [
      "Condition #               int64\n",
      "Note                     object\n",
      "Balanced Feed           float64\n",
      "Feed Supplement         float64\n",
      "Titer (Replicate #1)    float64\n",
      "Titer (Replicate #2)    float64\n",
      "Average                 float64\n",
      "Range                   float64\n",
      "Percent diff            float64\n",
      "dtype: object\n"
     ]
    }
   ],
   "source": [
    "df_SFPM07 = pd.DataFrame(data_dict)\n",
    "print(df_SFPM07.dtypes)"
   ]
  },
  {
   "cell_type": "markdown",
   "metadata": {},
   "source": [
    "### Following Example from: https://aegis4048.github.io/mutiple_linear_regression_and_visualization_in_python"
   ]
  },
  {
   "cell_type": "markdown",
   "metadata": {},
   "source": [
    "### Simple Linear Regression"
   ]
  },
  {
   "cell_type": "code",
   "execution_count": 5,
   "metadata": {},
   "outputs": [],
   "source": [
    "import pandas as pd\n",
    "import matplotlib.pyplot as plt\n",
    "from sklearn import linear_model"
   ]
  },
  {
   "cell_type": "code",
   "execution_count": 6,
   "metadata": {},
   "outputs": [],
   "source": [
    "####### Data preparation ##########\n",
    "\n",
    "file = 'https://aegis4048.github.io/downloads/notebooks/sample_data/unconv_MV_v5.csv'\n",
    "df = pd.read_csv(file)\n",
    "\n",
    "X = df['Por'].values.reshape(-1,1) #one column of values, unlimited rows\n",
    "y = df['Prod'].values #one dimensional dataset\n"
   ]
  },
  {
   "cell_type": "code",
   "execution_count": 7,
   "metadata": {},
   "outputs": [],
   "source": [
    "############ Train ###########\n",
    "    \n",
    "ols = linear_model.LinearRegression()\n",
    "model = ols.fit(X, y)\n",
    "response = model.predict(X)"
   ]
  },
  {
   "cell_type": "code",
   "execution_count": null,
   "metadata": {},
   "outputs": [],
   "source": [
    "######### Evaluate #######\n",
    "\n",
    "r2 = model.score(X, y)"
   ]
  },
  {
   "cell_type": "markdown",
   "metadata": {},
   "source": [
    "#### Exploring SciKit Learn Polynomial Feature"
   ]
  },
  {
   "cell_type": "code",
   "execution_count": 24,
   "metadata": {},
   "outputs": [],
   "source": [
    "from sklearn.preprocessing import PolynomialFeatures"
   ]
  },
  {
   "cell_type": "code",
   "execution_count": 16,
   "metadata": {},
   "outputs": [],
   "source": [
    "X = df.iloc[:,1:3].values"
   ]
  },
  {
   "cell_type": "code",
   "execution_count": 23,
   "metadata": {},
   "outputs": [],
   "source": [
    "names = df.columns[1:3].values"
   ]
  },
  {
   "cell_type": "code",
   "execution_count": 25,
   "metadata": {},
   "outputs": [],
   "source": [
    "poly = PolynomialFeatures(2)"
   ]
  },
  {
   "cell_type": "code",
   "execution_count": 26,
   "metadata": {},
   "outputs": [
    {
     "data": {
      "text/plain": [
       "array([[  1.    ,  12.08  ,   2.92  , 145.9264,  35.2736,   8.5264],\n",
       "       [  1.    ,  12.38  ,   3.53  , 153.2644,  43.7014,  12.4609],\n",
       "       [  1.    ,  14.02  ,   2.59  , 196.5604,  36.3118,   6.7081],\n",
       "       ...,\n",
       "       [  1.    ,  12.12  ,   2.27  , 146.8944,  27.5124,   5.1529],\n",
       "       [  1.    ,  15.55  ,   4.48  , 241.8025,  69.664 ,  20.0704],\n",
       "       [  1.    ,  20.89  ,   7.54  , 436.3921, 157.5106,  56.8516]])"
      ]
     },
     "execution_count": 26,
     "metadata": {},
     "output_type": "execute_result"
    }
   ],
   "source": [
    "poly.fit_transform(X)"
   ]
  },
  {
   "cell_type": "code",
   "execution_count": 27,
   "metadata": {},
   "outputs": [
    {
     "data": {
      "text/plain": [
       "['1', 'Por', 'Perm', 'Por^2', 'Por Perm', 'Perm^2']"
      ]
     },
     "execution_count": 27,
     "metadata": {},
     "output_type": "execute_result"
    }
   ],
   "source": [
    "poly.get_feature_names(names)"
   ]
  },
  {
   "cell_type": "code",
   "execution_count": null,
   "metadata": {},
   "outputs": [],
   "source": []
  },
  {
   "cell_type": "code",
   "execution_count": null,
   "metadata": {},
   "outputs": [],
   "source": []
  },
  {
   "cell_type": "code",
   "execution_count": 18,
   "metadata": {},
   "outputs": [
    {
     "data": {
      "text/plain": [
       "(200, 2)"
      ]
     },
     "execution_count": 18,
     "metadata": {},
     "output_type": "execute_result"
    }
   ],
   "source": [
    "X.shape"
   ]
  },
  {
   "cell_type": "code",
   "execution_count": 10,
   "metadata": {},
   "outputs": [
    {
     "data": {
      "text/html": [
       "<div>\n",
       "<style scoped>\n",
       "    .dataframe tbody tr th:only-of-type {\n",
       "        vertical-align: middle;\n",
       "    }\n",
       "\n",
       "    .dataframe tbody tr th {\n",
       "        vertical-align: top;\n",
       "    }\n",
       "\n",
       "    .dataframe thead th {\n",
       "        text-align: right;\n",
       "    }\n",
       "</style>\n",
       "<table border=\"1\" class=\"dataframe\">\n",
       "  <thead>\n",
       "    <tr style=\"text-align: right;\">\n",
       "      <th></th>\n",
       "      <th>Por</th>\n",
       "      <th>Perm</th>\n",
       "    </tr>\n",
       "  </thead>\n",
       "  <tbody>\n",
       "    <tr>\n",
       "      <th>0</th>\n",
       "      <td>12.08</td>\n",
       "      <td>2.92</td>\n",
       "    </tr>\n",
       "    <tr>\n",
       "      <th>1</th>\n",
       "      <td>12.38</td>\n",
       "      <td>3.53</td>\n",
       "    </tr>\n",
       "    <tr>\n",
       "      <th>2</th>\n",
       "      <td>14.02</td>\n",
       "      <td>2.59</td>\n",
       "    </tr>\n",
       "    <tr>\n",
       "      <th>3</th>\n",
       "      <td>17.67</td>\n",
       "      <td>6.75</td>\n",
       "    </tr>\n",
       "    <tr>\n",
       "      <th>4</th>\n",
       "      <td>17.52</td>\n",
       "      <td>4.57</td>\n",
       "    </tr>\n",
       "    <tr>\n",
       "      <th>...</th>\n",
       "      <td>...</td>\n",
       "      <td>...</td>\n",
       "    </tr>\n",
       "    <tr>\n",
       "      <th>195</th>\n",
       "      <td>11.95</td>\n",
       "      <td>3.13</td>\n",
       "    </tr>\n",
       "    <tr>\n",
       "      <th>196</th>\n",
       "      <td>17.99</td>\n",
       "      <td>9.87</td>\n",
       "    </tr>\n",
       "    <tr>\n",
       "      <th>197</th>\n",
       "      <td>12.12</td>\n",
       "      <td>2.27</td>\n",
       "    </tr>\n",
       "    <tr>\n",
       "      <th>198</th>\n",
       "      <td>15.55</td>\n",
       "      <td>4.48</td>\n",
       "    </tr>\n",
       "    <tr>\n",
       "      <th>199</th>\n",
       "      <td>20.89</td>\n",
       "      <td>7.54</td>\n",
       "    </tr>\n",
       "  </tbody>\n",
       "</table>\n",
       "<p>200 rows × 2 columns</p>\n",
       "</div>"
      ],
      "text/plain": [
       "       Por  Perm\n",
       "0    12.08  2.92\n",
       "1    12.38  3.53\n",
       "2    14.02  2.59\n",
       "3    17.67  6.75\n",
       "4    17.52  4.57\n",
       "..     ...   ...\n",
       "195  11.95  3.13\n",
       "196  17.99  9.87\n",
       "197  12.12  2.27\n",
       "198  15.55  4.48\n",
       "199  20.89  7.54\n",
       "\n",
       "[200 rows x 2 columns]"
      ]
     },
     "execution_count": 10,
     "metadata": {},
     "output_type": "execute_result"
    }
   ],
   "source": [
    "df[[\"Por\", \"Perm\"]]"
   ]
  },
  {
   "cell_type": "code",
   "execution_count": 11,
   "metadata": {},
   "outputs": [],
   "source": [
    "X = df[[\"Por\",\"Perm\"]]"
   ]
  },
  {
   "cell_type": "code",
   "execution_count": 12,
   "metadata": {},
   "outputs": [
    {
     "data": {
      "text/html": [
       "<div>\n",
       "<style scoped>\n",
       "    .dataframe tbody tr th:only-of-type {\n",
       "        vertical-align: middle;\n",
       "    }\n",
       "\n",
       "    .dataframe tbody tr th {\n",
       "        vertical-align: top;\n",
       "    }\n",
       "\n",
       "    .dataframe thead th {\n",
       "        text-align: right;\n",
       "    }\n",
       "</style>\n",
       "<table border=\"1\" class=\"dataframe\">\n",
       "  <thead>\n",
       "    <tr style=\"text-align: right;\">\n",
       "      <th></th>\n",
       "      <th>Por</th>\n",
       "      <th>Perm</th>\n",
       "    </tr>\n",
       "  </thead>\n",
       "  <tbody>\n",
       "    <tr>\n",
       "      <th>0</th>\n",
       "      <td>12.08</td>\n",
       "      <td>2.92</td>\n",
       "    </tr>\n",
       "    <tr>\n",
       "      <th>1</th>\n",
       "      <td>12.38</td>\n",
       "      <td>3.53</td>\n",
       "    </tr>\n",
       "    <tr>\n",
       "      <th>2</th>\n",
       "      <td>14.02</td>\n",
       "      <td>2.59</td>\n",
       "    </tr>\n",
       "    <tr>\n",
       "      <th>3</th>\n",
       "      <td>17.67</td>\n",
       "      <td>6.75</td>\n",
       "    </tr>\n",
       "    <tr>\n",
       "      <th>4</th>\n",
       "      <td>17.52</td>\n",
       "      <td>4.57</td>\n",
       "    </tr>\n",
       "    <tr>\n",
       "      <th>...</th>\n",
       "      <td>...</td>\n",
       "      <td>...</td>\n",
       "    </tr>\n",
       "    <tr>\n",
       "      <th>195</th>\n",
       "      <td>11.95</td>\n",
       "      <td>3.13</td>\n",
       "    </tr>\n",
       "    <tr>\n",
       "      <th>196</th>\n",
       "      <td>17.99</td>\n",
       "      <td>9.87</td>\n",
       "    </tr>\n",
       "    <tr>\n",
       "      <th>197</th>\n",
       "      <td>12.12</td>\n",
       "      <td>2.27</td>\n",
       "    </tr>\n",
       "    <tr>\n",
       "      <th>198</th>\n",
       "      <td>15.55</td>\n",
       "      <td>4.48</td>\n",
       "    </tr>\n",
       "    <tr>\n",
       "      <th>199</th>\n",
       "      <td>20.89</td>\n",
       "      <td>7.54</td>\n",
       "    </tr>\n",
       "  </tbody>\n",
       "</table>\n",
       "<p>200 rows × 2 columns</p>\n",
       "</div>"
      ],
      "text/plain": [
       "       Por  Perm\n",
       "0    12.08  2.92\n",
       "1    12.38  3.53\n",
       "2    14.02  2.59\n",
       "3    17.67  6.75\n",
       "4    17.52  4.57\n",
       "..     ...   ...\n",
       "195  11.95  3.13\n",
       "196  17.99  9.87\n",
       "197  12.12  2.27\n",
       "198  15.55  4.48\n",
       "199  20.89  7.54\n",
       "\n",
       "[200 rows x 2 columns]"
      ]
     },
     "execution_count": 12,
     "metadata": {},
     "output_type": "execute_result"
    }
   ],
   "source": [
    "X"
   ]
  },
  {
   "cell_type": "code",
   "execution_count": null,
   "metadata": {},
   "outputs": [],
   "source": []
  },
  {
   "cell_type": "markdown",
   "metadata": {},
   "source": [
    "sci-kit Learn polynomial feature\n",
    "\n",
    "https://scikit-learn.org/stable/modules/generated/sklearn.linear_model.LinearRegression.html#sklearn.linear_model.LinearRegression\n",
    "\n",
    "https://scikit-learn.org/stable/modules/generated/sklearn.preprocessing.PolynomialFeatures.html"
   ]
  },
  {
   "cell_type": "code",
   "execution_count": null,
   "metadata": {},
   "outputs": [],
   "source": []
  },
  {
   "cell_type": "code",
   "execution_count": null,
   "metadata": {},
   "outputs": [],
   "source": []
  },
  {
   "cell_type": "code",
   "execution_count": null,
   "metadata": {},
   "outputs": [],
   "source": [
    "response.shape"
   ]
  },
  {
   "cell_type": "code",
   "execution_count": null,
   "metadata": {},
   "outputs": [],
   "source": [
    "y.shape"
   ]
  },
  {
   "cell_type": "code",
   "execution_count": null,
   "metadata": {},
   "outputs": [],
   "source": [
    "df.isnull().sum()"
   ]
  },
  {
   "cell_type": "code",
   "execution_count": null,
   "metadata": {},
   "outputs": [],
   "source": []
  },
  {
   "cell_type": "markdown",
   "metadata": {},
   "source": [
    "### Following Example from: https://aegis4048.github.io/mutiple_linear_regression_and_visualization_in_python"
   ]
  },
  {
   "cell_type": "code",
   "execution_count": null,
   "metadata": {},
   "outputs": [],
   "source": [
    "#A quick look at the plot structure\n",
    "\n",
    "x = df_SFPM07[\"Balanced Feed\"]\n",
    "y = df_SFPM07[\"Feed Supplement\"]\n",
    "z = df_SFPM07[\"Average\"]\n",
    "\n",
    "fig = plt.figure()\n",
    "ax = plt.axes(projection='3d')\n",
    "\n",
    "ax.scatter3D(x, y, z, cmap = \"Greens\")"
   ]
  },
  {
   "cell_type": "code",
   "execution_count": null,
   "metadata": {},
   "outputs": [],
   "source": [
    "X = df_SFPM07[[\"Balanced Feed\", \"Feed Supplement\"]].values.reshape(-1,2) \n",
    "Y = df_SFPM07[\"Average\"]"
   ]
  },
  {
   "cell_type": "code",
   "execution_count": null,
   "metadata": {},
   "outputs": [],
   "source": [
    "x = X[:, 0]\n",
    "y = X[:, 1]\n",
    "z = Y"
   ]
  },
  {
   "cell_type": "code",
   "execution_count": null,
   "metadata": {},
   "outputs": [],
   "source": [
    "x_pred = np.linspace(0, 4, 20)\n",
    "y_pred = np.linspace(0, 4, 20)  \n",
    "xx_pred, yy_pred = np.meshgrid(x_pred, y_pred)\n",
    "model_viz = np.array([xx_pred.flatten(), yy_pred.flatten()]).T"
   ]
  },
  {
   "cell_type": "code",
   "execution_count": null,
   "metadata": {},
   "outputs": [],
   "source": [
    "ols = linear_model.LinearRegression()\n",
    "model = ols.fit(X, Y)\n",
    "predicted = model.predict(model_viz)"
   ]
  },
  {
   "cell_type": "code",
   "execution_count": null,
   "metadata": {},
   "outputs": [],
   "source": [
    "r2 = model.score(X, Y)"
   ]
  },
  {
   "cell_type": "code",
   "execution_count": null,
   "metadata": {
    "scrolled": true
   },
   "outputs": [],
   "source": [
    "plt.style.use('default')\n",
    "\n",
    "fig = plt.figure(figsize=(12, 4))\n",
    "\n",
    "ax1 = fig.add_subplot(131, projection='3d')\n",
    "ax2 = fig.add_subplot(132, projection='3d')\n",
    "ax3 = fig.add_subplot(133, projection='3d')\n",
    "\n",
    "axes = [ax1, ax2, ax3]\n",
    "\n",
    "for ax in axes:\n",
    "    ax.plot(x, y, z, color='k', zorder=15, linestyle='none', marker='o', alpha=0.5)\n",
    "    ax.scatter(xx_pred.flatten(), yy_pred.flatten(), predicted, facecolor=(0,0,0,0), s=20, edgecolor='#70b3f0')\n",
    "    ax.set_xlabel('BF1', fontsize=12)\n",
    "    ax.set_ylabel('FS', fontsize=12)\n",
    "    ax.set_zlabel('Titer (mg/L)', fontsize=12)\n",
    "    ax.locator_params(nbins=4, axis='x')\n",
    "    ax.locator_params(nbins=5, axis='x')\n",
    "\n",
    "#ax1.text2D(0.2, 0.32, 'aegis4048.github.io', fontsize=13, ha='center', va='center',\n",
    "#           transform=ax1.transAxes, color='grey', alpha=0.5)\n",
    "#ax2.text2D(0.3, 0.42, 'aegis4048.github.io', fontsize=13, ha='center', va='center',\n",
    "#           transform=ax2.transAxes, color='grey', alpha=0.5)\n",
    "#ax3.text2D(0.85, 0.85, 'aegis4048.github.io', fontsize=13, ha='center', va='center',\n",
    "#           transform=ax3.transAxes, color='grey', alpha=0.5)\n",
    "\n",
    "ax1.view_init(elev=28, azim=120)\n",
    "ax2.view_init(elev=4, azim=114)\n",
    "ax3.view_init(elev=60, azim=165)\n",
    "\n",
    "fig.suptitle('$R^2 = %.2f$' % r2, fontsize=20)\n",
    "\n",
    "fig.tight_layout()\n",
    "fig.savefig(\"Feeds_Regression.png\", dpi = 500)"
   ]
  },
  {
   "cell_type": "markdown",
   "metadata": {},
   "source": [
    "### Modifying the above example with FS*2 column"
   ]
  },
  {
   "cell_type": "code",
   "execution_count": null,
   "metadata": {},
   "outputs": [],
   "source": [
    "df_SFPM07[\"FS*FS\"] = df_SFPM07[\"Feed Supplement\"]*df_SFPM07[\"Feed Supplement\"]"
   ]
  },
  {
   "cell_type": "code",
   "execution_count": null,
   "metadata": {},
   "outputs": [],
   "source": [
    "X = df_SFPM07[[\"Balanced Feed\", \"Feed Supplement\", \"FS*FS\"]].values.reshape(-1,3) \n",
    "Y = df_SFPM07[\"Average\"]"
   ]
  },
  {
   "cell_type": "code",
   "execution_count": null,
   "metadata": {},
   "outputs": [],
   "source": [
    "ols = linear_model.LinearRegression()\n",
    "model = ols.fit(X, Y)\n",
    "#predicted = model.predict(model_viz)"
   ]
  },
  {
   "cell_type": "code",
   "execution_count": null,
   "metadata": {},
   "outputs": [],
   "source": [
    "model.intercept_"
   ]
  },
  {
   "cell_type": "code",
   "execution_count": null,
   "metadata": {},
   "outputs": [],
   "source": [
    "model.coef_"
   ]
  },
  {
   "cell_type": "code",
   "execution_count": null,
   "metadata": {},
   "outputs": [],
   "source": [
    "r2 = model.score(X,Y)"
   ]
  },
  {
   "cell_type": "code",
   "execution_count": null,
   "metadata": {},
   "outputs": [],
   "source": [
    "################################## Manually obtaining Predicted Value ##############################\n",
    "\n",
    "\n",
    "x_pred = np.linspace(0, 4, 20)\n",
    "y_pred = np.linspace(0, 4, 20)  \n",
    "xx_pred, yy_pred = np.meshgrid(x_pred, y_pred)\n",
    "model_viz = np.array([xx_pred.flatten(), yy_pred.flatten()]).T"
   ]
  },
  {
   "cell_type": "code",
   "execution_count": null,
   "metadata": {},
   "outputs": [],
   "source": [
    "model_viz.shape"
   ]
  },
  {
   "cell_type": "code",
   "execution_count": null,
   "metadata": {},
   "outputs": [],
   "source": [
    "new = np.add?"
   ]
  },
  {
   "cell_type": "code",
   "execution_count": null,
   "metadata": {},
   "outputs": [],
   "source": [
    "new = np.add"
   ]
  },
  {
   "cell_type": "code",
   "execution_count": null,
   "metadata": {},
   "outputs": [],
   "source": [
    "new = np.add(model_viz[:,0], model_viz[:,0])"
   ]
  },
  {
   "cell_type": "code",
   "execution_count": null,
   "metadata": {},
   "outputs": [],
   "source": [
    "new = model_viz[:,0]*203.1633 + model_viz[:,1]*1634.4083 + (np.multiply(model_viz[:,1],model_viz[:,1])*(-585.94649)) + 1178.88399"
   ]
  },
  {
   "cell_type": "code",
   "execution_count": null,
   "metadata": {},
   "outputs": [],
   "source": [
    "new.shape"
   ]
  },
  {
   "cell_type": "code",
   "execution_count": null,
   "metadata": {},
   "outputs": [],
   "source": []
  },
  {
   "cell_type": "code",
   "execution_count": null,
   "metadata": {},
   "outputs": [],
   "source": [
    "plt.style.use('default')\n",
    "\n",
    "fig = plt.figure(figsize=(12, 4))\n",
    "\n",
    "ax1 = fig.add_subplot(131, projection='3d')\n",
    "ax2 = fig.add_subplot(132, projection='3d')\n",
    "ax3 = fig.add_subplot(133, projection='3d')\n",
    "\n",
    "axes = [ax1, ax2, ax3]\n",
    "\n",
    "for ax in axes:\n",
    "    ax.plot(x, y, z, color='k', zorder=15, linestyle='none', marker='o', alpha=0.5)\n",
    "    ax.scatter(xx_pred.flatten(), yy_pred.flatten(), new, facecolor=(0,0,0,0), s=20, edgecolor='#70b3f0')\n",
    "    ax.set_xlabel('BF1', fontsize=12)\n",
    "    ax.set_ylabel('FS', fontsize=12)\n",
    "    ax.set_zlabel('Titer (mg/L)', fontsize=12)\n",
    "    ax.locator_params(nbins=4, axis='x')\n",
    "    ax.locator_params(nbins=5, axis='x')\n",
    "\n",
    "#ax1.text2D(0.2, 0.32, 'aegis4048.github.io', fontsize=13, ha='center', va='center',\n",
    "#           transform=ax1.transAxes, color='grey', alpha=0.5)\n",
    "#ax2.text2D(0.3, 0.42, 'aegis4048.github.io', fontsize=13, ha='center', va='center',\n",
    "#           transform=ax2.transAxes, color='grey', alpha=0.5)\n",
    "#ax3.text2D(0.85, 0.85, 'aegis4048.github.io', fontsize=13, ha='center', va='center',\n",
    "#           transform=ax3.transAxes, color='grey', alpha=0.5)\n",
    "\n",
    "ax1.view_init(elev=28, azim=120)\n",
    "ax2.view_init(elev=4, azim=114)\n",
    "ax3.view_init(elev=60, azim=165)\n",
    "\n",
    "fig.suptitle('$R^2 = %.2f$' % r2, fontsize=20)\n",
    "\n",
    "fig.tight_layout()\n",
    "fig.savefig(\"Feeds_Regression.png\", dpi = 500)"
   ]
  },
  {
   "cell_type": "markdown",
   "metadata": {},
   "source": [
    "# Appendix"
   ]
  },
  {
   "cell_type": "markdown",
   "metadata": {},
   "source": [
    "### Exploring numpy.reshape"
   ]
  },
  {
   "cell_type": "code",
   "execution_count": null,
   "metadata": {},
   "outputs": [],
   "source": [
    "x = df_SFPM07[\"Balanced Feed\"]\n",
    "x_val = df_SFPM07[\"Balanced Feed\"].values\n",
    "x_val_1 = df_SFPM07[\"Balanced Feed\"].values.reshape(-1,1)\n",
    "\n",
    "\n",
    "print(type(x))\n",
    "print(\"shape is : \" + str(x.shape))\n",
    "print(x)\n",
    "print(\"\\n\")\n",
    "\n",
    "print(type(x_val))\n",
    "print(x_val.shape)\n",
    "print(x_val)\n",
    "print(\"\\n\")\n",
    "\n",
    "print(type(x_val_1))\n",
    "print(\"Shape is: \" + str(x_val_1.shape))\n",
    "print(x_val_1)"
   ]
  },
  {
   "cell_type": "code",
   "execution_count": null,
   "metadata": {},
   "outputs": [],
   "source": []
  }
 ],
 "metadata": {
  "kernelspec": {
   "display_name": "Python [conda env:data_wrangling]",
   "language": "python",
   "name": "conda-env-data_wrangling-py"
  },
  "language_info": {
   "codemirror_mode": {
    "name": "ipython",
    "version": 3
   },
   "file_extension": ".py",
   "mimetype": "text/x-python",
   "name": "python",
   "nbconvert_exporter": "python",
   "pygments_lexer": "ipython3",
   "version": "3.6.5"
  }
 },
 "nbformat": 4,
 "nbformat_minor": 2
}
