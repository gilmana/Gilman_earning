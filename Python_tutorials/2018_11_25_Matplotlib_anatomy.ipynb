{
 "cells": [
  {
   "cell_type": "code",
   "execution_count": 1,
   "metadata": {},
   "outputs": [],
   "source": [
    "import numpy as np"
   ]
  },
  {
   "cell_type": "code",
   "execution_count": 2,
   "metadata": {},
   "outputs": [],
   "source": [
    "def print_basics(array):\n",
    "    \"\"\"\n",
    "    func to print the basic attributes of a given array\n",
    "    \"\"\"\n",
    "    \n",
    "    print(\"array \",\"\\n\", array)\n",
    "    print(\"array.shape \",\"\\n\", array.shape)\n",
    "    print(\"array.size \",\"\\n\", array.size)\n",
    "    print(\"array.ndim \",\"\\n\", array.ndim)"
   ]
  },
  {
   "cell_type": "markdown",
   "metadata": {},
   "source": [
    "# Appendix"
   ]
  },
  {
   "cell_type": "markdown",
   "metadata": {},
   "source": [
    "### experimenting with array shapes, axis, hstack, vstack, concat"
   ]
  },
  {
   "cell_type": "markdown",
   "metadata": {},
   "source": [
    "Working with 1d arrays "
   ]
  },
  {
   "cell_type": "code",
   "execution_count": 3,
   "metadata": {},
   "outputs": [
    {
     "name": "stdout",
     "output_type": "stream",
     "text": [
      "[1 2 3] [4 5 6] [7 8 9] [10 11 12] [13 14 15]\n"
     ]
    }
   ],
   "source": [
    "\n",
    "a = np.arange(1,4)\n",
    "b = np.arange(4,7)\n",
    "c = np.arange(7,10)\n",
    "d = np.arange(10,13)\n",
    "e = np.arange(13,16)\n",
    "f = np.arange(16,19)\n",
    "\n",
    "\n",
    "print(a, b, c, d, e)"
   ]
  },
  {
   "cell_type": "code",
   "execution_count": 10,
   "metadata": {},
   "outputs": [
    {
     "name": "stdout",
     "output_type": "stream",
     "text": [
      "array  \n",
      " [ 1  2  3  4  5  6  7  8  9 10 11 12]\n",
      "array.shape  \n",
      " (12,)\n",
      "array.size  \n",
      " 12\n",
      "array.ndim  \n",
      " 1\n"
     ]
    }
   ],
   "source": [
    "array = np.concatenate([a,b,c,d], axis = 0)\n",
    "print_basics(array)"
   ]
  },
  {
   "cell_type": "code",
   "execution_count": 11,
   "metadata": {},
   "outputs": [
    {
     "name": "stdout",
     "output_type": "stream",
     "text": [
      "array  \n",
      " [ 1  2  3  4  5  6  7  8  9 10 11 12]\n",
      "array.shape  \n",
      " (12,)\n",
      "array.size  \n",
      " 12\n",
      "array.ndim  \n",
      " 1\n"
     ]
    }
   ],
   "source": [
    "array = np.hstack([a,b,c,d],)\n",
    "print_basics(array)"
   ]
  },
  {
   "cell_type": "code",
   "execution_count": 12,
   "metadata": {},
   "outputs": [
    {
     "name": "stdout",
     "output_type": "stream",
     "text": [
      "array  \n",
      " [[ 1  2  3]\n",
      " [ 4  5  6]\n",
      " [ 7  8  9]\n",
      " [10 11 12]]\n",
      "array.shape  \n",
      " (4, 3)\n",
      "array.size  \n",
      " 12\n",
      "array.ndim  \n",
      " 2\n"
     ]
    }
   ],
   "source": [
    "array_a = np.vstack([a,b,c,d])\n",
    "print_basics(array_a)"
   ]
  },
  {
   "cell_type": "code",
   "execution_count": 13,
   "metadata": {},
   "outputs": [
    {
     "name": "stdout",
     "output_type": "stream",
     "text": [
      "array  \n",
      " [[13 14 15]\n",
      " [16 17 18]]\n",
      "array.shape  \n",
      " (2, 3)\n",
      "array.size  \n",
      " 6\n",
      "array.ndim  \n",
      " 2\n"
     ]
    }
   ],
   "source": [
    "array_b = np.vstack([e,f,])\n",
    "print_basics(array_b)"
   ]
  },
  {
   "cell_type": "code",
   "execution_count": 22,
   "metadata": {},
   "outputs": [
    {
     "name": "stdout",
     "output_type": "stream",
     "text": [
      "array  \n",
      " [[ 1  2  3]\n",
      " [ 4  5  6]\n",
      " [ 7  8  9]\n",
      " [10 11 12]\n",
      " [13 14 15]\n",
      " [16 17 18]]\n",
      "array.shape  \n",
      " (6, 3)\n",
      "array.size  \n",
      " 18\n",
      "array.ndim  \n",
      " 2\n"
     ]
    }
   ],
   "source": [
    "array_c = np.concatenate([array_a,array_b], axis = 0)\n",
    "print_basics(array_c)"
   ]
  },
  {
   "cell_type": "code",
   "execution_count": 20,
   "metadata": {},
   "outputs": [
    {
     "name": "stdout",
     "output_type": "stream",
     "text": [
      "array  \n",
      " [[ 1  2  3]\n",
      " [ 4  5  6]\n",
      " [ 7  8  9]\n",
      " [10 11 12]\n",
      " [13 14 15]\n",
      " [16 17 18]]\n",
      "array.shape  \n",
      " (6, 3)\n",
      "array.size  \n",
      " 18\n",
      "array.ndim  \n",
      " 2\n"
     ]
    }
   ],
   "source": [
    "array_c = np.vstack([array_a, array_b])\n",
    "print_basics(array_c)"
   ]
  },
  {
   "cell_type": "markdown",
   "metadata": {},
   "source": [
    "Working with 2d arrays \n",
    "\n",
    "\n"
   ]
  },
  {
   "cell_type": "code",
   "execution_count": 76,
   "metadata": {},
   "outputs": [],
   "source": [
    "aa = np.arange(0,6,1)\n",
    "aa = aa.reshape((3,2))\n"
   ]
  },
  {
   "cell_type": "code",
   "execution_count": 77,
   "metadata": {},
   "outputs": [],
   "source": [
    "bb = aa+6\n",
    "cc = aa+6*2\n",
    "dd = aa+6*3"
   ]
  },
  {
   "cell_type": "code",
   "execution_count": 102,
   "metadata": {},
   "outputs": [
    {
     "name": "stdout",
     "output_type": "stream",
     "text": [
      "array  \n",
      " [[0 1]\n",
      " [2 3]\n",
      " [4 5]]\n",
      "array.shape  \n",
      " (3, 2)\n",
      "array.size  \n",
      " 6\n",
      "array.ndim  \n",
      " 2\n"
     ]
    }
   ],
   "source": [
    "print_basics(aa)"
   ]
  },
  {
   "cell_type": "code",
   "execution_count": 109,
   "metadata": {},
   "outputs": [
    {
     "name": "stdout",
     "output_type": "stream",
     "text": [
      "array  \n",
      " [[[ 0  1]\n",
      "  [ 2  3]\n",
      "  [ 4  5]]\n",
      "\n",
      " [[ 6  7]\n",
      "  [ 8  9]\n",
      "  [10 11]]\n",
      "\n",
      " [[12 13]\n",
      "  [14 15]\n",
      "  [16 17]]\n",
      "\n",
      " [[18 19]\n",
      "  [20 21]\n",
      "  [22 23]]]\n",
      "array.shape  \n",
      " (4, 3, 2)\n",
      "array.size  \n",
      " 24\n",
      "array.ndim  \n",
      " 3\n"
     ]
    }
   ],
   "source": [
    "aaa = np.stack([aa,bb,cc,dd], axis = 0)\n",
    "print_basics(aaa)"
   ]
  }
 ],
 "metadata": {
  "kernelspec": {
   "display_name": "Python [conda env:data_wrangling]",
   "language": "python",
   "name": "conda-env-data_wrangling-py"
  },
  "language_info": {
   "codemirror_mode": {
    "name": "ipython",
    "version": 3
   },
   "file_extension": ".py",
   "mimetype": "text/x-python",
   "name": "python",
   "nbconvert_exporter": "python",
   "pygments_lexer": "ipython3",
   "version": "3.6.5"
  }
 },
 "nbformat": 4,
 "nbformat_minor": 2
}
