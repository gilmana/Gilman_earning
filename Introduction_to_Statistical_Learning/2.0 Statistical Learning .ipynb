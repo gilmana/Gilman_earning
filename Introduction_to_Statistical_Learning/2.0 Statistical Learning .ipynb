{
 "cells": [
  {
   "cell_type": "markdown",
   "metadata": {},
   "source": [
    "# Excercises"
   ]
  },
  {
   "cell_type": "markdown",
   "metadata": {},
   "source": [
    "## Conceptual"
   ]
  },
  {
   "cell_type": "markdown",
   "metadata": {},
   "source": [
    "1)\n",
    "Indicate whether we would generally expect the performance of a flexible statistical learning method to be better \n",
    "or worse than an inflexible method. Justify your answer. "
   ]
  },
  {
   "cell_type": "markdown",
   "metadata": {},
   "source": [
    "    a) For large n and small p we would expect an inflexible model to be better in order to avoid overfitting. "
   ]
  },
  {
   "cell_type": "markdown",
   "metadata": {},
   "source": [
    "    b) For large p and small n we would expect a flexible model to perform better in order to capture more information from the limited number of data points. "
   ]
  },
  {
   "cell_type": "markdown",
   "metadata": {},
   "source": [
    "    c) A more flexible model is better at capturing highly non linear relationships. More flexible is inherintly less restricting. "
   ]
  },
  {
   "cell_type": "markdown",
   "metadata": {},
   "source": [
    "    d) A less flexible model is better suited where the irreducible error is high. The high error rate can lead to overfitting. \n",
    "   "
   ]
  },
  {
   "cell_type": "markdown",
   "metadata": {},
   "source": [
    "2) Explain whether each scenario is a regression or a classification problem and indicate whether we are most interested in inference or prediction. Provide n and p. "
   ]
  },
  {
   "cell_type": "markdown",
   "metadata": {},
   "source": [
    "    a) This is a regression problem and an inference problem. n = 500. p = profit, employees, industry, CEO salary. "
   ]
  },
  {
   "cell_type": "markdown",
   "metadata": {},
   "source": [
    "    b) This is a classification problem and we are most interested in prediction. n = 20, p = succes/failure, price, marketing budget, competition price, 10 other variables. \n",
    "    "
   ]
  },
  {
   "cell_type": "markdown",
   "metadata": {},
   "source": [
    "    c) This is a regression problem and we are most interested in predition. n = 52 weeks, p = % change in $, %change in US market, % change in british market, % change in german market. "
   ]
  },
  {
   "cell_type": "markdown",
   "metadata": {},
   "source": [
    "3) Bias-variance decomposition "
   ]
  },
  {
   "cell_type": "markdown",
   "metadata": {},
   "source": [
    "    a) \n",
    "    \n",
    "    - Bias drops significantly with increased flexibility at first then continues to gradually drop with increased flexibility. \n",
    "    - Variance increases with increased flexibility. \n",
    "    - Training error decreases with model flexibility. \n",
    "    - Test error first decreases with model flexibility to an optimum point then begins to increase again.\n",
    "    - The irreducible error remains flat with increasing flesibility. "
   ]
  },
  {
   "cell_type": "markdown",
   "metadata": {},
   "source": [
    "    b) \n",
    "    - Bias is difference from the chosen model and reality. The bias is generally high with an inflexibile model becuase its difficult to model a real world phenomenon with with few variables. Bias decreases significantly when the model becomes more flexibile and can more closely resemble the true event. \n",
    "    - Variance is the difference in the model between different sets of training data. If the model is more flexible it will cover every point more closely and therefore increasing the difference between datasets. \n",
    "    - As model flexibility increases, the training set can be fitted perfectly to a model with zero MSE. This is why its important to test the model with a test set because thats what really counts. \n",
    "    - Test error decreases with flexibility at first, because some flexibility is useful. However, if flexibility continues to increase, there will be higher and higher error with the test set because of over fitting. \n",
    "    - The irreducible error has to do with the nature of data and how it was collected and many other uncontrollable and irreducible factors. Model flexibility has zero effect on irreducible error. "
   ]
  },
  {
   "cell_type": "code",
   "execution_count": null,
   "metadata": {
    "collapsed": true
   },
   "outputs": [],
   "source": []
  }
 ],
 "metadata": {
  "kernelspec": {
   "display_name": "Python 3",
   "language": "python",
   "name": "python3"
  },
  "language_info": {
   "codemirror_mode": {
    "name": "ipython",
    "version": 3
   },
   "file_extension": ".py",
   "mimetype": "text/x-python",
   "name": "python",
   "nbconvert_exporter": "python",
   "pygments_lexer": "ipython3",
   "version": "3.4.4"
  }
 },
 "nbformat": 4,
 "nbformat_minor": 0
}
