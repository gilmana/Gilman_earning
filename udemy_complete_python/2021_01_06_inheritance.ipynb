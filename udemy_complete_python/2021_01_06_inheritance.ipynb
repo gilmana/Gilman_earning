{
 "cells": [
  {
   "cell_type": "markdown",
   "metadata": {},
   "source": [
    "# Inheritence: follow along"
   ]
  },
  {
   "cell_type": "code",
   "execution_count": null,
   "metadata": {},
   "outputs": [],
   "source": [
    "class Student:\n",
    "    def __init__(self, school, name):\n",
    "        self.school = school\n",
    "        self.name = name\n",
    "        self.mark = []\n",
    "        \n",
    "    def __repr__(self):\n",
    "        return f\"Student: {self.name} {self.mark}\"\n",
    "        \n",
    "    def average(self):\n",
    "        return (sum(self.mark)/len(self.mark)) \n",
    "\n",
    "    \n",
    "class WorkingStudent(Student):\n",
    "    def __init__(self, school, name, salary):\n",
    "        super().__init__(school, name)\n",
    "        self.salary = salary\n",
    "    \n",
    "    @property #decorator that allows this method to be used as an attribute (or property), no petenthesis needed to run\n",
    "    def weekly_salary(self):\n",
    "        return self.salary*40"
   ]
  },
  {
   "cell_type": "markdown",
   "metadata": {},
   "source": [
    "### Demo of Student class"
   ]
  },
  {
   "cell_type": "code",
   "execution_count": null,
   "metadata": {},
   "outputs": [],
   "source": [
    "student1 = Student(\"PHS\", \"Johny\")\n",
    "\n",
    "student1.mark.append(3)\n",
    "student1.mark.append(4)\n",
    "student1.mark.append(5)\n",
    "student1.mark.append(6)"
   ]
  },
  {
   "cell_type": "code",
   "execution_count": null,
   "metadata": {},
   "outputs": [],
   "source": [
    "print(student1.school)\n",
    "print(student1.name)\n",
    "print(student1.mark)\n",
    "print(student1.average())"
   ]
  },
  {
   "cell_type": "markdown",
   "metadata": {},
   "source": [
    "### Demo of inheritance, WorkingStudent class"
   ]
  },
  {
   "cell_type": "code",
   "execution_count": null,
   "metadata": {},
   "outputs": [],
   "source": [
    "rolf = WorkingStudent(\"Lakeside\", \"peppy\", 15.5)\n",
    "\n",
    "rolf.mark.append(10)\n",
    "rolf.mark.append(16)\n",
    "rolf.mark.append(17)\n",
    "rolf.mark.append(19)\n",
    "\n",
    "print(rolf.average())\n",
    "print(rolf.weekly_salary) #decorator allows weekly_salary to be static value instead of method, no perenthesis needed"
   ]
  },
  {
   "cell_type": "markdown",
   "metadata": {},
   "source": [
    "# @classmethod and @staticmethod following along"
   ]
  },
  {
   "cell_type": "code",
   "execution_count": null,
   "metadata": {},
   "outputs": [],
   "source": [
    "class Foo:\n",
    "    @classmethod #takes the class iteself as the argument \n",
    "    def hi(cls):\n",
    "        print(cls.__name__)\n",
    "\n",
    "class Bar:\n",
    "    @staticmethod #takes no argument at all\n",
    "    def hi():\n",
    "        print(\"hi I dont take parameters.\")"
   ]
  },
  {
   "cell_type": "code",
   "execution_count": null,
   "metadata": {},
   "outputs": [],
   "source": [
    "class Math:\n",
    "    @staticmethod\n",
    "    def divide(value1, value2):\n",
    "        return (round(value1 / value2, 2))"
   ]
  },
  {
   "cell_type": "code",
   "execution_count": null,
   "metadata": {},
   "outputs": [],
   "source": [
    "class SigFig:\n",
    "    def __init__(self, value):\n",
    "        self.value = value\n",
    "    \n",
    "    def sigfig(self):\n",
    "        return round(self.value, 2) "
   ]
  },
  {
   "cell_type": "code",
   "execution_count": null,
   "metadata": {},
   "outputs": [],
   "source": [
    "class FixedFloat:\n",
    "    def __init__(self, amount):\n",
    "        self.amount = amount\n",
    "    \n",
    "    def __repr__(self):\n",
    "        return f\"FixedFloat {self.amount:.2f}\"\n",
    "    \n",
    "    @staticmethod\n",
    "    def from_sum(value1, value2):\n",
    "        return FixedFloat(value1 + value2)"
   ]
  },
  {
   "cell_type": "code",
   "execution_count": null,
   "metadata": {},
   "outputs": [],
   "source": [
    "class Euro(FixedFloat):\n",
    "    def __init__(self, amount):\n",
    "        super().__init__(amount)\n",
    "        self.symbol = \"$\"\n",
    "        \n",
    "    def __repr__(self):\n",
    "        return f\"Euro {self.symbol}{self.amount:.2f}\"\n",
    "        "
   ]
  },
  {
   "cell_type": "markdown",
   "metadata": {},
   "source": [
    "### Demo @classmethod decorators"
   ]
  },
  {
   "cell_type": "code",
   "execution_count": null,
   "metadata": {},
   "outputs": [],
   "source": [
    "my_object = Foo()\n",
    "my_object.hi()"
   ]
  },
  {
   "cell_type": "code",
   "execution_count": null,
   "metadata": {},
   "outputs": [],
   "source": [
    "my_object_2 = Bar()\n",
    "my_object_2.hi()"
   ]
  },
  {
   "cell_type": "code",
   "execution_count": null,
   "metadata": {},
   "outputs": [],
   "source": [
    "Math.divide(24, 43)"
   ]
  },
  {
   "cell_type": "code",
   "execution_count": null,
   "metadata": {},
   "outputs": [],
   "source": [
    "value = SigFig(50.534342)\n",
    "value.sigfig()"
   ]
  },
  {
   "cell_type": "markdown",
   "metadata": {},
   "source": [
    "Experimental playground"
   ]
  },
  {
   "cell_type": "code",
   "execution_count": null,
   "metadata": {},
   "outputs": [],
   "source": [
    "new = FixedFloat(200)\n",
    "new"
   ]
  },
  {
   "cell_type": "code",
   "execution_count": null,
   "metadata": {},
   "outputs": [],
   "source": [
    "new_1 = FixedFloat.from_sum(220.3, 232)\n",
    "new_1"
   ]
  },
  {
   "cell_type": "code",
   "execution_count": null,
   "metadata": {},
   "outputs": [],
   "source": [
    "money = Euro(15.323)\n",
    "money"
   ]
  },
  {
   "cell_type": "code",
   "execution_count": null,
   "metadata": {},
   "outputs": [],
   "source": [
    "money = Euro.from_sum(53.43, 434.2)\n",
    "money"
   ]
  },
  {
   "cell_type": "markdown",
   "metadata": {},
   "source": [
    "# Modified inheritence loop and decorators logic"
   ]
  },
  {
   "cell_type": "code",
   "execution_count": null,
   "metadata": {},
   "outputs": [],
   "source": [
    "class FixedFloat:\n",
    "    def __init__(self, amount):\n",
    "        self.amount = amount\n",
    "    \n",
    "    def __repr__(self):\n",
    "        return f\"FixedFloat {self.amount:.2f}\"\n",
    "    \n",
    "    @classmethod #changed to classmethod\n",
    "    def from_sum (cls, value1, value2):\n",
    "        return cls(value1 + value2)"
   ]
  },
  {
   "cell_type": "code",
   "execution_count": null,
   "metadata": {},
   "outputs": [],
   "source": [
    "class Euro(FixedFloat):\n",
    "    def __init__(self, amount):\n",
    "        super().__init__(amount)\n",
    "        self.symbol = \"$\"\n",
    "        \n",
    "    def __repr__(self):\n",
    "        return f\"Euro {self.symbol}{self.amount:.2f}\""
   ]
  },
  {
   "cell_type": "code",
   "execution_count": null,
   "metadata": {},
   "outputs": [],
   "source": [
    "money = Euro(15.323)\n",
    "money"
   ]
  },
  {
   "cell_type": "code",
   "execution_count": null,
   "metadata": {},
   "outputs": [],
   "source": [
    "money = Euro.from_sum(53.43, 434.2)\n",
    "money"
   ]
  },
  {
   "cell_type": "code",
   "execution_count": null,
   "metadata": {},
   "outputs": [],
   "source": []
  }
 ],
 "metadata": {
  "kernelspec": {
   "display_name": "Python 3",
   "language": "python",
   "name": "python3"
  },
  "language_info": {
   "codemirror_mode": {
    "name": "ipython",
    "version": 3
   },
   "file_extension": ".py",
   "mimetype": "text/x-python",
   "name": "python",
   "nbconvert_exporter": "python",
   "pygments_lexer": "ipython3",
   "version": "3.6.12"
  }
 },
 "nbformat": 4,
 "nbformat_minor": 4
}
