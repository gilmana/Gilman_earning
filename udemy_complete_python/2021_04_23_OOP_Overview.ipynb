{
 "cells": [
  {
   "cell_type": "markdown",
   "metadata": {},
   "source": [
    "# Teaching about classes and object oriented programming"
   ]
  },
  {
   "cell_type": "markdown",
   "metadata": {},
   "source": [
    "Creating a class is very easy:"
   ]
  },
  {
   "cell_type": "code",
   "execution_count": null,
   "metadata": {},
   "outputs": [],
   "source": [
    "#Simply decalre a class object and declare one or more variables\n",
    "class Bah:\n",
    "    x = 5\n",
    "    y = \"this is a string\"\n",
    "    z = [1,2,3,4,5]"
   ]
  },
  {
   "cell_type": "markdown",
   "metadata": {},
   "source": [
    "The values x,y,z are attributes of a class and can be called using the . notation:"
   ]
  },
  {
   "cell_type": "code",
   "execution_count": null,
   "metadata": {},
   "outputs": [],
   "source": [
    "Bah.z"
   ]
  },
  {
   "cell_type": "code",
   "execution_count": null,
   "metadata": {},
   "outputs": [],
   "source": [
    "print(Bah.x)\n",
    "print(Bah.y)\n",
    "print(Bah.z)\n",
    "\n",
    "print()\n",
    "\n",
    "print(type(Bah.x))\n",
    "print(type(Bah.y))\n",
    "print(type(Bah.z))"
   ]
  },
  {
   "cell_type": "markdown",
   "metadata": {},
   "source": [
    "A class can have built in functions (methods), that can be called just like attributes but with a \"()\" at the end. "
   ]
  },
  {
   "cell_type": "code",
   "execution_count": null,
   "metadata": {},
   "outputs": [],
   "source": [
    "class Bah:\n",
    "    x = 5\n",
    "    y = \"this is a string\"\n",
    "    z = [1,2,3,4,5]\n",
    "    \n",
    "    def print_fnc():\n",
    "        print(\"This is a pring function\")\n",
    "    \n",
    "    def replace_z(i): #notice that this method replaces the attribute of the class itself (it changes the class)\n",
    "        Bah.z = i\n"
   ]
  },
  {
   "cell_type": "code",
   "execution_count": null,
   "metadata": {},
   "outputs": [],
   "source": [
    "Bah.print_fnc()"
   ]
  },
  {
   "cell_type": "code",
   "execution_count": null,
   "metadata": {},
   "outputs": [],
   "source": [
    "Bah.replace_z([3.141517, 1942, 1010101])\n",
    "Bah.z"
   ]
  },
  {
   "cell_type": "markdown",
   "metadata": {},
   "source": [
    "One of the most powerful features of a class, is that the class can be used to create objects of that class. This object has all the attributes of the class. This object can be used to invoke all the mothods of the class.\n",
    "\n",
    "to instantiate a class object, assign it to a variable and include perenthesis. If the perenthesis are missing, you simply pointing a variable to the class definition."
   ]
  },
  {
   "cell_type": "code",
   "execution_count": null,
   "metadata": {},
   "outputs": [],
   "source": [
    "bee = Bah #pointing the the same class definition\n",
    "see = Bah() #attempt to instantiate a class object"
   ]
  },
  {
   "cell_type": "code",
   "execution_count": null,
   "metadata": {},
   "outputs": [],
   "source": [
    "print(type(bee))\n",
    "print(type(see))"
   ]
  },
  {
   "cell_type": "markdown",
   "metadata": {},
   "source": [
    "Notice the class \"type\", \n",
    "\n",
    "Explanation:\n",
    "\"Everything in Python is an object including classes. Since classes form a kind object, they are all instances of a class called \"type\"\"\n",
    "\n",
    "Whereas the __main__.Bah indicates that this is an object instance from the main source. This will come up again later. "
   ]
  },
  {
   "cell_type": "markdown",
   "metadata": {},
   "source": [
    "the variable \"see\" was instantiated as an object, therefore the objects methods should be callable. However, a cruicial piece is missing in the class to complete this. It may seem a bit strange at first..."
   ]
  },
  {
   "cell_type": "code",
   "execution_count": null,
   "metadata": {},
   "outputs": [],
   "source": [
    "#the following call will not work because the class is missing an __init__(self)\n",
    "see.print_fnc()"
   ]
  },
  {
   "cell_type": "markdown",
   "metadata": {},
   "source": [
    "An argument of the variable iteslf is assumed to be passing through the class when the object is created. \n",
    "\n",
    "see = Bah()\n",
    "\n",
    "This can be corrected. "
   ]
  },
  {
   "cell_type": "code",
   "execution_count": null,
   "metadata": {},
   "outputs": [],
   "source": [
    "class Bah:\n",
    "    x = 5\n",
    "    y = \"this is a string\"\n",
    "    z = [1,2,3,4,5]\n",
    "    \n",
    "    def __init__(self): #a new function was added. This is need to create class object types using this class.\n",
    "        pass\n",
    "    \n",
    "    def print_fnc(self): #the argument self is added because it was used in the __init__ method above\n",
    "        print(\"This is a pring function\")\n",
    "    \n",
    "    def replace_z(i):\n",
    "        Bah.z = i\n",
    " "
   ]
  },
  {
   "cell_type": "code",
   "execution_count": null,
   "metadata": {},
   "outputs": [],
   "source": [
    "see = Bah()\n",
    "see.print_fnc()"
   ]
  },
  {
   "cell_type": "code",
   "execution_count": null,
   "metadata": {},
   "outputs": [],
   "source": [
    "#Notice that this is still an error\n",
    "see.replace_z(4)"
   ]
  },
  {
   "cell_type": "markdown",
   "metadata": {},
   "source": [
    "The self argument is expected as the first argument of every method."
   ]
  },
  {
   "cell_type": "code",
   "execution_count": null,
   "metadata": {},
   "outputs": [],
   "source": [
    "class Bah:\n",
    "    x = 5\n",
    "    y = \"this is a string\"\n",
    "    z = [1,2,3,4,5]\n",
    "    \n",
    "    def __init__(self): #a new function was added. This is need to create class object types using this class.\n",
    "        pass\n",
    "    \n",
    "    def print_fnc(self): #the argument self is added because it was used in the __init__ method above\n",
    "        print(\"This is a pring function\")\n",
    "    \n",
    "    def replace_z(self, i):\n",
    "        Bah.z = i"
   ]
  },
  {
   "cell_type": "code",
   "execution_count": null,
   "metadata": {},
   "outputs": [],
   "source": [
    "see = Bah()\n",
    "see.replace_z(4)\n",
    "print(see.z)"
   ]
  },
  {
   "cell_type": "markdown",
   "metadata": {},
   "source": [
    "Now the power of the class object can be truly explored. "
   ]
  },
  {
   "cell_type": "code",
   "execution_count": null,
   "metadata": {},
   "outputs": [],
   "source": [
    "class Bah:\n",
    "\n",
    "    class_attribute = 5\n",
    "\n",
    "    def __init__(self): \n",
    "        self.object_variable = [10,11,12]\n",
    "    \n",
    "    def print_fnc(self):\n",
    "        print(\"This is a pring function\")\n",
    "    \n",
    "    def append_object(self, i):\n",
    "        self.object_variable.append(i)"
   ]
  },
  {
   "cell_type": "code",
   "execution_count": null,
   "metadata": {},
   "outputs": [],
   "source": [
    "foo = Bah()\n",
    "print(f\" class_attribute: {foo.class_attribute}, object_variable: {foo.object_variable}\")"
   ]
  },
  {
   "cell_type": "code",
   "execution_count": null,
   "metadata": {},
   "outputs": [],
   "source": [
    "foo.append_object(20)\n",
    "print(f\" class_attribute: {foo.class_attribute}, object_variable: {foo.object_variable}\")"
   ]
  },
  {
   "cell_type": "markdown",
   "metadata": {},
   "source": [
    "Notice that the above method can be called with the following:"
   ]
  },
  {
   "cell_type": "code",
   "execution_count": null,
   "metadata": {},
   "outputs": [],
   "source": [
    "Bah.append_object(foo, 1935)\n",
    "print(foo.object_variable)"
   ]
  },
  {
   "cell_type": "markdown",
   "metadata": {},
   "source": [
    "It is therefore always implied, that the object itself is passed as the first argument when the method is called."
   ]
  },
  {
   "cell_type": "code",
   "execution_count": null,
   "metadata": {},
   "outputs": [],
   "source": [
    "class Bar:\n",
    "    def __init__(self, arg):\n",
    "        self.arg = arg\n",
    "        self.bah = Bah()"
   ]
  },
  {
   "cell_type": "code",
   "execution_count": null,
   "metadata": {},
   "outputs": [],
   "source": [
    "b = Bar(foo)"
   ]
  },
  {
   "cell_type": "code",
   "execution_count": null,
   "metadata": {},
   "outputs": [],
   "source": [
    "b.arg.object_variable"
   ]
  },
  {
   "cell_type": "code",
   "execution_count": null,
   "metadata": {},
   "outputs": [],
   "source": [
    "b.bah.object_variable"
   ]
  },
  {
   "cell_type": "markdown",
   "metadata": {},
   "source": [
    "#### The special dunder methods"
   ]
  },
  {
   "cell_type": "markdown",
   "metadata": {},
   "source": [
    "double underscore methods like __init__ are special. They call a build in python method. While a class can be created with a dunder method for anything, it should only be reserved for the special built-in dunder methods. "
   ]
  },
  {
   "cell_type": "code",
   "execution_count": null,
   "metadata": {},
   "outputs": [],
   "source": [
    "class Grr:\n",
    "    kind = \"growl\"\n",
    "    grr_list = [1,2,3,4,5]\n",
    "    \n",
    "    def __init__(self):\n",
    "        self.var_int = 4\n",
    "        self.var_list = [5,4,3,2,1]\n",
    "    \n",
    "    def __len__(self):\n",
    "        print(\"do something\")"
   ]
  },
  {
   "cell_type": "code",
   "execution_count": null,
   "metadata": {},
   "outputs": [],
   "source": [
    "pero = Grr()\n",
    "pero.__len__()"
   ]
  },
  {
   "cell_type": "markdown",
   "metadata": {},
   "source": [
    "This is not wise to do because the __len__() is a built-in method to perform a specific task. Calculate the len of a list."
   ]
  },
  {
   "cell_type": "code",
   "execution_count": null,
   "metadata": {},
   "outputs": [],
   "source": [
    "[1,2,3,4].__len__()"
   ]
  },
  {
   "cell_type": "code",
   "execution_count": null,
   "metadata": {},
   "outputs": [],
   "source": [
    "len([1,2,3,4]) #this is equivolent to the above. "
   ]
  },
  {
   "cell_type": "markdown",
   "metadata": {},
   "source": [
    "len([1,2,3]) and [1,2,3].__len__() are used interchangably. Therefore, when a class has a defined dunder method that performs a non-native task. "
   ]
  },
  {
   "cell_type": "code",
   "execution_count": null,
   "metadata": {},
   "outputs": [],
   "source": [
    "#this will not work, the len function in this case is a native function.\n",
    "len(pero)"
   ]
  },
  {
   "cell_type": "code",
   "execution_count": null,
   "metadata": {},
   "outputs": [],
   "source": [
    "class Grr:\n",
    "    kind = \"growl\"\n",
    "    grr_list = [1,2,3,4,5,6,7,8,9,10]\n",
    "    \n",
    "    def __init__(self):\n",
    "        self.var_int = 4\n",
    "        self.var_list = [3,2,1]\n",
    "    \n",
    "    def __len__(self):\n",
    "        return len(self.grr_list) #notice that we are calling a CLASS attribute"
   ]
  },
  {
   "cell_type": "code",
   "execution_count": null,
   "metadata": {},
   "outputs": [],
   "source": [
    "pero = Grr()\n",
    "pero.__len__()"
   ]
  },
  {
   "cell_type": "code",
   "execution_count": null,
   "metadata": {},
   "outputs": [],
   "source": [
    "len(pero)"
   ]
  },
  {
   "cell_type": "code",
   "execution_count": null,
   "metadata": {},
   "outputs": [],
   "source": [
    "class Grr:\n",
    "    kind = \"growl\"\n",
    "    grr_list = [1,2,3,4,5,6,7,8,9,10]\n",
    "    \n",
    "    def __init__(self):\n",
    "        self.var_int = 4\n",
    "        self.var_list = [3,2,1]\n",
    "    \n",
    "    def __len__(self):\n",
    "        return len(self.var_list) #notice we are now caling an OBJECT attribute"
   ]
  },
  {
   "cell_type": "code",
   "execution_count": null,
   "metadata": {},
   "outputs": [],
   "source": [
    "pero = Grr()\n",
    "pero.__len__()"
   ]
  },
  {
   "cell_type": "code",
   "execution_count": null,
   "metadata": {},
   "outputs": [],
   "source": [
    "len(pero)"
   ]
  },
  {
   "cell_type": "code",
   "execution_count": null,
   "metadata": {},
   "outputs": [],
   "source": [
    "help(Grr)"
   ]
  }
 ],
 "metadata": {
  "kernelspec": {
   "display_name": "Python [conda env:data_wrangling20] *",
   "language": "python",
   "name": "conda-env-data_wrangling20-py"
  },
  "language_info": {
   "codemirror_mode": {
    "name": "ipython",
    "version": 3
   },
   "file_extension": ".py",
   "mimetype": "text/x-python",
   "name": "python",
   "nbconvert_exporter": "python",
   "pygments_lexer": "ipython3",
   "version": "3.6.12"
  }
 },
 "nbformat": 4,
 "nbformat_minor": 4
}
