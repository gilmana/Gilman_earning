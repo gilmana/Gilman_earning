{
 "cells": [
  {
   "cell_type": "code",
   "execution_count": 1,
   "metadata": {},
   "outputs": [],
   "source": [
    "import numpy as np\n",
    "import pandas as pd"
   ]
  },
  {
   "cell_type": "markdown",
   "metadata": {},
   "source": [
    "https://mitchellt.com/math/2018/08/11/derivation-of-monthly-payment-formula.html\n",
    "\n",
    "https://smartasset.com/mortgage/mistakes-to-avoid-when-paying-off-your-mortgage-early\n"
   ]
  },
  {
   "cell_type": "code",
   "execution_count": 2,
   "metadata": {},
   "outputs": [],
   "source": [
    "loan_params = []\n",
    "\n",
    "def create_loan():\n",
    "    \"\"\"\n",
    "    Everytime the function is run, the user will be asked to enter paramers\n",
    "    of the loan. The parameters of each loan are appended as a dictionary to\n",
    "    a list containing all the laons of interest.\n",
    "    \"\"\"\n",
    "    #enter terms of loan\n",
    "    name = input(\"Assign name to the loan: \")\n",
    "    \n",
    "    principle = float(input(\"Loan ammount: \"))\n",
    "    rate = (float(input(\"Annual interest rate (%): \")))\n",
    "    duration = (int(input(\"loan duration in years: \")))\n",
    "    \n",
    "    p = principle\n",
    "    r = rate/10/100\n",
    "    n = duration*12\n",
    "    \n",
    "    #Calculating monthly payment\n",
    "    numerator = r*p*((1+r)**n)\n",
    "    denomenator = ((1+r)**n)-1\n",
    "    m = numerator/denomenator\n",
    "      \n",
    "    #append loan to loans list\n",
    "    loan_params.append({\"loan_id\": name,\n",
    "                         \"principle\": principle,\n",
    "                         \"rate\": rate,\n",
    "                         \"duration\": duration,\n",
    "                         \"m_payment\": m})\n",
    "    \n",
    "    \n",
    "def amortization_schedule():\n",
    "    \n",
    "    amortization = {}\n",
    "    \n",
    "    for i in loan_params:\n",
    "        \n",
    "        name = i[\"loan_id\"]\n",
    "        n = i[\"duration\"]*12\n",
    "        m = i[\"m_payment\"]\n",
    "        \n",
    "        \n",
    "        month_series = np.arange(1, (n+1))\n",
    "        payment_series = np.full((n,), m)\n",
    "        \n",
    "        \n",
    "        df = pd.DataFrame({\"Month\": month_series, \"Payment\": payment_series})\n",
    "        df[\"Total paid\"] = df[\"Payment\"].cumsum().round(1) #total paid\n",
    "        \n",
    "        amortization[name] = df\n",
    "    \n",
    "    return amortization"
   ]
  },
  {
   "cell_type": "code",
   "execution_count": 3,
   "metadata": {},
   "outputs": [
    {
     "name": "stdout",
     "output_type": "stream",
     "text": [
      "Assign name to the loan: Loan_1\n",
      "Loan ammount: 600000\n",
      "Annual interest rate (%): 2.7\n",
      "loan duration in years: 30\n"
     ]
    }
   ],
   "source": [
    "create_loan()"
   ]
  },
  {
   "cell_type": "code",
   "execution_count": 4,
   "metadata": {},
   "outputs": [
    {
     "name": "stdout",
     "output_type": "stream",
     "text": [
      "Assign name to the loan: Loan_2\n",
      "Loan ammount: 600000\n",
      "Annual interest rate (%): 2.3\n",
      "loan duration in years: 15\n"
     ]
    }
   ],
   "source": [
    "create_loan()"
   ]
  },
  {
   "cell_type": "code",
   "execution_count": 5,
   "metadata": {},
   "outputs": [],
   "source": [
    "dict_dataframe = amortization_schedule()"
   ]
  },
  {
   "cell_type": "code",
   "execution_count": 7,
   "metadata": {},
   "outputs": [
    {
     "data": {
      "text/plain": [
       "[{'loan_id': 'Loan_1',\n",
       "  'principle': 600000.0,\n",
       "  'rate': 2.7,\n",
       "  'duration': 30,\n",
       "  'm_payment': 2607.946031394711},\n",
       " {'loan_id': 'Loan_2',\n",
       "  'principle': 600000.0,\n",
       "  'rate': 2.3,\n",
       "  'duration': 15,\n",
       "  'm_payment': 4074.5855459245086}]"
      ]
     },
     "execution_count": 7,
     "metadata": {},
     "output_type": "execute_result"
    }
   ],
   "source": [
    "loan_params"
   ]
  },
  {
   "cell_type": "code",
   "execution_count": 6,
   "metadata": {},
   "outputs": [
    {
     "data": {
      "text/plain": [
       "{'Loan_1':      Month      Payment  Total paid\n",
       " 0        1  2607.946031      2607.9\n",
       " 1        2  2607.946031      5215.9\n",
       " 2        3  2607.946031      7823.8\n",
       " 3        4  2607.946031     10431.8\n",
       " 4        5  2607.946031     13039.7\n",
       " ..     ...          ...         ...\n",
       " 355    356  2607.946031    928428.8\n",
       " 356    357  2607.946031    931036.7\n",
       " 357    358  2607.946031    933644.7\n",
       " 358    359  2607.946031    936252.6\n",
       " 359    360  2607.946031    938860.6\n",
       " \n",
       " [360 rows x 3 columns],\n",
       " 'Loan_2':      Month      Payment  Total paid\n",
       " 0        1  4074.585546      4074.6\n",
       " 1        2  4074.585546      8149.2\n",
       " 2        3  4074.585546     12223.8\n",
       " 3        4  4074.585546     16298.3\n",
       " 4        5  4074.585546     20372.9\n",
       " ..     ...          ...         ...\n",
       " 175    176  4074.585546    717127.1\n",
       " 176    177  4074.585546    721201.6\n",
       " 177    178  4074.585546    725276.2\n",
       " 178    179  4074.585546    729350.8\n",
       " 179    180  4074.585546    733425.4\n",
       " \n",
       " [180 rows x 3 columns]}"
      ]
     },
     "execution_count": 6,
     "metadata": {},
     "output_type": "execute_result"
    }
   ],
   "source": [
    "dict_dataframe"
   ]
  },
  {
   "cell_type": "code",
   "execution_count": 8,
   "metadata": {},
   "outputs": [
    {
     "data": {
      "text/plain": [
       "205435"
      ]
     },
     "execution_count": 8,
     "metadata": {},
     "output_type": "execute_result"
    }
   ],
   "source": [
    "938860 - 733425"
   ]
  },
  {
   "cell_type": "code",
   "execution_count": 9,
   "metadata": {},
   "outputs": [
    {
     "data": {
      "text/plain": [
       "6847.833333333333"
      ]
     },
     "execution_count": 9,
     "metadata": {},
     "output_type": "execute_result"
    }
   ],
   "source": [
    "205435/30"
   ]
  },
  {
   "cell_type": "code",
   "execution_count": 10,
   "metadata": {},
   "outputs": [
    {
     "data": {
      "text/plain": [
       "2282.3333333333335"
      ]
     },
     "execution_count": 10,
     "metadata": {},
     "output_type": "execute_result"
    }
   ],
   "source": [
    "6847/3"
   ]
  },
  {
   "cell_type": "markdown",
   "metadata": {},
   "source": [
    "# Appendix"
   ]
  },
  {
   "cell_type": "code",
   "execution_count": null,
   "metadata": {},
   "outputs": [],
   "source": [
    "dict_terms = {}\n",
    "\n",
    "def define_terms():\n",
    "    name = input(\"Assign name to the loan: \")\n",
    "    p = float(input(\"Loan ammount: \"))\n",
    "    r = (float(input(\"Annual interest rate (%): \")))/12/100\n",
    "    n = (int(input(\"loan duration in years: \")))*12\n",
    "    \n",
    "    monthly_numerator = r*p*((1+r)**n)\n",
    "    monthly_den = ((1+r)**n)-1\n",
    "    \n",
    "    m = monthly_numerator/monthly_den\n",
    "    \n",
    "    dict_terms[name] = [p,r,n,m] "
   ]
  },
  {
   "cell_type": "code",
   "execution_count": null,
   "metadata": {},
   "outputs": [],
   "source": []
  }
 ],
 "metadata": {
  "kernelspec": {
   "display_name": "Python 3",
   "language": "python",
   "name": "python3"
  },
  "language_info": {
   "codemirror_mode": {
    "name": "ipython",
    "version": 3
   },
   "file_extension": ".py",
   "mimetype": "text/x-python",
   "name": "python",
   "nbconvert_exporter": "python",
   "pygments_lexer": "ipython3",
   "version": "3.6.12"
  }
 },
 "nbformat": 4,
 "nbformat_minor": 4
}
