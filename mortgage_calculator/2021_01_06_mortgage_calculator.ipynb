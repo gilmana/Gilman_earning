{
 "cells": [
  {
   "cell_type": "code",
   "execution_count": 3,
   "metadata": {},
   "outputs": [],
   "source": [
    "import numpy as np\n",
    "import pandas as pd"
   ]
  },
  {
   "cell_type": "code",
   "execution_count": null,
   "metadata": {},
   "outputs": [],
   "source": [
    "https://mitchellt.com/math/2018/08/11/derivation-of-monthly-payment-formula.html"
   ]
  },
  {
   "cell_type": "code",
   "execution_count": 4,
   "metadata": {},
   "outputs": [],
   "source": [
    "dict_terms = {}\n",
    "\n",
    "def define_terms():\n",
    "    name = input(\"Assign name to the loan: \")\n",
    "    p = float(input(\"Loan ammount: \"))\n",
    "    r = (float(input(\"Annual interest rate (%): \")))/12/10\n",
    "    n = (int(input(\"loan duration in years: \")))*12\n",
    "    \n",
    "    monthly_numerator = r*p*((1+r)**n)\n",
    "    monthly_den = ((1+r)**n)-1\n",
    "    \n",
    "    m = monthly_numerator/monthly_den\n",
    "    \n",
    "    dict_terms[name] = [p,r,n,m] \n",
    "    "
   ]
  },
  {
   "cell_type": "code",
   "execution_count": 5,
   "metadata": {},
   "outputs": [],
   "source": [
    "dict_data = {}\n",
    "\n",
    "for key, values in dict_terms.items():\n",
    "    \n",
    "    \n",
    "    months = np.arange(1, (values[2]+1))\n",
    "    payments = np.full((values[2],), values[3])\n",
    "    \n",
    "    df = pd.DataFrame({\"Month\": months, \"Payment\":payments})\n",
    "    df[\"Total paid\"] = df[\"Payment\"].cumsum().round(1)\n",
    "    \n",
    "    dict_data[key] = df\n"
   ]
  },
  {
   "cell_type": "code",
   "execution_count": 6,
   "metadata": {},
   "outputs": [
    {
     "name": "stdout",
     "output_type": "stream",
     "text": [
      "Assign name to the loan: LOAN 100K\n",
      "Loan ammount: 100000\n",
      "Annual interest rate (%): 3.9\n",
      "loan duration in years: 30\n"
     ]
    }
   ],
   "source": [
    "define_terms()"
   ]
  },
  {
   "cell_type": "code",
   "execution_count": 7,
   "metadata": {},
   "outputs": [
    {
     "data": {
      "text/plain": [
       "{'LOAN 100K': [100000.0, 0.0325, 360, 3250.0324687808206]}"
      ]
     },
     "execution_count": 7,
     "metadata": {},
     "output_type": "execute_result"
    }
   ],
   "source": [
    "dict_terms"
   ]
  },
  {
   "cell_type": "code",
   "execution_count": 8,
   "metadata": {},
   "outputs": [
    {
     "data": {
      "text/plain": [
       "0.39"
      ]
     },
     "execution_count": 8,
     "metadata": {},
     "output_type": "execute_result"
    }
   ],
   "source": [
    "3.9/10"
   ]
  },
  {
   "cell_type": "code",
   "execution_count": 9,
   "metadata": {},
   "outputs": [
    {
     "data": {
      "text/plain": [
       "0.0325"
      ]
     },
     "execution_count": 9,
     "metadata": {},
     "output_type": "execute_result"
    }
   ],
   "source": [
    "0.39/12"
   ]
  },
  {
   "cell_type": "code",
   "execution_count": 10,
   "metadata": {},
   "outputs": [
    {
     "data": {
      "text/plain": [
       "3000.0"
      ]
     },
     "execution_count": 10,
     "metadata": {},
     "output_type": "execute_result"
    }
   ],
   "source": [
    "90000/30"
   ]
  },
  {
   "cell_type": "code",
   "execution_count": null,
   "metadata": {},
   "outputs": [],
   "source": []
  }
 ],
 "metadata": {
  "kernelspec": {
   "display_name": "Python [conda env:data_wrangling20] *",
   "language": "python",
   "name": "conda-env-data_wrangling20-py"
  },
  "language_info": {
   "codemirror_mode": {
    "name": "ipython",
    "version": 3
   },
   "file_extension": ".py",
   "mimetype": "text/x-python",
   "name": "python",
   "nbconvert_exporter": "python",
   "pygments_lexer": "ipython3",
   "version": "3.6.12"
  }
 },
 "nbformat": 4,
 "nbformat_minor": 4
}
